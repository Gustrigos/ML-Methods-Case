{
 "cells": [
  {
   "cell_type": "markdown",
   "metadata": {},
   "source": [
    "# Apprentice Chef Report to Management"
   ]
  },
  {
   "cell_type": "markdown",
   "metadata": {},
   "source": [
    "<b>Student</b>: Gustavo A. Trigos \n",
    "\n",
    "<b>Class Cohort</b>: MsBA3\n",
    "\n",
    "<b>Class</b>: Machine Learning - DAT5303"
   ]
  },
  {
   "cell_type": "markdown",
   "metadata": {},
   "source": [
    "## Executive Summary (Report to Management)"
   ]
  },
  {
   "cell_type": "markdown",
   "metadata": {},
   "source": [
    "### Introduction"
   ]
  },
  {
   "cell_type": "markdown",
   "metadata": {},
   "source": [
    "The Data team was tasked to utilize aggregated customer information to estimate both revenue over the first year of each customer’s life cycle and the type of customer that converts to the Halfway There cross-selling promotion. A set of regression and classification models were developed."
   ]
  },
  {
   "cell_type": "markdown",
   "metadata": {},
   "source": [
    "### Insights and Recommendations for Revenue"
   ]
  },
  {
   "cell_type": "markdown",
   "metadata": {},
   "source": [
    "The model found that a percentage increase in the ratio between the number of times a customer attended a master class and the average meal preparation time in seconds [the ratio] decreases revenue by 2.50%. Moreover, a percentage increase in the number of master classes attended per customer increased revenue by 55 basis points. \n",
    "\n",
    "* The team recommends the company to increase the number of hosted master cooking classes from a quarterly frequency to a monthly frequency to increase customer attendance. \n",
    "* Because the ratio diminishes the prospects of estimated revenue, the team advises the company to produce longer and more advanced meal preparation videos. This change can increase the average time it takes customers to watch the videos, consequently increasing video retention.\n"
   ]
  },
  {
   "cell_type": "markdown",
   "metadata": {},
   "source": [
    "### Insights and Recommendations for Cross-Sales Success"
   ]
  },
  {
   "cell_type": "markdown",
   "metadata": {},
   "source": [
    "The top two characteristics to explain cross-sell promotion success according to the model are the email category of a customer. While there was no significant difference between the proportions of those customers with personal or professional emails that converted to the promotion, 92% of the costumes with junk email did not convert. \n",
    "\n",
    "* Assuming junk emails ignore marketing communication, it is recommended for the marketing team to create an online campaign with a custom email audience. This can increase the effectiveness in targeting new customers that would be more susceptible to register with non-junk emails and join promotions. \n",
    "* To avoid getting high cost per customer acquisition, the email audience can be generalized by removing certain domains from the junk category.\n"
   ]
  },
  {
   "cell_type": "markdown",
   "metadata": {},
   "source": [
    "### Model Results"
   ]
  },
  {
   "cell_type": "code",
   "execution_count": 135,
   "metadata": {
    "code_folding": [
     0
    ]
   },
   "outputs": [
    {
     "name": "stdout",
     "output_type": "stream",
     "text": [
      "Revenue: Highest R-squared of 0.819 with Ordinary Least Square (OLS) Regression.\n",
      "Cross-Sales Success: Highest Area Under the Curve (AUC) score of 0.8473 with Gradient Boosting Machine.\n"
     ]
    }
   ],
   "source": [
    "# Model Results\n",
    "print(\"Revenue: Highest R-squared of 0.819 with Ordinary Least Square (OLS) Regression.\")\n",
    "print(\"Cross-Sales Success: Highest Area Under the Curve (AUC) score of 0.847 with Gradient Boosting Machine.\")"
   ]
  },
  {
   "cell_type": "markdown",
   "metadata": {},
   "source": [
    "# Appendix: Model Development Code"
   ]
  },
  {
   "cell_type": "markdown",
   "metadata": {},
   "source": [
    "## Libraries"
   ]
  },
  {
   "cell_type": "code",
   "execution_count": 68,
   "metadata": {
    "code_folding": [
     0
    ]
   },
   "outputs": [],
   "source": [
    "# Data exploration and manipulation essentials\n",
    "import numpy as np \n",
    "import pandas as pd\n",
    "import matplotlib.pyplot as plt\n",
    "import seaborn as sns\n",
    "import random as rand\n",
    "\n",
    "# Statistic tests\n",
    "from scipy import stats\n",
    "from statsmodels.stats.outliers_influence import variance_inflation_factor # Calculating VIF\n",
    "\n",
    "# Preprocessing\n",
    "from sklearn.preprocessing import MinMaxScaler, StandardScaler\n",
    "from sklearn.model_selection import train_test_split\n",
    "\n",
    "# Regression Models\n",
    "from sklearn.linear_model import LinearRegression\n",
    "\n",
    "# Classification Models\n",
    "import statsmodels.formula.api as smf\n",
    "from sklearn.linear_model import LogisticRegression\n",
    "from sklearn.neighbors import KNeighborsClassifier\n",
    "from sklearn.tree import DecisionTreeClassifier\n",
    "from sklearn.ensemble import RandomForestClassifier,GradientBoostingClassifier\n",
    "\n",
    "# Cross-validation\n",
    "from sklearn.model_selection import RandomizedSearchCV\n",
    "from sklearn.metrics import make_scorer  \n",
    "\n",
    "# Metrics\n",
    "from sklearn.metrics import roc_auc_score, confusion_matrix\n",
    "\n",
    "# Misc\n",
    "import gender_guesser.detector as gender"
   ]
  },
  {
   "cell_type": "code",
   "execution_count": 69,
   "metadata": {
    "code_folding": [
     0
    ]
   },
   "outputs": [],
   "source": [
    "# setting random seed\n",
    "rand.seed(a = 219)"
   ]
  },
  {
   "cell_type": "markdown",
   "metadata": {},
   "source": [
    "## Loading Data"
   ]
  },
  {
   "cell_type": "code",
   "execution_count": 70,
   "metadata": {
    "code_folding": [
     0
    ]
   },
   "outputs": [],
   "source": [
    "# Loading the Apprentice Chef data set\n",
    "df = pd.read_excel(io='./datasets/Apprentice_Chef_Dataset.xlsx')\n",
    "dictionary = pd.read_excel(io='./datasets/Apprentice_Chef_Data_Dictionary.xlsx')"
   ]
  },
  {
   "cell_type": "code",
   "execution_count": 71,
   "metadata": {
    "code_folding": [
     0
    ]
   },
   "outputs": [],
   "source": [
    "# Renaming column Largest order size to average meals ordered as indicated in the dictionary\n",
    "df.rename(columns={'LARGEST_ORDER_SIZE': 'AVG_MEALS_ORDERED'}, inplace=True)"
   ]
  },
  {
   "cell_type": "markdown",
   "metadata": {},
   "source": [
    "## Data Preprocessing"
   ]
  },
  {
   "cell_type": "markdown",
   "metadata": {},
   "source": [
    "### Missing Values"
   ]
  },
  {
   "cell_type": "code",
   "execution_count": 72,
   "metadata": {
    "code_folding": [
     0
    ]
   },
   "outputs": [],
   "source": [
    "# Dropping columns with missing values\n",
    "df.drop(['FAMILY_NAME'],axis=1, inplace=True)"
   ]
  },
  {
   "cell_type": "markdown",
   "metadata": {},
   "source": [
    "### Splitting Data into Numerical Data and Categorical"
   ]
  },
  {
   "cell_type": "code",
   "execution_count": 73,
   "metadata": {
    "code_folding": [
     0
    ]
   },
   "outputs": [],
   "source": [
    "# Select all features excluding 'object' or categorical data\n",
    "df_num = df.select_dtypes(exclude = 'object').copy()\n",
    "df_cat = df.select_dtypes(include = 'object').copy()"
   ]
  },
  {
   "cell_type": "code",
   "execution_count": 74,
   "metadata": {
    "code_folding": [
     0
    ]
   },
   "outputs": [],
   "source": [
    "# Excluding Revenue (Y-variable) from main analysis\n",
    "response_var = 'CROSS_SELL_SUCCESS'\n",
    "df_response = df_num[[response_var]]\n",
    "\n",
    "# Dropping Response Variable\n",
    "df_num.drop(response_var,axis=1,inplace=True)"
   ]
  },
  {
   "cell_type": "markdown",
   "metadata": {},
   "source": [
    "### Exploring Cross Sales proportions"
   ]
  },
  {
   "cell_type": "code",
   "execution_count": 134,
   "metadata": {
    "code_folding": [
     0
    ]
   },
   "outputs": [],
   "source": [
    "# Cross Sell Success proportion breakdown\n",
    "# (df_response[response_var].value_counts() / df_response[response_var].shape[0]).round(decimals = 2)"
   ]
  },
  {
   "cell_type": "markdown",
   "metadata": {},
   "source": [
    "## Numerical Data"
   ]
  },
  {
   "cell_type": "markdown",
   "metadata": {},
   "source": [
    "### Outliers"
   ]
  },
  {
   "cell_type": "code",
   "execution_count": 76,
   "metadata": {
    "code_folding": [
     0
    ]
   },
   "outputs": [
    {
     "data": {
      "text/plain": [
       "(1701, 23)"
      ]
     },
     "execution_count": 76,
     "metadata": {},
     "output_type": "execute_result"
    }
   ],
   "source": [
    "# Z-score method: removing values with absolute Z-score greater than 3\n",
    "z_score_condition = np.abs(stats.zscore(df_num)) < 3\n",
    "df_num[z_score_condition.all(axis = 1)].shape"
   ]
  },
  {
   "cell_type": "code",
   "execution_count": 77,
   "metadata": {
    "code_folding": [
     0
    ]
   },
   "outputs": [],
   "source": [
    "# Number of features where customer is an outlier\n",
    "num_outliers = pd.DataFrame(z_score_condition).sum(axis=1)"
   ]
  },
  {
   "cell_type": "markdown",
   "metadata": {},
   "source": [
    "### Binning Quantitative Data"
   ]
  },
  {
   "cell_type": "code",
   "execution_count": 78,
   "metadata": {
    "code_folding": [
     0
    ]
   },
   "outputs": [],
   "source": [
    "# Revenue\n",
    "df_num['revenue_class'] = pd.cut(\n",
    "                           df_num['REVENUE'], \n",
    "                           bins=[131,1350,1740,2670,4000,8794], \n",
    "                           labels=[\"low_revenue\", \"mid_revenue\", \"mid_high_revenue\",\"high_revenue\",\"ultra_revenue\"])\n",
    "\n",
    "# Total Meal Orders (annual subscription)\n",
    "df_num['annual_class'] = pd.cut(\n",
    "                           df_num['TOTAL_MEALS_ORDERED'], \n",
    "                           bins=[11,155,259,493], \n",
    "                           labels=[\"no_annual_subscription\", \"basic_annual_subscription\", \"premium_annual_subscription\"])\n",
    "\n",
    "\n",
    "# Meal Rating\n",
    "df_num['rating_class'] = pd.cut(\n",
    "                           df_num['MEDIAN_MEAL_RATING'], \n",
    "                           bins=[0,2,4,5], \n",
    "                           labels=[\"sad_rating\", \"normal_rating\", \"happy_rating\"])\n",
    "\n"
   ]
  },
  {
   "cell_type": "code",
   "execution_count": 79,
   "metadata": {
    "code_folding": [
     0
    ]
   },
   "outputs": [],
   "source": [
    "# Dummy variable encoding\n",
    "df_num = df_num.join(pd.get_dummies(df_num['revenue_class'], drop_first = True))\n",
    "df_num = df_num.join(pd.get_dummies(df_num['annual_class'], drop_first = True))\n",
    "df_num = df_num.join(pd.get_dummies(df_num['rating_class'], drop_first = True))"
   ]
  },
  {
   "cell_type": "code",
   "execution_count": 80,
   "metadata": {
    "code_folding": [
     0
    ]
   },
   "outputs": [],
   "source": [
    "# Dropping original variables\n",
    "df_num.drop(['revenue_class','annual_class','rating_class'], axis=1, inplace = True)"
   ]
  },
  {
   "cell_type": "markdown",
   "metadata": {},
   "source": [
    "### Transformation"
   ]
  },
  {
   "cell_type": "code",
   "execution_count": 81,
   "metadata": {
    "code_folding": [
     0
    ]
   },
   "outputs": [],
   "source": [
    "# Transform data to log transform\n",
    "log_cols = ['TOTAL_MEALS_ORDERED',\n",
    "'UNIQUE_MEALS_PURCH',\n",
    "'CONTACTS_W_CUSTOMER_SERVICE',\n",
    "'PRODUCT_CATEGORIES_VIEWED',\n",
    "'AVG_TIME_PER_SITE_VISIT',\n",
    "'CANCELLATIONS_BEFORE_NOON',\n",
    "'WEEKLY_PLAN',\n",
    "'EARLY_DELIVERIES',\n",
    "'LATE_DELIVERIES',\n",
    "'AVG_PREP_VID_TIME',\n",
    "'AVG_MEALS_ORDERED',\n",
    "'MEDIAN_MEAL_RATING',\n",
    "'AVG_CLICKS_PER_VISIT',\n",
    "'TOTAL_PHOTOS_VIEWED',\n",
    "'REVENUE'] \n",
    "\n",
    "# Creating new columns with new log prefix and natural logarithm transformation.\n",
    "for col in log_cols:\n",
    "    # Adding constant 1 to avoid transforming log of zero\n",
    "    df_num.loc[:,'log_'+col] = np.log(df_num[col]+1)"
   ]
  },
  {
   "cell_type": "code",
   "execution_count": 82,
   "metadata": {
    "code_folding": [
     0
    ]
   },
   "outputs": [],
   "source": [
    "# Dropping original values after being transformed\n",
    "df_num.drop(log_cols,axis=1,inplace=True)"
   ]
  },
  {
   "cell_type": "code",
   "execution_count": 83,
   "metadata": {
    "code_folding": [
     0
    ]
   },
   "outputs": [],
   "source": [
    "# Adding extra columns with number of outlier detection\n",
    "df_num['OUTLIERS_NUM'] = num_outliers"
   ]
  },
  {
   "cell_type": "code",
   "execution_count": 84,
   "metadata": {
    "code_folding": [
     0
    ]
   },
   "outputs": [],
   "source": [
    "# Creating binary data to encompass those who have viewed photos vs. those who have not\n",
    "df_num['SEEN_PHOTOS'] = (df_num['log_TOTAL_PHOTOS_VIEWED']==0).astype('int')"
   ]
  },
  {
   "cell_type": "markdown",
   "metadata": {},
   "source": [
    "## Categorical Data"
   ]
  },
  {
   "cell_type": "code",
   "execution_count": 85,
   "metadata": {
    "code_folding": [
     0
    ]
   },
   "outputs": [],
   "source": [
    "# Subsetting observations from numerical data \n",
    "df_cat = df_cat.loc[df_num.index]"
   ]
  },
  {
   "cell_type": "markdown",
   "metadata": {},
   "source": [
    "### Names and Gender"
   ]
  },
  {
   "cell_type": "code",
   "execution_count": 86,
   "metadata": {
    "code_folding": [
     0
    ],
    "scrolled": true
   },
   "outputs": [],
   "source": [
    "# guessing gender based on (given) name\n",
    "\n",
    "def gender_guesser():\n",
    "    # placeholder list\n",
    "    placeholder_lst = []\n",
    "\n",
    "    # looping to guess gender\n",
    "    for name in df_cat.loc[:,'FIRST_NAME']:\n",
    "        guess = gender.Detector(case_sensitive=False).get_gender(name)\n",
    "        print(guess)\n",
    "        placeholder_lst.append(guess)\n",
    "    \n",
    "    return placeholder_lst\n",
    "\n",
    "# converting list into a series\n",
    "# placeholder_lst = gender_guesser()\n",
    "#pd.Series(placeholder_lst).to_csv('name_gender_guesser.csv')"
   ]
  },
  {
   "cell_type": "code",
   "execution_count": 87,
   "metadata": {
    "code_folding": [
     0
    ]
   },
   "outputs": [],
   "source": [
    "# Loading gender guess csv\n",
    "gender_guess = pd.read_csv('./name_gender_guesser.csv')\n",
    "df_cat['GENDER_GUESS'] = pd.Series(gender_guess['GENDER_GUESS'])"
   ]
  },
  {
   "cell_type": "code",
   "execution_count": 133,
   "metadata": {
    "code_folding": [
     0
    ]
   },
   "outputs": [],
   "source": [
    "# Observing proportions for the first time\n",
    "# (df_cat['GENDER_GUESS'].value_counts() / df_cat.shape[0]).round(2)"
   ]
  },
  {
   "cell_type": "code",
   "execution_count": 89,
   "metadata": {
    "code_folding": [
     0
    ]
   },
   "outputs": [],
   "source": [
    "# Assigning classes\n",
    "df_cat.loc[(df_cat['GENDER_GUESS'] == 'mostly_female') ,'GENDER_GUESS'] = 'female'\n",
    "df_cat.loc[(df_cat['GENDER_GUESS'] == 'mostly_male') ,'GENDER_GUESS'] = 'male'\n",
    "\n",
    "# int assignment\n",
    "female = 1\n",
    "male = 0\n",
    "\n",
    "df_cat.loc[(df_cat['GENDER_GUESS'] == 'andy') ,'GENDER_GUESS'] = np.random.randint(2, size=df_cat.loc[(df_cat['GENDER_GUESS'] == 'andy') ,'GENDER_GUESS'].shape[0])\n",
    "df_cat['GENDER_GUESS'].replace(female,'female', inplace=True)\n",
    "df_cat['GENDER_GUESS'].replace(male,'male', inplace=True)"
   ]
  },
  {
   "cell_type": "code",
   "execution_count": 90,
   "metadata": {
    "code_folding": [
     0
    ]
   },
   "outputs": [],
   "source": [
    "# Unknown Gender Imputation\n",
    "unknown_condition = (df_cat['GENDER_GUESS'] == 'unknown') \n",
    "\n",
    "# Create dummy variable for unknown gender\n",
    "df_cat['GENDER_UNKNOWN'] = unknown_condition.astype('int')\n",
    "\n",
    "# All surnames that are unknown and end with 'a' are assigned female\n",
    "a_condition = df_cat['FIRST_NAME'].str.endswith('a')\n",
    "df_cat.loc[((unknown_condition & a_condition)),'GENDER_GUESS'] = 'female'\n",
    "           \n",
    "# All surnames that are unknown and end with 'o' are assigned to male \n",
    "o_condition = df_cat['FIRST_NAME'].str.endswith('o')\n",
    "df_cat.loc[((unknown_condition & o_condition)),'GENDER_GUESS'] = 'male'         "
   ]
  },
  {
   "cell_type": "code",
   "execution_count": 91,
   "metadata": {
    "code_folding": [
     0
    ]
   },
   "outputs": [],
   "source": [
    "# Adding random choice to all the variables that are unknown\n",
    "df_cat.loc[unknown_condition ,'GENDER_GUESS'] = np.random.randint(2, size=df_cat.loc[unknown_condition ,'GENDER_GUESS'].shape[0])\n",
    "df_cat['GENDER_GUESS'].replace(female,'female', inplace=True)\n",
    "df_cat['GENDER_GUESS'].replace(male,'male', inplace=True)"
   ]
  },
  {
   "cell_type": "code",
   "execution_count": 92,
   "metadata": {
    "code_folding": [
     0
    ]
   },
   "outputs": [],
   "source": [
    "# Changing to binary variable\n",
    "df_cat['GENDER_GUESS'] = df_cat['GENDER_GUESS'].replace('female',female).replace('male',male)"
   ]
  },
  {
   "cell_type": "code",
   "execution_count": 93,
   "metadata": {
    "code_folding": [
     0
    ]
   },
   "outputs": [],
   "source": [
    "# Filling remaining NA with male (given known proportions were skewed towards male)\n",
    "df_cat['GENDER_GUESS'].fillna(female, inplace=True)"
   ]
  },
  {
   "cell_type": "markdown",
   "metadata": {},
   "source": [
    "### Names and Length"
   ]
  },
  {
   "cell_type": "code",
   "execution_count": 94,
   "metadata": {
    "code_folding": [
     0
    ]
   },
   "outputs": [],
   "source": [
    "# Finding number of names that a customer have\n",
    "df_cat['NAME_NUM'] = (df_cat['NAME'].str.count(' ') + 1)"
   ]
  },
  {
   "cell_type": "code",
   "execution_count": 95,
   "metadata": {
    "code_folding": [
     0
    ]
   },
   "outputs": [],
   "source": [
    "# funding number of characters (without spaces)\n",
    "df_cat['NAME_CHAR'] = df_cat['NAME'].str.replace(' ', '').str.len()"
   ]
  },
  {
   "cell_type": "markdown",
   "metadata": {},
   "source": [
    "### Email Classification"
   ]
  },
  {
   "cell_type": "code",
   "execution_count": 96,
   "metadata": {
    "code_folding": [
     0
    ]
   },
   "outputs": [],
   "source": [
    "# Creating Email Domain column by spliting email from '@' character\n",
    "df_cat['EMAIL_DOMAIN'] = '@' + df_cat['EMAIL'].str.split('@',expand=True)[1]"
   ]
  },
  {
   "cell_type": "code",
   "execution_count": 97,
   "metadata": {
    "code_folding": [
     0,
     1
    ]
   },
   "outputs": [],
   "source": [
    "# Email classification process\n",
    "professional_email = ['@mmm.com' \n",
    "            ,'@amex.com' \n",
    "            ,'@apple.com'\n",
    "            ,'@boeing.com'\n",
    "            ,'@caterpillar.com' \n",
    "            ,'@chevron.com' \n",
    "            ,'@cisco.com' \n",
    "            ,'@cocacola.com' \n",
    "            ,'@disney.com' \n",
    "            ,'@dupont.com' \n",
    "            ,'@exxon.com' \n",
    "            ,'@ge.org'\n",
    "            ,'@goldmansacs.com'\n",
    "            ,'@homedepot.com' \n",
    "            ,'@ibm.com' \n",
    "            ,'@intel.com' \n",
    "            ,'@jnj.com'\n",
    "            ,'@jpmorgan.com'\n",
    "            ,'@mcdonalds.com' \n",
    "            ,'@merck.com' \n",
    "            ,'@microsoft.com'\n",
    "            ,'@nike.com' \n",
    "            ,'@pfizer.com' \n",
    "            ,'@pg.com' \n",
    "            ,'@travelers.com'\n",
    "            ,'@unitedtech.com'\n",
    "            ,'@unitedhealth.com' \n",
    "            ,'@verizon.com' \n",
    "            ,'@visa.com' \n",
    "            ,'@walmart.com']\n",
    "\n",
    "personal_email = ['@gmail.com', '@yahoo.com', '@protonmail.com']\n",
    "\n",
    "junk_email = ['@me.com', '@aol.com', '@hotmail.com', '@live.com', '@msn.com', '@passport.com']"
   ]
  },
  {
   "cell_type": "code",
   "execution_count": 98,
   "metadata": {
    "code_folding": [
     0
    ]
   },
   "outputs": [],
   "source": [
    "# Professional Class\n",
    "df_cat.loc[df_cat['EMAIL_DOMAIN'].isin(professional_email),'EMAIL_CLASS'] = 'professional'\n",
    "\n",
    "# Personal Class\n",
    "df_cat.loc[df_cat['EMAIL_DOMAIN'].isin(personal_email),'EMAIL_CLASS'] = 'personal'\n",
    "\n",
    "# Junk Class\n",
    "df_cat.loc[df_cat['EMAIL_DOMAIN'].isin(junk_email),'EMAIL_CLASS'] = 'junk'"
   ]
  },
  {
   "cell_type": "code",
   "execution_count": 132,
   "metadata": {
    "code_folding": []
   },
   "outputs": [],
   "source": [
    "# Email class proportions\n",
    "# (df_cat['EMAIL_CLASS'].value_counts() / df_cat.shape[0]).round(2)"
   ]
  },
  {
   "cell_type": "code",
   "execution_count": 131,
   "metadata": {},
   "outputs": [],
   "source": [
    "# Proportions of those that converted to cross-sell promotion grouped by email class\n",
    "# (df_cat.join(df[response_var])[['EMAIL_CLASS','CROSS_SELL_SUCCESS']].groupby(['EMAIL_CLASS']).sum()/df_cat.shape[0]).round(4)"
   ]
  },
  {
   "cell_type": "code",
   "execution_count": 33,
   "metadata": {
    "code_folding": [
     0
    ]
   },
   "outputs": [],
   "source": [
    "# Creating one-hot-encoding for Email Class column, deletes one class (K - 1)\n",
    "df_cat = df_cat.join(pd.get_dummies(df_cat['EMAIL_CLASS'], drop_first = True))"
   ]
  },
  {
   "cell_type": "code",
   "execution_count": 34,
   "metadata": {
    "code_folding": [
     0
    ]
   },
   "outputs": [],
   "source": [
    "# Cleaning columns that are irrelevant\n",
    "df_cat.drop(['NAME','EMAIL','FIRST_NAME','EMAIL_DOMAIN','EMAIL_CLASS'],axis=1, inplace=True)"
   ]
  },
  {
   "cell_type": "markdown",
   "metadata": {},
   "source": [
    "## Feature Engineering"
   ]
  },
  {
   "cell_type": "code",
   "execution_count": 35,
   "metadata": {
    "code_folding": [
     0
    ]
   },
   "outputs": [],
   "source": [
    "# Joining number data with categorical data, then separating features from the target value.\n",
    "df_features = df_cat.join(df_num)"
   ]
  },
  {
   "cell_type": "markdown",
   "metadata": {},
   "source": [
    "### Domain Knowledge Features"
   ]
  },
  {
   "cell_type": "code",
   "execution_count": 36,
   "metadata": {
    "code_folding": [
     0
    ]
   },
   "outputs": [],
   "source": [
    "## Average Number of Unique Meals per order \n",
    "df_features['MEALS_PER_ORDER'] = df_features['log_TOTAL_MEALS_ORDERED'] / df_features['log_UNIQUE_MEALS_PURCH']\n",
    "\n",
    "# TOTAL_PHOTOS_VIEWED per total logins\n",
    "df_features['PHOTOS_VIEWED_LOGIN'] = df_features['log_TOTAL_PHOTOS_VIEWED'] / (df_features['MOBILE_LOGINS'] + df_features['PC_LOGINS'])\n",
    "\n",
    "# LATE_DELIVERIES  per CONTACTS_W_CUSTOMER_SERVICE\n",
    "df_features['LATE_DELIVERIES_CUSTOMER'] = df_features['log_LATE_DELIVERIES'] / df_features['log_CONTACTS_W_CUSTOMER_SERVICE']\n",
    "\n",
    "# MEDIAN_MEAL_RATING per AVG_PREP_VID_TIME\n",
    "df_features['RATING_VID_TIME'] = df_features['log_MEDIAN_MEAL_RATING'] / df_features['log_AVG_PREP_VID_TIME']\n",
    "\n",
    "# AVG_MEALS_ORDERED per AVG_TIME_PER_SITE_VISIT\n",
    "df_features['ORDERS_PER_VISIT'] = df_features['log_AVG_MEALS_ORDERED'] / df_features['log_AVG_TIME_PER_SITE_VISIT']\n",
    "\n",
    "# MEDIAN_MEAL_RATING per EARLY_DELIVERIES \n",
    "df_features['RATING_EARLY_DELIVERIES'] = df_features['log_MEDIAN_MEAL_RATING'] / df_features['log_EARLY_DELIVERIES']\n",
    "\n",
    "# MASTER_CLASSES_ATTENDED per AVG_PREP_VID_TIME\n",
    "df_features['CLASS_PER_VID_TIME'] = df_features['MASTER_CLASSES_ATTENDED'] / df_features['log_AVG_PREP_VID_TIME']\n"
   ]
  },
  {
   "cell_type": "code",
   "execution_count": 37,
   "metadata": {
    "code_folding": [
     0
    ]
   },
   "outputs": [],
   "source": [
    "# Making sure inf values turn into nan\n",
    "df_features.replace([np.inf, -np.inf], np.nan,inplace=True)\n",
    "df_features.fillna(0,inplace=True)"
   ]
  },
  {
   "cell_type": "markdown",
   "metadata": {},
   "source": [
    "### Interactions"
   ]
  },
  {
   "cell_type": "code",
   "execution_count": 38,
   "metadata": {
    "code_folding": [
     0
    ]
   },
   "outputs": [],
   "source": [
    "# Create every possible bivariate combination to be tested for feature engineering\n",
    "from itertools import combinations\n",
    "\n",
    "interaction_list = ['log_REVENUE',\n",
    "'log_TOTAL_MEALS_ORDERED',\n",
    "'log_UNIQUE_MEALS_PURCH',\n",
    "'log_CONTACTS_W_CUSTOMER_SERVICE',\n",
    "'log_PRODUCT_CATEGORIES_VIEWED',\n",
    "'log_AVG_TIME_PER_SITE_VISIT',\n",
    "'log_CANCELLATIONS_BEFORE_NOON',\n",
    "'log_WEEKLY_PLAN',\n",
    "'log_EARLY_DELIVERIES',\n",
    "'log_LATE_DELIVERIES',\n",
    "'log_AVG_PREP_VID_TIME',\n",
    "'log_AVG_MEALS_ORDERED',\n",
    "'log_MEDIAN_MEAL_RATING',\n",
    "'log_AVG_CLICKS_PER_VISIT',\n",
    "'log_TOTAL_PHOTOS_VIEWED']\n",
    "\n",
    "interactions = list(combinations(interaction_list, 2))"
   ]
  },
  {
   "cell_type": "code",
   "execution_count": 39,
   "metadata": {
    "code_folding": [
     0
    ]
   },
   "outputs": [
    {
     "data": {
      "text/plain": [
       "(1946, 151)"
      ]
     },
     "execution_count": 39,
     "metadata": {},
     "output_type": "execute_result"
    }
   ],
   "source": [
    "# Iterate through interaction list to perform linear regression for each possible engineered features\n",
    "for interaction in interactions:\n",
    "    df_features['{}_{}'.format(interaction[0],interaction[1])] = df_features[interaction[0]] * df_features[interaction[1]]\n",
    "\n",
    "df_features.shape"
   ]
  },
  {
   "cell_type": "markdown",
   "metadata": {},
   "source": [
    "## Train-Test Split"
   ]
  },
  {
   "cell_type": "code",
   "execution_count": 40,
   "metadata": {
    "code_folding": [
     0
    ]
   },
   "outputs": [],
   "source": [
    "# Dividing dataset into dependent and independent variables (Revenue Regression)\n",
    "X_reg = df_features[df_features.columns.drop(list(df_features.filter(regex='REVENUE')))].join(df[response_var])\n",
    "X_reg.drop(list(df_features.filter(regex='revenue')),axis=1,inplace=True)\n",
    "y_reg = np.log(df['REVENUE']+1)"
   ]
  },
  {
   "cell_type": "code",
   "execution_count": 41,
   "metadata": {
    "code_folding": [
     0
    ]
   },
   "outputs": [],
   "source": [
    "# Dividing dataset into dependent and independent variables (Cross Sale Success Classification)\n",
    "X_class = df_features\n",
    "y_class = df_response[response_var]"
   ]
  },
  {
   "cell_type": "markdown",
   "metadata": {},
   "source": [
    "### Split"
   ]
  },
  {
   "cell_type": "code",
   "execution_count": 42,
   "metadata": {
    "code_folding": [
     0
    ]
   },
   "outputs": [],
   "source": [
    "# Splitting the dataset into 75% Trainning and 25% Testing sets for regression model\n",
    "X_train_reg, X_test_reg, y_train_reg, y_test_reg = train_test_split(X_reg, y_reg, \n",
    "                                                                    test_size = 0.25, \n",
    "                                                                    random_state = 219)"
   ]
  },
  {
   "cell_type": "code",
   "execution_count": 43,
   "metadata": {
    "code_folding": [
     0
    ]
   },
   "outputs": [],
   "source": [
    "# Splitting the dataset into 75% Trainning and 25% Testing sets for classification model\n",
    "X_train_class, X_test_class, y_train_class, y_test_class = train_test_split(X_class, y_class, \n",
    "                                                                            test_size = 0.25, \n",
    "                                                                            random_state = 219, \n",
    "                                                                            stratify=y_class)"
   ]
  },
  {
   "cell_type": "markdown",
   "metadata": {},
   "source": [
    "## Predictive Model Development"
   ]
  },
  {
   "cell_type": "code",
   "execution_count": 44,
   "metadata": {
    "code_folding": [
     0
    ]
   },
   "outputs": [],
   "source": [
    "# Defining a function to output regression metrics\n",
    "\n",
    "def regression_metrics(model,X_train,y_train,X_test,y_test):\n",
    "    \n",
    "    # FITTING the training data\n",
    "    model_fit = model.fit(X_train,y_train)\n",
    "\n",
    "\n",
    "    # PREDICTING on new data\n",
    "    model_pred = model_fit.predict(X_test)\n",
    "\n",
    "    # saving scoring data for future use\n",
    "    model_train_score = model.score(X_train,y_train).round(decimals = 4)\n",
    "    model_test_score  = model.score(X_test,y_test).round(decimals = 4)\n",
    "    model_test_gap = abs(model_train_score - model_test_score).round(decimals = 4)\n",
    "    \n",
    "    # Saving coefficients in list\n",
    "    \n",
    "    try:\n",
    "        # Zipping each feature name to coefficient\n",
    "        model_values = zip(X_train.columns, model_fit.coef_.round(decimals = 7))\n",
    "\n",
    "        # setting up a placeholder list to store model features\n",
    "        model_lst = [('intercept', model_fit.intercept_.round(decimals = 7))]\n",
    "\n",
    "        # Appending coefficients to model list\n",
    "        for val in model_values:\n",
    "            if (val[1] != 0):\n",
    "                model_lst.append(val)\n",
    "    \n",
    "    except:\n",
    "        model_lst = []\n",
    "    \n",
    "    return model_train_score, model_test_score, model_test_gap, model_lst\n",
    "    "
   ]
  },
  {
   "cell_type": "code",
   "execution_count": 45,
   "metadata": {
    "code_folding": [
     0
    ]
   },
   "outputs": [],
   "source": [
    "# Defining a function to output classification metrics\n",
    "\n",
    "def classification_metrics(model,X,y,X_train,y_train,X_test,y_test):\n",
    "    \n",
    "    # FITTING on the whole data (tuned models went through Cross-Validation with the whole data)\n",
    "    model_fit = model.fit(X,y)\n",
    "    \n",
    "    # PREDICTING on new data\n",
    "    model_pred = model_fit.predict(X_test)\n",
    "\n",
    "    # saving scoring data for future use\n",
    "    model_train_score = model.score(X_train,y_train).round(decimals = 4)\n",
    "    model_test_score  = model.score(X_test,y_test).round(decimals = 4)\n",
    "    \n",
    "    # ROC-AUC score  (test score)\n",
    "    auc_score = roc_auc_score(y_test,model_pred).round(decimals = 4)\n",
    "    \n",
    "    # unpacking the confusion matrix\n",
    "    model_tn, model_fp, model_fn, model_tp = confusion_matrix(y_true = y_test, y_pred = model_pred).ravel()\n",
    "    \n",
    "    # Confusion Matrix\n",
    "    c_matrix = (model_tn, model_fp, model_fn, model_tp)\n",
    "    \n",
    "    return model_train_score, model_test_score, auc_score, c_matrix\n",
    "    "
   ]
  },
  {
   "cell_type": "code",
   "execution_count": 59,
   "metadata": {
    "code_folding": [
     0
    ]
   },
   "outputs": [],
   "source": [
    "# Defining a function to visualize CART models feature importance\n",
    "def plot_feature_importances(model, X_train, top_features=10):\n",
    "    \"\"\"\n",
    "    Plots the importance of features from a CART model.\n",
    "    \n",
    "    PARAMETERS\n",
    "    ----------\n",
    "    model  : CART model\n",
    "    train  : explanatory variable training data\n",
    "    top_features : number of top features to show\n",
    "    \n",
    "    \"\"\"\n",
    "    \n",
    "    # Getting features and their relative importance according to the model\n",
    "    features = X_train.columns\n",
    "    feature_importance = model.feature_importances_\n",
    "\n",
    "    # Creating dataframe \n",
    "    feature_importance_df = pd.DataFrame(data={'Feature Importance': feature_importance},index=features)\n",
    "    \n",
    "    # Sorted and top features\n",
    "    sorted_df = feature_importance_df.sort_values(by='Feature Importance', ascending=False).head(top_features)\n",
    "\n",
    "    # Plotting the result\n",
    "    sorted_df.plot.barh()\n",
    "    plt.title(\"Gradient Boosting Model Relative Feature Importance\")\n",
    "    plt.xlabel(\"Feature importance (%)\")\n",
    "    "
   ]
  },
  {
   "cell_type": "markdown",
   "metadata": {},
   "source": [
    "### Multiple Linear Regression (OLS)"
   ]
  },
  {
   "cell_type": "code",
   "execution_count": 47,
   "metadata": {
    "code_folding": []
   },
   "outputs": [],
   "source": [
    "# Instantiating OLS Linear Regression model\n",
    "linear_regression = LinearRegression()"
   ]
  },
  {
   "cell_type": "markdown",
   "metadata": {},
   "source": [
    "### Gradient Boosted Classification Model (GBM)"
   ]
  },
  {
   "cell_type": "code",
   "execution_count": 48,
   "metadata": {
    "code_folding": []
   },
   "outputs": [],
   "source": [
    "# Instantiating GBM\n",
    "gradient_boosting = GradientBoostingClassifier(max_depth=8)"
   ]
  },
  {
   "cell_type": "code",
   "execution_count": 49,
   "metadata": {
    "code_folding": [
     0
    ]
   },
   "outputs": [],
   "source": [
    "# # Hyperparameter tuning \n",
    "\n",
    "# # declaring a hyperparameter space\n",
    "# n_estimators_space          = np.arange(50, 200, 20)\n",
    "# max_depth_space  = np.arange(3, 8, 1)\n",
    "# max_leaf_nodes_space = np.arange(10, 30, 2)\n",
    "\n",
    "\n",
    "# # creating a hyperparameter grid\n",
    "# param_grid = {\n",
    "#                 'n_estimators'          : n_estimators_space ,\n",
    "#                 'max_depth'     : max_depth_space,\n",
    "#              'max_leaf_nodes'     : max_leaf_nodes_space}\n",
    "\n",
    "\n",
    "# # INSTANTIATING the model object without hyperparameters\n",
    "# boost_tuned = gradient_boosting\n",
    "\n",
    "\n",
    "\n",
    "# # RandomizedSearchCV object\n",
    "# boost_tuned_cv = RandomizedSearchCV(estimator           = boost_tuned,   # the model object\n",
    "#                                  param_distributions = param_grid, # parameters to tune\n",
    "#                                  cv                  = 3,          # how many folds in cross-validation\n",
    "#                                  n_iter              = 1000,        # number of combinations of hyperparameters to try\n",
    "#                                  random_state        = 219,        # starting point for random sequence\n",
    "#                                  scoring = make_scorer(\n",
    "#                                            roc_auc_score,\n",
    "#                                            needs_threshold = False)) # scoring criteria (AUC)\n",
    "\n",
    "\n",
    "\n",
    "\n",
    "# # FITTING to the FULL DATASET (due to cross-validation)\n",
    "# boost_tuned_cv.fit(X, y)\n",
    "\n",
    "\n",
    "# # printing the optimal parameters and best score\n",
    "# print(\"Tuned Parameters  :\", boost_tuned_cv.best_params_)\n",
    "# print(\"Tuned CV AUC      :\", boost_tuned_cv.best_score_.round(4))\n"
   ]
  },
  {
   "cell_type": "code",
   "execution_count": 50,
   "metadata": {
    "code_folding": []
   },
   "outputs": [],
   "source": [
    "# Storing tuned parameters in dictionary\n",
    "boost_params = {'n_estimators': 70, 'max_leaf_nodes': 12, 'max_depth': 4}\n",
    "\n",
    "# Setting tuned parameters\n",
    "gradient_boosting = gradient_boosting.set_params(**boost_params)"
   ]
  },
  {
   "cell_type": "markdown",
   "metadata": {},
   "source": [
    "## Model Regression Performance (Estimating Customer Revenue)"
   ]
  },
  {
   "cell_type": "code",
   "execution_count": 51,
   "metadata": {},
   "outputs": [],
   "source": [
    "linear_train_score, linear_test_score, linear_test_gap, linear_model_lst = regression_metrics(linear_regression,X_train_reg,y_train_reg,X_test_reg,y_test_reg)"
   ]
  },
  {
   "cell_type": "code",
   "execution_count": 52,
   "metadata": {
    "code_folding": [
     0
    ]
   },
   "outputs": [
    {
     "data": {
      "text/html": [
       "<div>\n",
       "<style scoped>\n",
       "    .dataframe tbody tr th:only-of-type {\n",
       "        vertical-align: middle;\n",
       "    }\n",
       "\n",
       "    .dataframe tbody tr th {\n",
       "        vertical-align: top;\n",
       "    }\n",
       "\n",
       "    .dataframe thead th {\n",
       "        text-align: right;\n",
       "    }\n",
       "</style>\n",
       "<table border=\"1\" class=\"dataframe\">\n",
       "  <thead>\n",
       "    <tr style=\"text-align: right;\">\n",
       "      <th></th>\n",
       "      <th>Model Type</th>\n",
       "      <th>Training Score</th>\n",
       "      <th>Testing Score</th>\n",
       "      <th>Train-Test Gap</th>\n",
       "      <th>Model Size</th>\n",
       "      <th>Model Coefficients</th>\n",
       "    </tr>\n",
       "  </thead>\n",
       "  <tbody>\n",
       "    <tr>\n",
       "      <th>0</th>\n",
       "      <td>OLS (Final Model)</td>\n",
       "      <td>0.8378</td>\n",
       "      <td>0.8199</td>\n",
       "      <td>0.0179</td>\n",
       "      <td>134</td>\n",
       "      <td>[(intercept, 13.4050092), (GENDER_GUESS, 0.010...</td>\n",
       "    </tr>\n",
       "  </tbody>\n",
       "</table>\n",
       "</div>"
      ],
      "text/plain": [
       "          Model Type  Training Score  Testing Score  Train-Test Gap  \\\n",
       "0  OLS (Final Model)          0.8378         0.8199          0.0179   \n",
       "\n",
       "   Model Size                                 Model Coefficients  \n",
       "0         134  [(intercept, 13.4050092), (GENDER_GUESS, 0.010...  "
      ]
     },
     "execution_count": 52,
     "metadata": {},
     "output_type": "execute_result"
    }
   ],
   "source": [
    "# creating a dictionary to store model results\n",
    "regression_model_performance = {\n",
    "    \n",
    "    'Model Type'    : ['OLS (Final Model)'],\n",
    "           \n",
    "    'Training Score' : [linear_train_score],\n",
    "           \n",
    "    'Testing Score'  : [linear_test_score],\n",
    "                    \n",
    "    'Train-Test Gap' : [linear_test_gap],\n",
    "                    \n",
    "    'Model Size' : [len(linear_model_lst)],\n",
    "                    \n",
    "    'Model Coefficients' : [linear_model_lst]}\n",
    "\n",
    "\n",
    "# converting model_performance into a DataFrame\n",
    "regression_model_performance = pd.DataFrame(regression_model_performance)\n",
    "regression_model_performance"
   ]
  },
  {
   "cell_type": "markdown",
   "metadata": {},
   "source": [
    "### Regression Coefficient and Statistics"
   ]
  },
  {
   "cell_type": "code",
   "execution_count": 53,
   "metadata": {
    "code_folding": [
     0
    ]
   },
   "outputs": [],
   "source": [
    "# Instantiating Statsmodel OLS Linear Regression model\n",
    "variables = \"+\".join(X_train_reg.columns)\n",
    "formula = 'REVENUE ~ ' + variables\n",
    "\n",
    "stats_regression = smf.ols(formula = formula,data = X_train_reg.join(y_train_reg))\n",
    "\n",
    "# telling Python to FIT the data to the blueprint\n",
    "results = stats_regression.fit()\n",
    "\n",
    "regression_output = pd.DataFrame(index=results.params.index)\n",
    "regression_output['Coefficients'] = results.params\n",
    "regression_output['Significance'] = results.pvalues"
   ]
  },
  {
   "cell_type": "code",
   "execution_count": 137,
   "metadata": {
    "code_folding": [
     0
    ]
   },
   "outputs": [
    {
     "data": {
      "text/html": [
       "<div>\n",
       "<style scoped>\n",
       "    .dataframe tbody tr th:only-of-type {\n",
       "        vertical-align: middle;\n",
       "    }\n",
       "\n",
       "    .dataframe tbody tr th {\n",
       "        vertical-align: top;\n",
       "    }\n",
       "\n",
       "    .dataframe thead th {\n",
       "        text-align: right;\n",
       "    }\n",
       "</style>\n",
       "<table border=\"1\" class=\"dataframe\">\n",
       "  <thead>\n",
       "    <tr style=\"text-align: right;\">\n",
       "      <th></th>\n",
       "      <th>Coefficients</th>\n",
       "      <th>Significance</th>\n",
       "    </tr>\n",
       "  </thead>\n",
       "  <tbody>\n",
       "    <tr>\n",
       "      <th>log_AVG_MEALS_ORDERED</th>\n",
       "      <td>2.551</td>\n",
       "      <td>0.084</td>\n",
       "    </tr>\n",
       "    <tr>\n",
       "      <th>log_AVG_TIME_PER_SITE_VISIT</th>\n",
       "      <td>0.975</td>\n",
       "      <td>0.080</td>\n",
       "    </tr>\n",
       "    <tr>\n",
       "      <th>log_LATE_DELIVERIES</th>\n",
       "      <td>0.746</td>\n",
       "      <td>0.116</td>\n",
       "    </tr>\n",
       "    <tr>\n",
       "      <th>MASTER_CLASSES_ATTENDED</th>\n",
       "      <td>0.549</td>\n",
       "      <td>0.004</td>\n",
       "    </tr>\n",
       "    <tr>\n",
       "      <th>log_MEDIAN_MEAL_RATING</th>\n",
       "      <td>0.475</td>\n",
       "      <td>0.920</td>\n",
       "    </tr>\n",
       "  </tbody>\n",
       "</table>\n",
       "</div>"
      ],
      "text/plain": [
       "                             Coefficients  Significance\n",
       "log_AVG_MEALS_ORDERED               2.551         0.084\n",
       "log_AVG_TIME_PER_SITE_VISIT         0.975         0.080\n",
       "log_LATE_DELIVERIES                 0.746         0.116\n",
       "MASTER_CLASSES_ATTENDED             0.549         0.004\n",
       "log_MEDIAN_MEAL_RATING              0.475         0.920"
      ]
     },
     "execution_count": 137,
     "metadata": {},
     "output_type": "execute_result"
    }
   ],
   "source": [
    "# Top 5 strongest positive coefficients (log-log format)\n",
    "regression_output.sort_values(by='Coefficients',ascending=False).iloc[1:6].round(3)"
   ]
  },
  {
   "cell_type": "code",
   "execution_count": 136,
   "metadata": {
    "code_folding": [
     0
    ]
   },
   "outputs": [
    {
     "data": {
      "text/html": [
       "<div>\n",
       "<style scoped>\n",
       "    .dataframe tbody tr th:only-of-type {\n",
       "        vertical-align: middle;\n",
       "    }\n",
       "\n",
       "    .dataframe tbody tr th {\n",
       "        vertical-align: top;\n",
       "    }\n",
       "\n",
       "    .dataframe thead th {\n",
       "        text-align: right;\n",
       "    }\n",
       "</style>\n",
       "<table border=\"1\" class=\"dataframe\">\n",
       "  <thead>\n",
       "    <tr style=\"text-align: right;\">\n",
       "      <th></th>\n",
       "      <th>Coefficients</th>\n",
       "      <th>Significance</th>\n",
       "    </tr>\n",
       "  </thead>\n",
       "  <tbody>\n",
       "    <tr>\n",
       "      <th>log_CONTACTS_W_CUSTOMER_SERVICE</th>\n",
       "      <td>-3.782</td>\n",
       "      <td>0.000</td>\n",
       "    </tr>\n",
       "    <tr>\n",
       "      <th>CLASS_PER_VID_TIME</th>\n",
       "      <td>-2.490</td>\n",
       "      <td>0.010</td>\n",
       "    </tr>\n",
       "    <tr>\n",
       "      <th>log_TOTAL_MEALS_ORDERED</th>\n",
       "      <td>-2.206</td>\n",
       "      <td>0.000</td>\n",
       "    </tr>\n",
       "    <tr>\n",
       "      <th>RATING_VID_TIME</th>\n",
       "      <td>-1.374</td>\n",
       "      <td>0.901</td>\n",
       "    </tr>\n",
       "    <tr>\n",
       "      <th>ORDERS_PER_VISIT</th>\n",
       "      <td>-1.301</td>\n",
       "      <td>0.076</td>\n",
       "    </tr>\n",
       "  </tbody>\n",
       "</table>\n",
       "</div>"
      ],
      "text/plain": [
       "                                 Coefficients  Significance\n",
       "log_CONTACTS_W_CUSTOMER_SERVICE        -3.782         0.000\n",
       "CLASS_PER_VID_TIME                     -2.490         0.010\n",
       "log_TOTAL_MEALS_ORDERED                -2.206         0.000\n",
       "RATING_VID_TIME                        -1.374         0.901\n",
       "ORDERS_PER_VISIT                       -1.301         0.076"
      ]
     },
     "execution_count": 136,
     "metadata": {},
     "output_type": "execute_result"
    }
   ],
   "source": [
    "# Top 5 strongest negative coefficients (log-log format)\n",
    "regression_output.sort_values(by='Coefficients',ascending=True).iloc[:5].round(3)"
   ]
  },
  {
   "cell_type": "markdown",
   "metadata": {},
   "source": [
    "## Model Classification Performance (Classifying Cross Sales Success)"
   ]
  },
  {
   "cell_type": "code",
   "execution_count": 56,
   "metadata": {
    "code_folding": [
     0
    ]
   },
   "outputs": [],
   "source": [
    "# Running function gather score of models\n",
    "gradient_train_score, gradient_test_score, gradient_auc_score, gradient_c_matrix  = classification_metrics(gradient_boosting,X_class,y_class,X_train_class,y_train_class,X_test_class,y_test_class)"
   ]
  },
  {
   "cell_type": "code",
   "execution_count": 57,
   "metadata": {
    "code_folding": [
     0
    ]
   },
   "outputs": [
    {
     "data": {
      "text/html": [
       "<div>\n",
       "<style scoped>\n",
       "    .dataframe tbody tr th:only-of-type {\n",
       "        vertical-align: middle;\n",
       "    }\n",
       "\n",
       "    .dataframe tbody tr th {\n",
       "        vertical-align: top;\n",
       "    }\n",
       "\n",
       "    .dataframe thead th {\n",
       "        text-align: right;\n",
       "    }\n",
       "</style>\n",
       "<table border=\"1\" class=\"dataframe\">\n",
       "  <thead>\n",
       "    <tr style=\"text-align: right;\">\n",
       "      <th></th>\n",
       "      <th>Model Type</th>\n",
       "      <th>AUC Score</th>\n",
       "      <th>Training Accuracy</th>\n",
       "      <th>Testing Accuracy</th>\n",
       "      <th>Confusion Matrix</th>\n",
       "    </tr>\n",
       "  </thead>\n",
       "  <tbody>\n",
       "    <tr>\n",
       "      <th>0</th>\n",
       "      <td>GBM (Final Model)</td>\n",
       "      <td>0.8393</td>\n",
       "      <td>0.867</td>\n",
       "      <td>0.883</td>\n",
       "      <td>(112, 44, 13, 318)</td>\n",
       "    </tr>\n",
       "  </tbody>\n",
       "</table>\n",
       "</div>"
      ],
      "text/plain": [
       "          Model Type  AUC Score  Training Accuracy  Testing Accuracy  \\\n",
       "0  GBM (Final Model)     0.8393              0.867             0.883   \n",
       "\n",
       "     Confusion Matrix  \n",
       "0  (112, 44, 13, 318)  "
      ]
     },
     "execution_count": 57,
     "metadata": {},
     "output_type": "execute_result"
    }
   ],
   "source": [
    "# creating a dictionary to store model results\n",
    "classification_model_performance = {\n",
    "    \n",
    "    'Model Type'    : ['GBM (Final Model)'],\n",
    "           \n",
    "    \n",
    "    'AUC Score'  : [gradient_auc_score],\n",
    "    \n",
    "    'Training Accuracy' : [gradient_train_score],\n",
    "           \n",
    "    'Testing Accuracy'  : [gradient_test_score],\n",
    "    \n",
    "    'Confusion Matrix' : [gradient_c_matrix]\n",
    "\n",
    "}\n",
    "\n",
    "\n",
    "# converting model_performance into a DataFrame\n",
    "classification_model_performance = pd.DataFrame(classification_model_performance)\n",
    "classification_model_performance"
   ]
  },
  {
   "cell_type": "code",
   "execution_count": 139,
   "metadata": {
    "code_folding": []
   },
   "outputs": [
    {
     "name": "stdout",
     "output_type": "stream",
     "text": [
      " \n",
      "            According to the model, the number of names that a customer has is the most important feature, \n",
      "            followed by whether if the customer has a personal or professional email.\n",
      "\n"
     ]
    },
    {
     "data": {
      "image/png": "[encoded data removed]",
      "text/plain": [
       "<Figure size 432x288 with 1 Axes>"
      ]
     },
     "metadata": {
      "needs_background": "light"
     },
     "output_type": "display_data"
    }
   ],
   "source": [
    "# Plotting relative feature importance sa\n",
    "plot_feature_importances(gradient_boosting, X_train_class, 15)\n",
    "print(\"\"\" \n",
    "            According to the model, the number of names that a customer has is the most important feature, \n",
    "            followed by whether if the customer has a personal or professional email.\n",
    "\"\"\")"
   ]
  },
  {
   "cell_type": "code",
   "execution_count": null,
   "metadata": {},
   "outputs": [],
   "source": []
  }
 ],
 "metadata": {
  "kernelspec": {
   "display_name": "Python 3",
   "language": "python",
   "name": "python3"
  },
  "language_info": {
   "codemirror_mode": {
    "name": "ipython",
    "version": 3
   },
   "file_extension": ".py",
   "mimetype": "text/x-python",
   "name": "python",
   "nbconvert_exporter": "python",
   "pygments_lexer": "ipython3",
   "version": "3.8.3"
  },
  "toc": {
   "base_numbering": 1,
   "nav_menu": {},
   "number_sections": true,
   "sideBar": true,
   "skip_h1_title": false,
   "title_cell": "Table of Contents",
   "title_sidebar": "Contents",
   "toc_cell": false,
   "toc_position": {
    "height": "calc(100% - 180px)",
    "left": "10px",
    "top": "150px",
    "width": "349.091px"
   },
   "toc_section_display": true,
   "toc_window_display": true
  },
  "varInspector": {
   "cols": {
    "lenName": 16,
    "lenType": 16,
    "lenVar": 40
   },
   "kernels_config": {
    "python": {
     "delete_cmd_postfix": "",
     "delete_cmd_prefix": "del ",
     "library": "var_list.py",
     "varRefreshCmd": "print(var_dic_list())"
    },
    "r": {
     "delete_cmd_postfix": ") ",
     "delete_cmd_prefix": "rm(",
     "library": "var_list.r",
     "varRefreshCmd": "cat(var_dic_list()) "
    }
   },
   "types_to_exclude": [
    "module",
    "function",
    "builtin_function_or_method",
    "instance",
    "_Feature"
   ],
   "window_display": false
  }
 },
 "nbformat": 4,
 "nbformat_minor": 4
}
