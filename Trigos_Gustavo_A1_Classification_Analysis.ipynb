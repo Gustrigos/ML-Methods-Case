{
 "cells": [
  {
   "cell_type": "markdown",
   "metadata": {},
   "source": [
    "## Classification Model Development"
   ]
  },
  {
   "cell_type": "markdown",
   "metadata": {},
   "source": [
    "<b>Student</b>: Gustavo A. Trigos \n",
    "\n",
    "<b>Class Cohort</b>: MsBA3\n",
    "\n",
    "<b>Class</b>: Machine Learning - DAT5303"
   ]
  },
  {
   "cell_type": "markdown",
   "metadata": {},
   "source": [
    "<b>Assignment Objective</b>: using the information in the Apprentice Chef's case to build a predictive model on a binary response variable (Whether a customer will sign into a new service). "
   ]
  },
  {
   "cell_type": "markdown",
   "metadata": {},
   "source": [
    "## Libraries"
   ]
  },
  {
   "cell_type": "code",
   "execution_count": 1,
   "metadata": {},
   "outputs": [],
   "source": [
    "import time\n",
    "# Start time including loading the libraries\n",
    "start = time.time()"
   ]
  },
  {
   "cell_type": "code",
   "execution_count": 2,
   "metadata": {},
   "outputs": [],
   "source": [
    "# Data exploration and manipulation essentials\n",
    "import numpy as np \n",
    "import pandas as pd\n",
    "import matplotlib.pyplot as plt\n",
    "import seaborn as sns\n",
    "import random as rand\n",
    "\n",
    "# Statistic tests\n",
    "from scipy import stats\n",
    "from statsmodels.stats.outliers_influence import variance_inflation_factor # Calculating VIF\n",
    "\n",
    "# Preprocessing\n",
    "from sklearn.preprocessing import MinMaxScaler, StandardScaler\n",
    "from sklearn.model_selection import train_test_split\n",
    "\n",
    "# Classification Models\n",
    "import statsmodels.formula.api as smf\n",
    "from sklearn.linear_model import LogisticRegression\n",
    "from sklearn.neighbors import KNeighborsClassifier\n",
    "from sklearn.tree import DecisionTreeClassifier\n",
    "from sklearn.ensemble import RandomForestClassifier,GradientBoostingClassifier\n",
    "\n",
    "# Cross-validation\n",
    "from sklearn.model_selection import RandomizedSearchCV\n",
    "from sklearn.metrics import make_scorer  \n",
    "\n",
    "# Metrics\n",
    "from sklearn.metrics import roc_auc_score, confusion_matrix\n",
    "\n",
    "# Misc\n",
    "import gender_guesser.detector as gender"
   ]
  },
  {
   "cell_type": "code",
   "execution_count": 3,
   "metadata": {},
   "outputs": [],
   "source": [
    "# setting random seed\n",
    "rand.seed(a = 219)"
   ]
  },
  {
   "cell_type": "markdown",
   "metadata": {},
   "source": [
    "## Loading Data"
   ]
  },
  {
   "cell_type": "code",
   "execution_count": 4,
   "metadata": {},
   "outputs": [],
   "source": [
    "# Loading the Apprentice Chef data set\n",
    "df = pd.read_excel(io='./datasets/Apprentice_Chef_Dataset.xlsx')\n",
    "dictionary = pd.read_excel(io='./datasets/Apprentice_Chef_Data_Dictionary.xlsx')"
   ]
  },
  {
   "cell_type": "code",
   "execution_count": 5,
   "metadata": {},
   "outputs": [],
   "source": [
    "# Renaming column Largest order size to average meals ordered as indicated in the dictionary\n",
    "df.rename(columns={'LARGEST_ORDER_SIZE': 'AVG_MEALS_ORDERED'}, inplace=True)"
   ]
  },
  {
   "cell_type": "markdown",
   "metadata": {},
   "source": [
    "## Data Preprocessing"
   ]
  },
  {
   "cell_type": "markdown",
   "metadata": {},
   "source": [
    "### Missing Values"
   ]
  },
  {
   "cell_type": "code",
   "execution_count": 6,
   "metadata": {},
   "outputs": [
    {
     "data": {
      "text/plain": [
       "FAMILY_NAME    47\n",
       "dtype: int64"
      ]
     },
     "execution_count": 6,
     "metadata": {},
     "output_type": "execute_result"
    }
   ],
   "source": [
    "# Looking into columns with any missing values\n",
    "df.isna().sum()[df.isna().sum() > 0]"
   ]
  },
  {
   "cell_type": "markdown",
   "metadata": {},
   "source": [
    "Given the only column with missing values is an identifier column with no significant value to the analysis, we abstain from imputating missing values to this column."
   ]
  },
  {
   "cell_type": "code",
   "execution_count": 7,
   "metadata": {},
   "outputs": [],
   "source": [
    "# Dropping columns with missing values\n",
    "df.drop(['FAMILY_NAME'],axis=1, inplace=True)"
   ]
  },
  {
   "cell_type": "markdown",
   "metadata": {},
   "source": [
    "### Splitting Data into Numerical Data and Categorical"
   ]
  },
  {
   "cell_type": "code",
   "execution_count": 8,
   "metadata": {},
   "outputs": [],
   "source": [
    "# Select all features excluding 'object' or categorical data\n",
    "df_num = df.select_dtypes(exclude = 'object').copy()\n",
    "df_cat = df.select_dtypes(include = 'object').copy()"
   ]
  },
  {
   "cell_type": "code",
   "execution_count": 9,
   "metadata": {},
   "outputs": [],
   "source": [
    "# Excluding Revenue (Y-variable) from main analysis\n",
    "response_var = 'CROSS_SELL_SUCCESS'\n",
    "df_response = df_num[[response_var]]\n",
    "\n",
    "# Dropping Response Variable\n",
    "df_num.drop(response_var,axis=1,inplace=True)"
   ]
  },
  {
   "cell_type": "markdown",
   "metadata": {},
   "source": [
    "### Exploring Response Variable's proportions"
   ]
  },
  {
   "cell_type": "code",
   "execution_count": 10,
   "metadata": {},
   "outputs": [
    {
     "data": {
      "text/plain": [
       "1    0.68\n",
       "0    0.32\n",
       "Name: CROSS_SELL_SUCCESS, dtype: float64"
      ]
     },
     "execution_count": 10,
     "metadata": {},
     "output_type": "execute_result"
    }
   ],
   "source": [
    "# Cross Sell Success proportion breakdown\n",
    "(df_response[response_var].value_counts() / df_response[response_var].shape[0]).round(decimals = 2)"
   ]
  },
  {
   "cell_type": "markdown",
   "metadata": {},
   "source": [
    "After observing the proportion of the response variable, we can observe that the two classes are moderately imbalanced."
   ]
  },
  {
   "cell_type": "markdown",
   "metadata": {},
   "source": [
    "## Numerical Data"
   ]
  },
  {
   "cell_type": "markdown",
   "metadata": {},
   "source": [
    "### Outliers"
   ]
  },
  {
   "cell_type": "code",
   "execution_count": 11,
   "metadata": {},
   "outputs": [
    {
     "data": {
      "text/plain": [
       "(841, 23)"
      ]
     },
     "execution_count": 11,
     "metadata": {},
     "output_type": "execute_result"
    }
   ],
   "source": [
    "# Interquantile Range method: removing values below or above the IQR * 1.5 thresholds\n",
    "\n",
    "Q1 = df_num.quantile(0.25)\n",
    "Q3 = df_num.quantile(0.75)\n",
    "IQR = Q3 - Q1\n",
    "\n",
    "df_num[~((df_num < (Q1 - 1.5 * IQR)) |(df_num > (Q3 + 1.5 * IQR))).any(axis=1)].shape"
   ]
  },
  {
   "cell_type": "code",
   "execution_count": 12,
   "metadata": {},
   "outputs": [
    {
     "data": {
      "text/plain": [
       "(1701, 23)"
      ]
     },
     "execution_count": 12,
     "metadata": {},
     "output_type": "execute_result"
    }
   ],
   "source": [
    "# Z-score method: removing values with absolute Z-score greater than 3\n",
    "z_score_condition = np.abs(stats.zscore(df_num)) < 3\n",
    "df_num[z_score_condition.all(axis = 1)].shape"
   ]
  },
  {
   "cell_type": "code",
   "execution_count": 13,
   "metadata": {},
   "outputs": [],
   "source": [
    "# Number of features where customer is an outlier\n",
    "num_outliers = pd.DataFrame(z_score_condition).sum(axis=1)"
   ]
  },
  {
   "cell_type": "markdown",
   "metadata": {},
   "source": [
    "We use two different methods for outlier detection, the first one detects outliers by using the interquantile range (IQR) method of identifying all the values that surpass their respective distribution's IQR below their first quartile minus the IQR times 1.5 or above their third quartile plus the IQR times 1.5. The second method converts all the values in Z-scores and takes all those that are greater than absolute 3. We chose the second method since it was detecting less outliers and was a more conservative approach."
   ]
  },
  {
   "cell_type": "markdown",
   "metadata": {},
   "source": [
    "### Correlation with dependent and independent variables"
   ]
  },
  {
   "cell_type": "code",
   "execution_count": 14,
   "metadata": {
    "scrolled": false
   },
   "outputs": [
    {
     "data": {
      "text/html": [
       "<div>\n",
       "<style scoped>\n",
       "    .dataframe tbody tr th:only-of-type {\n",
       "        vertical-align: middle;\n",
       "    }\n",
       "\n",
       "    .dataframe tbody tr th {\n",
       "        vertical-align: top;\n",
       "    }\n",
       "\n",
       "    .dataframe thead th {\n",
       "        text-align: right;\n",
       "    }\n",
       "</style>\n",
       "<table border=\"1\" class=\"dataframe\">\n",
       "  <thead>\n",
       "    <tr style=\"text-align: right;\">\n",
       "      <th></th>\n",
       "      <th>CROSS_SELL_SUCCESS</th>\n",
       "    </tr>\n",
       "  </thead>\n",
       "  <tbody>\n",
       "    <tr>\n",
       "      <th>CROSS_SELL_SUCCESS</th>\n",
       "      <td>1.0000</td>\n",
       "    </tr>\n",
       "    <tr>\n",
       "      <th>CANCELLATIONS_BEFORE_NOON</th>\n",
       "      <td>0.1634</td>\n",
       "    </tr>\n",
       "    <tr>\n",
       "      <th>MOBILE_NUMBER</th>\n",
       "      <td>0.1027</td>\n",
       "    </tr>\n",
       "    <tr>\n",
       "      <th>TASTES_AND_PREFERENCES</th>\n",
       "      <td>0.0814</td>\n",
       "    </tr>\n",
       "    <tr>\n",
       "      <th>REFRIGERATED_LOCKER</th>\n",
       "      <td>0.0683</td>\n",
       "    </tr>\n",
       "    <tr>\n",
       "      <th>PC_LOGINS</th>\n",
       "      <td>0.0445</td>\n",
       "    </tr>\n",
       "    <tr>\n",
       "      <th>PACKAGE_LOCKER</th>\n",
       "      <td>0.0435</td>\n",
       "    </tr>\n",
       "    <tr>\n",
       "      <th>MASTER_CLASSES_ATTENDED</th>\n",
       "      <td>0.0372</td>\n",
       "    </tr>\n",
       "    <tr>\n",
       "      <th>CONTACTS_W_CUSTOMER_SERVICE</th>\n",
       "      <td>0.0365</td>\n",
       "    </tr>\n",
       "    <tr>\n",
       "      <th>AVG_PREP_VID_TIME</th>\n",
       "      <td>0.0321</td>\n",
       "    </tr>\n",
       "    <tr>\n",
       "      <th>MEDIAN_MEAL_RATING</th>\n",
       "      <td>0.0318</td>\n",
       "    </tr>\n",
       "    <tr>\n",
       "      <th>AVG_MEALS_ORDERED</th>\n",
       "      <td>0.0222</td>\n",
       "    </tr>\n",
       "    <tr>\n",
       "      <th>EARLY_DELIVERIES</th>\n",
       "      <td>0.0151</td>\n",
       "    </tr>\n",
       "    <tr>\n",
       "      <th>AVG_TIME_PER_SITE_VISIT</th>\n",
       "      <td>0.0111</td>\n",
       "    </tr>\n",
       "    <tr>\n",
       "      <th>TOTAL_PHOTOS_VIEWED</th>\n",
       "      <td>0.0102</td>\n",
       "    </tr>\n",
       "    <tr>\n",
       "      <th>LATE_DELIVERIES</th>\n",
       "      <td>0.0067</td>\n",
       "    </tr>\n",
       "    <tr>\n",
       "      <th>TOTAL_MEALS_ORDERED</th>\n",
       "      <td>0.0065</td>\n",
       "    </tr>\n",
       "    <tr>\n",
       "      <th>PRODUCT_CATEGORIES_VIEWED</th>\n",
       "      <td>0.0047</td>\n",
       "    </tr>\n",
       "    <tr>\n",
       "      <th>REVENUE</th>\n",
       "      <td>0.0045</td>\n",
       "    </tr>\n",
       "    <tr>\n",
       "      <th>UNIQUE_MEALS_PURCH</th>\n",
       "      <td>0.0011</td>\n",
       "    </tr>\n",
       "    <tr>\n",
       "      <th>WEEKLY_PLAN</th>\n",
       "      <td>-0.0053</td>\n",
       "    </tr>\n",
       "    <tr>\n",
       "      <th>AVG_CLICKS_PER_VISIT</th>\n",
       "      <td>-0.0351</td>\n",
       "    </tr>\n",
       "    <tr>\n",
       "      <th>MOBILE_LOGINS</th>\n",
       "      <td>-0.0506</td>\n",
       "    </tr>\n",
       "    <tr>\n",
       "      <th>CANCELLATIONS_AFTER_NOON</th>\n",
       "      <td>-0.0541</td>\n",
       "    </tr>\n",
       "  </tbody>\n",
       "</table>\n",
       "</div>"
      ],
      "text/plain": [
       "                             CROSS_SELL_SUCCESS\n",
       "CROSS_SELL_SUCCESS                       1.0000\n",
       "CANCELLATIONS_BEFORE_NOON                0.1634\n",
       "MOBILE_NUMBER                            0.1027\n",
       "TASTES_AND_PREFERENCES                   0.0814\n",
       "REFRIGERATED_LOCKER                      0.0683\n",
       "PC_LOGINS                                0.0445\n",
       "PACKAGE_LOCKER                           0.0435\n",
       "MASTER_CLASSES_ATTENDED                  0.0372\n",
       "CONTACTS_W_CUSTOMER_SERVICE              0.0365\n",
       "AVG_PREP_VID_TIME                        0.0321\n",
       "MEDIAN_MEAL_RATING                       0.0318\n",
       "AVG_MEALS_ORDERED                        0.0222\n",
       "EARLY_DELIVERIES                         0.0151\n",
       "AVG_TIME_PER_SITE_VISIT                  0.0111\n",
       "TOTAL_PHOTOS_VIEWED                      0.0102\n",
       "LATE_DELIVERIES                          0.0067\n",
       "TOTAL_MEALS_ORDERED                      0.0065\n",
       "PRODUCT_CATEGORIES_VIEWED                0.0047\n",
       "REVENUE                                  0.0045\n",
       "UNIQUE_MEALS_PURCH                       0.0011\n",
       "WEEKLY_PLAN                             -0.0053\n",
       "AVG_CLICKS_PER_VISIT                    -0.0351\n",
       "MOBILE_LOGINS                           -0.0506\n",
       "CANCELLATIONS_AFTER_NOON                -0.0541"
      ]
     },
     "execution_count": 14,
     "metadata": {},
     "output_type": "execute_result"
    }
   ],
   "source": [
    "# Correlation between dependent variable and independent variables\n",
    "df_num.join(df_response).corr()[[response_var]].sort_values(by=response_var,ascending=False).round(decimals=4)"
   ]
  },
  {
   "cell_type": "markdown",
   "metadata": {},
   "source": [
    "We can observe that there are various features that do not have strong absolute correlation coefficients with the dependent variable. It is important to observe the scatterplot for each of the features together with the independent value to make sure that each of the features follow the assumptions of ordinary least square regression."
   ]
  },
  {
   "cell_type": "code",
   "execution_count": 15,
   "metadata": {},
   "outputs": [
    {
     "data": {
      "text/plain": [
       "<matplotlib.axes._subplots.AxesSubplot at 0x7fb5f3441100>"
      ]
     },
     "execution_count": 15,
     "metadata": {},
     "output_type": "execute_result"
    },
    {
     "data": {
      "image/png": "[encoded data removed]",
      "text/plain": [
       "<Figure size 432x288 with 2 Axes>"
      ]
     },
     "metadata": {
      "needs_background": "light"
     },
     "output_type": "display_data"
    }
   ],
   "source": [
    "# Correlation Matrix Heatmap\n",
    "sns.heatmap(df_num.corr())"
   ]
  },
  {
   "cell_type": "markdown",
   "metadata": {},
   "source": [
    "We use a heatmap to observe the overall linear relationship between every pair of variable. In this case, we do not observe significant levels of multicolinearity. We can observe relatively strong correlation values between independent variables (see total meals ordered with average clicks per visit, master classes attended, and average prep video time). However, with domain knowledge, we know that these variables are not related directly and thus assume that strong correlation values happen due to chance. "
   ]
  },
  {
   "cell_type": "code",
   "execution_count": 16,
   "metadata": {},
   "outputs": [
    {
     "data": {
      "image/png": "[encoded data removed]",
      "text/plain": [
       "<Figure size 720x576 with 5 Axes>"
      ]
     },
     "metadata": {
      "needs_background": "light"
     },
     "output_type": "display_data"
    }
   ],
   "source": [
    "# Scatterplot visualization with dependent variable and independent variables \n",
    "\n",
    "def visual_scatter(df,response):\n",
    "    # setting figure size\n",
    "    fig, ax = plt.subplots(figsize = (10, 8))\n",
    "    colors = ['b','g','r','c','m','y','k']\n",
    "\n",
    "    for idx,col in enumerate(df.columns.values):\n",
    "        idx += 1\n",
    "\n",
    "        # developing a scatterplot\n",
    "        plt.subplot(3,3, idx)\n",
    "        sns.boxplot(x = response.loc[df.index],\n",
    "                        y = df[col],\n",
    "                        color = rand.choice(colors))\n",
    "\n",
    "\n",
    "        # adding labels\n",
    "        plt.xlabel(xlabel = response_var)\n",
    "        plt.ylabel(ylabel = '{}'.format(col))\n",
    "    \n",
    "\n",
    "# cleaning up the layout and displaying the plots\n",
    "visual_scatter(df_num.iloc[:,18:],df_response[response_var])\n",
    "plt.tight_layout()\n",
    "plt.show()"
   ]
  },
  {
   "cell_type": "markdown",
   "metadata": {},
   "source": [
    "Observing non-linear behavior in various of the relationships between the dependent and independent variables, it will be beneficial to do natural log transform for most if not all of the variables. This will also significantly help with variables that are suffering with heteroscedasticity. "
   ]
  },
  {
   "cell_type": "markdown",
   "metadata": {},
   "source": [
    "### Binning Quantitative Data"
   ]
  },
  {
   "cell_type": "code",
   "execution_count": 17,
   "metadata": {},
   "outputs": [],
   "source": [
    "# Revenue\n",
    "df_num['revenue_class'] = pd.cut(\n",
    "                           df_num['REVENUE'], \n",
    "                           bins=[131,1350,1740,2670,4000,8794], \n",
    "                           labels=[\"low_revenue\", \"mid_revenue\", \"mid_high_revenue\",\"high_revenue\",\"ultra_revenue\"])\n",
    "\n",
    "# Total Meal Orders (annual subscription)\n",
    "df_num['annual_class'] = pd.cut(\n",
    "                           df_num['TOTAL_MEALS_ORDERED'], \n",
    "                           bins=[11,155,259,493], \n",
    "                           labels=[\"no_annual_subscription\", \"basic_annual_subscription\", \"premium_annual_subscription\"])\n",
    "\n",
    "\n",
    "# Meal Rating\n",
    "df_num['rating_class'] = pd.cut(\n",
    "                           df_num['MEDIAN_MEAL_RATING'], \n",
    "                           bins=[0,2,4,5], \n",
    "                           labels=[\"sad_rating\", \"normal_rating\", \"happy_rating\"])\n",
    "\n"
   ]
  },
  {
   "cell_type": "code",
   "execution_count": 18,
   "metadata": {},
   "outputs": [],
   "source": [
    "# Dummy variable encoding\n",
    "df_num = df_num.join(pd.get_dummies(df_num['revenue_class'], drop_first = True))\n",
    "df_num = df_num.join(pd.get_dummies(df_num['annual_class'], drop_first = True))\n",
    "df_num = df_num.join(pd.get_dummies(df_num['rating_class'], drop_first = True))"
   ]
  },
  {
   "cell_type": "code",
   "execution_count": 19,
   "metadata": {},
   "outputs": [],
   "source": [
    "# Dropping original variables\n",
    "df_num.drop(['revenue_class','annual_class','rating_class'], axis=1, inplace = True)"
   ]
  },
  {
   "cell_type": "markdown",
   "metadata": {},
   "source": [
    "For this classification problem, we decided to use a binning method to construct additional categorical variables based on numerical variables by creating categories or segments. In the first example, we created a revenue class that ranges from observations with low revenue, to mid revenue, mid to high revenue, high revenue, and ultra revenue. We also created the annual subscription variable that assumes all those observations that had more than 156 orders in a year to have a full 52-week basic annual subscription, those with more than 260 orders to have a full 52-week premium subscription. We also created a categorical variable based on median ratings."
   ]
  },
  {
   "cell_type": "markdown",
   "metadata": {},
   "source": [
    "### Transformation and Normalization"
   ]
  },
  {
   "cell_type": "code",
   "execution_count": 20,
   "metadata": {},
   "outputs": [],
   "source": [
    "# Transform data to log transform\n",
    "log_cols = ['TOTAL_MEALS_ORDERED',\n",
    "'UNIQUE_MEALS_PURCH',\n",
    "'CONTACTS_W_CUSTOMER_SERVICE',\n",
    "'PRODUCT_CATEGORIES_VIEWED',\n",
    "'AVG_TIME_PER_SITE_VISIT',\n",
    "'CANCELLATIONS_BEFORE_NOON',\n",
    "'WEEKLY_PLAN',\n",
    "'EARLY_DELIVERIES',\n",
    "'LATE_DELIVERIES',\n",
    "'AVG_PREP_VID_TIME',\n",
    "'AVG_MEALS_ORDERED',\n",
    "'MEDIAN_MEAL_RATING',\n",
    "'AVG_CLICKS_PER_VISIT',\n",
    "'TOTAL_PHOTOS_VIEWED',\n",
    "'REVENUE'] \n",
    "\n",
    "# Creating new columns with new log prefix and natural logarithm transformation.\n",
    "for col in log_cols:\n",
    "    # Adding constant 1 to avoid transforming log of zero\n",
    "    df_num.loc[:,'log_'+col] = np.log(df_num[col]+1)"
   ]
  },
  {
   "cell_type": "code",
   "execution_count": 21,
   "metadata": {},
   "outputs": [],
   "source": [
    "# Dropping original values after being transformed\n",
    "df_num.drop(log_cols,axis=1,inplace=True)"
   ]
  },
  {
   "cell_type": "markdown",
   "metadata": {},
   "source": [
    "Looking into the scatterplot between the independent variable and the dependent variable, we believe continuous features and a selected set of discrete values can benefit from natural log-transformation. The transformations will  help each of the distribution to approximately conform to a normal distribution, as well as creating a stronger linear relationship with the response variable by mitigating heteroscedasticity. We then removed the original columns and replace them with the transformed columns. "
   ]
  },
  {
   "cell_type": "code",
   "execution_count": 22,
   "metadata": {},
   "outputs": [],
   "source": [
    "# Adding extra columns with number of outlier detection\n",
    "df_num['OUTLIERS_NUM'] = num_outliers"
   ]
  },
  {
   "cell_type": "code",
   "execution_count": 23,
   "metadata": {},
   "outputs": [],
   "source": [
    "# Creating binary data to encompass those who have viewed photos vs. those who have not\n",
    "df_num['SEEN_PHOTOS'] = (df_num['log_TOTAL_PHOTOS_VIEWED']==0).astype('int')"
   ]
  },
  {
   "cell_type": "code",
   "execution_count": 24,
   "metadata": {},
   "outputs": [],
   "source": [
    "# Normalize data with Min-Max Scaler with a range of 0 to 1\n",
    "df_norm = pd.DataFrame(MinMaxScaler().fit_transform(df_num))\n",
    "df_norm.set_index(df_num.index, inplace = True)\n",
    "\n",
    "df_norm.columns = df_num.columns"
   ]
  },
  {
   "cell_type": "markdown",
   "metadata": {},
   "source": [
    "We scale all of the variables with the Min-Max scaler and set the new range from zero to one. This scale will help us interpret the coefficients in the same scale, and help some of the distance-based models to process correctly (like the KNN model)."
   ]
  },
  {
   "cell_type": "markdown",
   "metadata": {},
   "source": [
    "## Categorical Data"
   ]
  },
  {
   "cell_type": "code",
   "execution_count": 25,
   "metadata": {},
   "outputs": [],
   "source": [
    "# Subsetting observations from numerical data \n",
    "df_cat = df_cat.loc[df_norm.index]"
   ]
  },
  {
   "cell_type": "markdown",
   "metadata": {},
   "source": [
    "### Names and Gender"
   ]
  },
  {
   "cell_type": "code",
   "execution_count": 26,
   "metadata": {
    "scrolled": true
   },
   "outputs": [],
   "source": [
    "# guessing gender based on (given) name\n",
    "\n",
    "def gender_guesser():\n",
    "    # placeholder list\n",
    "    placeholder_lst = []\n",
    "\n",
    "    # looping to guess gender\n",
    "    for name in df_cat.loc[:,'FIRST_NAME']:\n",
    "        guess = gender.Detector(case_sensitive=False).get_gender(name)\n",
    "        print(guess)\n",
    "        placeholder_lst.append(guess)\n",
    "    \n",
    "    return placeholder_lst\n",
    "\n",
    "# converting list into a series\n",
    "# placeholder_lst = gender_guesser()\n",
    "#pd.Series(placeholder_lst).to_csv('name_gender_guesser.csv')"
   ]
  },
  {
   "cell_type": "markdown",
   "metadata": {},
   "source": [
    "We use a gender detector library to classify the gender of each observation with a given first name. Due to processing time, we ran the code one time and saved the results into a csv file."
   ]
  },
  {
   "cell_type": "code",
   "execution_count": 27,
   "metadata": {},
   "outputs": [],
   "source": [
    "# Loading gender guess csv\n",
    "gender_guess = pd.read_csv('./name_gender_guesser.csv')\n",
    "df_cat['GENDER_GUESS'] = pd.Series(gender_guess['GENDER_GUESS'])"
   ]
  },
  {
   "cell_type": "code",
   "execution_count": 28,
   "metadata": {},
   "outputs": [
    {
     "data": {
      "text/plain": [
       "unknown          0.57\n",
       "male             0.15\n",
       "female           0.05\n",
       "mostly_male      0.01\n",
       "mostly_female    0.01\n",
       "andy             0.00\n",
       "Name: GENDER_GUESS, dtype: float64"
      ]
     },
     "execution_count": 28,
     "metadata": {},
     "output_type": "execute_result"
    }
   ],
   "source": [
    "# Observing proportions for the first time\n",
    "(df_cat['GENDER_GUESS'].value_counts() / df_cat.shape[0]).round(2)"
   ]
  },
  {
   "cell_type": "code",
   "execution_count": 29,
   "metadata": {},
   "outputs": [],
   "source": [
    "# Assigning classes\n",
    "df_cat.loc[(df_cat['GENDER_GUESS'] == 'mostly_female') ,'GENDER_GUESS'] = 'female'\n",
    "df_cat.loc[(df_cat['GENDER_GUESS'] == 'mostly_male') ,'GENDER_GUESS'] = 'male'\n",
    "\n",
    "# int assignment\n",
    "female = 1\n",
    "male = 0\n",
    "\n",
    "df_cat.loc[(df_cat['GENDER_GUESS'] == 'andy') ,'GENDER_GUESS'] = np.random.randint(2, size=df_cat.loc[(df_cat['GENDER_GUESS'] == 'andy') ,'GENDER_GUESS'].shape[0])\n",
    "df_cat['GENDER_GUESS'].replace(female,'female', inplace=True)\n",
    "df_cat['GENDER_GUESS'].replace(male,'male', inplace=True)"
   ]
  },
  {
   "cell_type": "code",
   "execution_count": 30,
   "metadata": {},
   "outputs": [],
   "source": [
    "unknown_condition = (df_cat['GENDER_GUESS'] == 'unknown') \n",
    "\n",
    "# Create dummy variable for unknown gender\n",
    "df_cat['GENDER_UNKNOWN'] = unknown_condition.astype('int')\n",
    "\n",
    "# All surnames that are unknown and end with 'a' are assigned female\n",
    "a_condition = df_cat['FIRST_NAME'].str.endswith('a')\n",
    "df_cat.loc[((unknown_condition & a_condition)),'GENDER_GUESS'] = 'female'\n",
    "           \n",
    "# All surnames that are unknown and end with 'o' are assigned to male \n",
    "o_condition = df_cat['FIRST_NAME'].str.endswith('o')\n",
    "df_cat.loc[((unknown_condition & o_condition)),'GENDER_GUESS'] = 'male'         "
   ]
  },
  {
   "cell_type": "code",
   "execution_count": 31,
   "metadata": {},
   "outputs": [
    {
     "data": {
      "text/plain": [
       "unknown    0.49\n",
       "male       0.18\n",
       "female     0.11\n",
       "Name: GENDER_GUESS, dtype: float64"
      ]
     },
     "execution_count": 31,
     "metadata": {},
     "output_type": "execute_result"
    }
   ],
   "source": [
    "# Revising how proportions changed\n",
    "(df_cat['GENDER_GUESS'].value_counts() / df_cat.shape[0]).round(2)"
   ]
  },
  {
   "cell_type": "code",
   "execution_count": 32,
   "metadata": {},
   "outputs": [],
   "source": [
    "# Adding random choice to all the variables that are unknown\n",
    "df_cat.loc[unknown_condition ,'GENDER_GUESS'] = np.random.randint(2, size=df_cat.loc[unknown_condition ,'GENDER_GUESS'].shape[0])\n",
    "df_cat['GENDER_GUESS'].replace(female,'female', inplace=True)\n",
    "df_cat['GENDER_GUESS'].replace(male,'male', inplace=True)"
   ]
  },
  {
   "cell_type": "code",
   "execution_count": 33,
   "metadata": {},
   "outputs": [
    {
     "data": {
      "text/plain": [
       "male      0.44\n",
       "female    0.34\n",
       "Name: GENDER_GUESS, dtype: float64"
      ]
     },
     "execution_count": 33,
     "metadata": {},
     "output_type": "execute_result"
    }
   ],
   "source": [
    "# Revising final proportions\n",
    "(df_cat['GENDER_GUESS'].value_counts() / df_cat.shape[0]).round(2)"
   ]
  },
  {
   "cell_type": "code",
   "execution_count": 34,
   "metadata": {},
   "outputs": [],
   "source": [
    "# Changing to binary variable\n",
    "df_cat['GENDER_GUESS'] = df_cat['GENDER_GUESS'].replace('female',female).replace('male',male)"
   ]
  },
  {
   "cell_type": "code",
   "execution_count": 35,
   "metadata": {},
   "outputs": [],
   "source": [
    "# Filling remaining NA with male (given known proportions were skewed towards male)\n",
    "df_cat['GENDER_GUESS'].fillna(female, inplace=True)"
   ]
  },
  {
   "cell_type": "markdown",
   "metadata": {},
   "source": [
    "\n",
    "\n",
    "\n",
    "We used the gender_guesser library to estimate the gender of each of the customers by using their first name. The majority of the names, however, resulted with unknown genders. For those observations that were classified as \"mostly_female\" and \"mostly_male\", we assigned them to the \"female\" and \"male\" classes respectively. For those observations with \"andy\", given the algorithm found that the names could be assigned either for female or male, we used the numpy random integer generator to create an array of random binary classes and assign those observations with 1 for \"female\" and 0 for \"male\". For the unknown genders, we decided to first create a dummy variable that contains information of which gender was unknown, and then fill those that were unknown but that their first name finished with 'a' or 'o' to female and male respectively. With this, we had 50% of the observations to be unknown, with this, then we decided to run the same random choice method from above to assign the remaining variables as either \"female\" or \"male.\" "
   ]
  },
  {
   "cell_type": "code",
   "execution_count": 36,
   "metadata": {},
   "outputs": [
    {
     "data": {
      "text/html": [
       "<div>\n",
       "<style scoped>\n",
       "    .dataframe tbody tr th:only-of-type {\n",
       "        vertical-align: middle;\n",
       "    }\n",
       "\n",
       "    .dataframe tbody tr th {\n",
       "        vertical-align: top;\n",
       "    }\n",
       "\n",
       "    .dataframe thead th {\n",
       "        text-align: right;\n",
       "    }\n",
       "</style>\n",
       "<table border=\"1\" class=\"dataframe\">\n",
       "  <thead>\n",
       "    <tr style=\"text-align: right;\">\n",
       "      <th></th>\n",
       "      <th>NAME</th>\n",
       "      <th>EMAIL</th>\n",
       "      <th>FIRST_NAME</th>\n",
       "      <th>GENDER_GUESS</th>\n",
       "      <th>GENDER_UNKNOWN</th>\n",
       "    </tr>\n",
       "  </thead>\n",
       "  <tbody>\n",
       "    <tr>\n",
       "      <th>0</th>\n",
       "      <td>Saathos</td>\n",
       "      <td>saathos@unitedhealth.com</td>\n",
       "      <td>Saathos</td>\n",
       "      <td>0.0</td>\n",
       "      <td>1</td>\n",
       "    </tr>\n",
       "    <tr>\n",
       "      <th>1</th>\n",
       "      <td>Alysanne Osgrey</td>\n",
       "      <td>alysanne.osgrey@ge.org</td>\n",
       "      <td>Alysanne</td>\n",
       "      <td>0.0</td>\n",
       "      <td>1</td>\n",
       "    </tr>\n",
       "    <tr>\n",
       "      <th>2</th>\n",
       "      <td>Edwyd Fossoway</td>\n",
       "      <td>edwyd.fossoway@jnj.com</td>\n",
       "      <td>Edwyd</td>\n",
       "      <td>1.0</td>\n",
       "      <td>1</td>\n",
       "    </tr>\n",
       "    <tr>\n",
       "      <th>3</th>\n",
       "      <td>Eleyna Westerling</td>\n",
       "      <td>eleyna.westerling@ge.org</td>\n",
       "      <td>Eleyna</td>\n",
       "      <td>1.0</td>\n",
       "      <td>1</td>\n",
       "    </tr>\n",
       "    <tr>\n",
       "      <th>4</th>\n",
       "      <td>Elyn Norridge</td>\n",
       "      <td>elyn.norridge@jnj.com</td>\n",
       "      <td>Elyn</td>\n",
       "      <td>0.0</td>\n",
       "      <td>1</td>\n",
       "    </tr>\n",
       "    <tr>\n",
       "      <th>...</th>\n",
       "      <td>...</td>\n",
       "      <td>...</td>\n",
       "      <td>...</td>\n",
       "      <td>...</td>\n",
       "      <td>...</td>\n",
       "    </tr>\n",
       "    <tr>\n",
       "      <th>1941</th>\n",
       "      <td>Obara Sand</td>\n",
       "      <td>obara.sand@yahoo.com</td>\n",
       "      <td>Obara</td>\n",
       "      <td>1.0</td>\n",
       "      <td>0</td>\n",
       "    </tr>\n",
       "    <tr>\n",
       "      <th>1942</th>\n",
       "      <td>Quentyn Blackwood</td>\n",
       "      <td>quentyn.blackwood@yahoo.com</td>\n",
       "      <td>Quentyn</td>\n",
       "      <td>1.0</td>\n",
       "      <td>0</td>\n",
       "    </tr>\n",
       "    <tr>\n",
       "      <th>1943</th>\n",
       "      <td>Rhonda Rowan</td>\n",
       "      <td>rhonda.rowan@gmail.com</td>\n",
       "      <td>Rhonda</td>\n",
       "      <td>1.0</td>\n",
       "      <td>0</td>\n",
       "    </tr>\n",
       "    <tr>\n",
       "      <th>1944</th>\n",
       "      <td>Turnip</td>\n",
       "      <td>turnip@yahoo.com</td>\n",
       "      <td>Turnip</td>\n",
       "      <td>1.0</td>\n",
       "      <td>0</td>\n",
       "    </tr>\n",
       "    <tr>\n",
       "      <th>1945</th>\n",
       "      <td>Tommard Heddle</td>\n",
       "      <td>tommard.heddle@merck.com</td>\n",
       "      <td>Tommard</td>\n",
       "      <td>1.0</td>\n",
       "      <td>0</td>\n",
       "    </tr>\n",
       "  </tbody>\n",
       "</table>\n",
       "<p>1946 rows × 5 columns</p>\n",
       "</div>"
      ],
      "text/plain": [
       "                   NAME                        EMAIL FIRST_NAME  GENDER_GUESS  \\\n",
       "0               Saathos     saathos@unitedhealth.com    Saathos           0.0   \n",
       "1       Alysanne Osgrey       alysanne.osgrey@ge.org   Alysanne           0.0   \n",
       "2        Edwyd Fossoway       edwyd.fossoway@jnj.com      Edwyd           1.0   \n",
       "3     Eleyna Westerling     eleyna.westerling@ge.org     Eleyna           1.0   \n",
       "4         Elyn Norridge        elyn.norridge@jnj.com       Elyn           0.0   \n",
       "...                 ...                          ...        ...           ...   \n",
       "1941         Obara Sand         obara.sand@yahoo.com      Obara           1.0   \n",
       "1942  Quentyn Blackwood  quentyn.blackwood@yahoo.com    Quentyn           1.0   \n",
       "1943       Rhonda Rowan       rhonda.rowan@gmail.com     Rhonda           1.0   \n",
       "1944             Turnip             turnip@yahoo.com     Turnip           1.0   \n",
       "1945     Tommard Heddle     tommard.heddle@merck.com    Tommard           1.0   \n",
       "\n",
       "      GENDER_UNKNOWN  \n",
       "0                  1  \n",
       "1                  1  \n",
       "2                  1  \n",
       "3                  1  \n",
       "4                  1  \n",
       "...              ...  \n",
       "1941               0  \n",
       "1942               0  \n",
       "1943               0  \n",
       "1944               0  \n",
       "1945               0  \n",
       "\n",
       "[1946 rows x 5 columns]"
      ]
     },
     "execution_count": 36,
     "metadata": {},
     "output_type": "execute_result"
    }
   ],
   "source": [
    "df_cat"
   ]
  },
  {
   "cell_type": "markdown",
   "metadata": {},
   "source": [
    "### Names and Length"
   ]
  },
  {
   "cell_type": "code",
   "execution_count": 37,
   "metadata": {},
   "outputs": [],
   "source": [
    "# Finding number of names that a customer have\n",
    "df_cat['NAME_NUM'] = (df_cat['NAME'].str.count(' ') + 1)"
   ]
  },
  {
   "cell_type": "code",
   "execution_count": 38,
   "metadata": {},
   "outputs": [],
   "source": [
    "# funding number of characters (without spaces)\n",
    "df_cat['NAME_CHAR'] = df_cat['NAME'].str.replace(' ', '').str.len()"
   ]
  },
  {
   "cell_type": "markdown",
   "metadata": {},
   "source": [
    "For additional features, we decided to introduce the number of names that a customer has and the character length of the customer's name. Our hypothesis is that the number of names and the character length of the names could explain whether if a customer is more susceptible to participate in cross sales. "
   ]
  },
  {
   "cell_type": "markdown",
   "metadata": {},
   "source": [
    "### Email Classification"
   ]
  },
  {
   "cell_type": "code",
   "execution_count": 39,
   "metadata": {},
   "outputs": [],
   "source": [
    "# Creating Email Domain column by spliting email from '@' character\n",
    "df_cat['EMAIL_DOMAIN'] = '@' + df_cat['EMAIL'].str.split('@',expand=True)[1]"
   ]
  },
  {
   "cell_type": "code",
   "execution_count": 40,
   "metadata": {},
   "outputs": [],
   "source": [
    "professional_email = ['@mmm.com' \n",
    "            ,'@amex.com' \n",
    "            ,'@apple.com'\n",
    "            ,'@boeing.com'\n",
    "            ,'@caterpillar.com' \n",
    "            ,'@chevron.com' \n",
    "            ,'@cisco.com' \n",
    "            ,'@cocacola.com' \n",
    "            ,'@disney.com' \n",
    "            ,'@dupont.com' \n",
    "            ,'@exxon.com' \n",
    "            ,'@ge.org'\n",
    "            ,'@goldmansacs.com'\n",
    "            ,'@homedepot.com' \n",
    "            ,'@ibm.com' \n",
    "            ,'@intel.com' \n",
    "            ,'@jnj.com'\n",
    "            ,'@jpmorgan.com'\n",
    "            ,'@mcdonalds.com' \n",
    "            ,'@merck.com' \n",
    "            ,'@microsoft.com'\n",
    "            ,'@nike.com' \n",
    "            ,'@pfizer.com' \n",
    "            ,'@pg.com' \n",
    "            ,'@travelers.com'\n",
    "            ,'@unitedtech.com'\n",
    "            ,'@unitedhealth.com' \n",
    "            ,'@verizon.com' \n",
    "            ,'@visa.com' \n",
    "            ,'@walmart.com']\n",
    "\n",
    "personal_email = ['@gmail.com', '@yahoo.com', '@protonmail.com']\n",
    "\n",
    "junk_email = ['@me.com', '@aol.com', '@hotmail.com', '@live.com', '@msn.com', '@passport.com']"
   ]
  },
  {
   "cell_type": "code",
   "execution_count": 41,
   "metadata": {},
   "outputs": [],
   "source": [
    "# Professional Class\n",
    "df_cat.loc[df_cat['EMAIL_DOMAIN'].isin(professional_email),'EMAIL_CLASS'] = 'professional'\n",
    "\n",
    "# Personal Class\n",
    "df_cat.loc[df_cat['EMAIL_DOMAIN'].isin(personal_email),'EMAIL_CLASS'] = 'personal'\n",
    "\n",
    "# Junk Class\n",
    "df_cat.loc[df_cat['EMAIL_DOMAIN'].isin(junk_email),'EMAIL_CLASS'] = 'junk'"
   ]
  },
  {
   "cell_type": "code",
   "execution_count": 42,
   "metadata": {},
   "outputs": [
    {
     "data": {
      "text/plain": [
       "personal        0.44\n",
       "professional    0.36\n",
       "junk            0.20\n",
       "Name: EMAIL_CLASS, dtype: float64"
      ]
     },
     "execution_count": 42,
     "metadata": {},
     "output_type": "execute_result"
    }
   ],
   "source": [
    "# Email class proportions\n",
    "(df_cat['EMAIL_CLASS'].value_counts() / df_cat.shape[0]).round(2)"
   ]
  },
  {
   "cell_type": "code",
   "execution_count": 43,
   "metadata": {},
   "outputs": [],
   "source": [
    "# Creating one-hot-encoding for Email Class column, deletes one class (K - 1)\n",
    "df_cat = df_cat.join(pd.get_dummies(df_cat['EMAIL_CLASS'], drop_first = True))"
   ]
  },
  {
   "cell_type": "code",
   "execution_count": 44,
   "metadata": {},
   "outputs": [],
   "source": [
    "# Cleaning columns that are irrelevant\n",
    "df_cat.drop(['NAME','EMAIL','FIRST_NAME','EMAIL_DOMAIN','EMAIL_CLASS'],axis=1, inplace=True)"
   ]
  },
  {
   "cell_type": "markdown",
   "metadata": {},
   "source": [
    "With the email variable, we used information from the case to obtain a list of those emails that were considered as professional, personal, or junk. We used different string methods to split the email variable and obtain the domain of the email only. With this information, we then classified those observations with their domains to each of their respective buckets (\"professional\", \"personal\", or \"junk\"). We expect this classification to give us further information about the customer profile. We then converted the variable into a dummy variable of those that are \"personal\" and those that are \"junk\", and dropped the \"personal\" column to use it as the baseline class in the models. "
   ]
  },
  {
   "cell_type": "markdown",
   "metadata": {},
   "source": [
    "## Feature Engineering"
   ]
  },
  {
   "cell_type": "code",
   "execution_count": 45,
   "metadata": {},
   "outputs": [],
   "source": [
    "# Joining number data with categorical data, then separating features from the target value.\n",
    "df_features = df_cat.join(df_norm)"
   ]
  },
  {
   "cell_type": "markdown",
   "metadata": {},
   "source": [
    "### Domain Knowledge Features"
   ]
  },
  {
   "cell_type": "code",
   "execution_count": 46,
   "metadata": {},
   "outputs": [],
   "source": [
    "## Average Number of Unique Meals per order \n",
    "df_features['MEALS_PER_ORDER'] = df_features['log_TOTAL_MEALS_ORDERED'] / df_features['log_UNIQUE_MEALS_PURCH']\n",
    "\n",
    "# TOTAL_PHOTOS_VIEWED per total logins\n",
    "df_features['PHOTOS_VIEWED_LOGIN'] = df_features['log_TOTAL_PHOTOS_VIEWED'] / (df_features['MOBILE_LOGINS'] + df_features['PC_LOGINS'])\n",
    "\n",
    "# LATE_DELIVERIES  per CONTACTS_W_CUSTOMER_SERVICE\n",
    "df_features['LATE_DELIVERIES_CUSTOMER'] = df_features['log_LATE_DELIVERIES'] / df_features['log_CONTACTS_W_CUSTOMER_SERVICE']\n",
    "\n",
    "# MEDIAN_MEAL_RATING per AVG_PREP_VID_TIME\n",
    "df_features['RATING_VID_TIME'] = df_features['log_MEDIAN_MEAL_RATING'] / df_features['log_AVG_PREP_VID_TIME']\n",
    "\n",
    "# AVG_MEALS_ORDERED per AVG_TIME_PER_SITE_VISIT\n",
    "df_features['ORDERS_PER_VISIT'] = df_features['log_AVG_MEALS_ORDERED'] / df_features['log_AVG_TIME_PER_SITE_VISIT']\n",
    "\n",
    "# MEDIAN_MEAL_RATING per EARLY_DELIVERIES \n",
    "df_features['RATING_EARLY_DELIVERIES'] = df_features['log_MEDIAN_MEAL_RATING'] / df_features['log_EARLY_DELIVERIES']\n",
    "\n",
    "# MASTER_CLASSES_ATTENDED per AVG_PREP_VID_TIME\n",
    "df_features['CLASS_PER_VID_TIME'] = df_features['MASTER_CLASSES_ATTENDED'] / df_features['log_AVG_PREP_VID_TIME']\n"
   ]
  },
  {
   "cell_type": "code",
   "execution_count": 47,
   "metadata": {},
   "outputs": [],
   "source": [
    "# Making sure inf values turn into nan\n",
    "df_features.replace([np.inf, -np.inf], np.nan,inplace=True)\n",
    "df_features.fillna(0,inplace=True)"
   ]
  },
  {
   "cell_type": "markdown",
   "metadata": {},
   "source": [
    "Looking into the case, we were able to find additional information about the customer journey framework, the master cooking classes, operation processes and pipeline, ordering platform characteristics, and customer service experience. With this, we were able to add additional features (mostly ratios) into the processed dataset: <b>1) unique meals per order,</b> by dividing the total meals ordered with the unique meals purchased, we can obtain additional information about the average number of unique meals ordered per customer; <b>2) photos viewed per total login</b>, by dividing total photos viewed with the sum of the mobile and PC logins, we obtained additional information of the number of pictures that a customer sees every time he or she logs in the platform; <b>3) late deliveries per contact with customer service</b>, this new variable can tell us the proportion of those that had late deliveries and that had a contact with customer services; <b>4) median meal rating per average prep video time</b>, this variable tells us the proportion of the ratings with the time it takes to observe the preparation video; <b>5) meals ordered per time per site visit</b>, this variable tells us how many meals are being ordered per the average time a customer spends on the platform when they visit it; <b>6) median meal rating per early deliveries</b>, this variable helps us explore the relationship of how the ratings change with the number of times a customer receives an order early; <b>7) class attended per prep video time</b>, this variables tells us the amount of classes that a customer attended in respect with the amount that the preparation video took."
   ]
  },
  {
   "cell_type": "markdown",
   "metadata": {},
   "source": [
    "### Interactions"
   ]
  },
  {
   "cell_type": "code",
   "execution_count": 48,
   "metadata": {},
   "outputs": [],
   "source": [
    "# Create every possible bivariate combination to be tested for feature engineering\n",
    "from itertools import combinations\n",
    "\n",
    "interaction_list = ['log_REVENUE',\n",
    "'log_TOTAL_MEALS_ORDERED',\n",
    "'log_UNIQUE_MEALS_PURCH',\n",
    "'log_CONTACTS_W_CUSTOMER_SERVICE',\n",
    "'log_PRODUCT_CATEGORIES_VIEWED',\n",
    "'log_AVG_TIME_PER_SITE_VISIT',\n",
    "'log_CANCELLATIONS_BEFORE_NOON',\n",
    "'log_WEEKLY_PLAN',\n",
    "'log_EARLY_DELIVERIES',\n",
    "'log_LATE_DELIVERIES',\n",
    "'log_AVG_PREP_VID_TIME',\n",
    "'log_AVG_MEALS_ORDERED',\n",
    "'log_MEDIAN_MEAL_RATING',\n",
    "'log_AVG_CLICKS_PER_VISIT',\n",
    "'log_TOTAL_PHOTOS_VIEWED']\n",
    "\n",
    "interactions = list(combinations(interaction_list, 2))"
   ]
  },
  {
   "cell_type": "code",
   "execution_count": 49,
   "metadata": {},
   "outputs": [
    {
     "data": {
      "text/plain": [
       "(1946, 151)"
      ]
     },
     "execution_count": 49,
     "metadata": {},
     "output_type": "execute_result"
    }
   ],
   "source": [
    "# Iterate through interaction list to perform linear regression for each possible engineered features\n",
    "for interaction in interactions:\n",
    "    df_features['{}_{}'.format(interaction[0],interaction[1])] = df_features[interaction[0]] * df_features[interaction[1]]\n",
    "\n",
    "df_features.shape"
   ]
  },
  {
   "cell_type": "markdown",
   "metadata": {},
   "source": [
    "For additional variables, we decided to introduce the interactions of continuous, and a selected number of count and interval, variables to create new features with the potential where the magnitude of existing variables depends on other variables, assuming constant direction for the first variables. In it, we used the library of itertools to find all the potential combinations between the selected variables to create interactions between them.  "
   ]
  },
  {
   "cell_type": "markdown",
   "metadata": {},
   "source": [
    "## Train-Test Split"
   ]
  },
  {
   "cell_type": "code",
   "execution_count": 50,
   "metadata": {},
   "outputs": [],
   "source": [
    "# Dividing dataset into dependent and independent variables\n",
    "X = df_features\n",
    "y = df_response[response_var]\n"
   ]
  },
  {
   "cell_type": "markdown",
   "metadata": {},
   "source": [
    "#### Feature Selection (Multicollinearity)"
   ]
  },
  {
   "cell_type": "code",
   "execution_count": 51,
   "metadata": {},
   "outputs": [],
   "source": [
    "# Statsmodel VIF multicollinearity\n",
    "\n",
    "def VIF_features(X,feature_threshold=50,VIF_threshold=10):\n",
    "    \n",
    "    '''\n",
    "    Calculates Variance Inflation Factor to calculate multicollinearity between\n",
    "    independent variables.\n",
    "    \n",
    "    Params:\n",
    "    feature_threshold = Minimum Number of features to end with\n",
    "    VIF_threshold = amount of VIF expected\n",
    "    \n",
    "    '''\n",
    "    \n",
    "    # copy of dataset\n",
    "    X_select = X.copy()\n",
    "    \n",
    "    while X_select.shape[1] > feature_threshold:\n",
    "\n",
    "        # Calculating VIF\n",
    "        vif = pd.DataFrame(index=X_select.columns)\n",
    "        vif[\"VIF\"] = [variance_inflation_factor(X_select.values, i) for i in range(X_select.shape[1])]\n",
    "        \n",
    "        # Getting highest VIF\n",
    "        VIF_list = vif.sort_values(by='VIF',ascending=False).round(decimals=4)\n",
    "        highest_VIF = VIF_list.index[0]\n",
    "        highest_VIF_val = VIF_list['VIF'][0]\n",
    "        \n",
    "        # Feature selection\n",
    "        if (highest_VIF_val > VIF_threshold):     \n",
    "            \n",
    "            print(\"Deleted Feature:\",highest_VIF)\n",
    "            print(\"VIF:\",highest_VIF_val)\n",
    "            print(\"Model Size:\",X_select.shape[1])\n",
    "            print(\"----------------------\")\n",
    "            \n",
    "            X_select.drop(highest_VIF,axis=1,inplace=True)\n",
    "            \n",
    "        else:\n",
    "            break\n",
    "    \n",
    "    print(\"Final Number of features selected: \", X_select.shape[1])\n",
    "    \n",
    "    return X_select.columns\n"
   ]
  },
  {
   "cell_type": "code",
   "execution_count": 52,
   "metadata": {
    "code_folding": [
     0
    ]
   },
   "outputs": [],
   "source": [
    "# # Utilizing Statsmodel Logistic Regression coefficient statistical significance\n",
    "# VIF_list = VIF_features(X,feature_threshold=75,VIF_threshold=10)"
   ]
  },
  {
   "cell_type": "code",
   "execution_count": 53,
   "metadata": {
    "code_folding": [
     0
    ]
   },
   "outputs": [],
   "source": [
    "# # Selecting features with low VIF\n",
    "# X = X[VIF_list]"
   ]
  },
  {
   "cell_type": "markdown",
   "metadata": {},
   "source": [
    "#### Feature Selection (correlation)"
   ]
  },
  {
   "cell_type": "code",
   "execution_count": 54,
   "metadata": {},
   "outputs": [
    {
     "name": "stdout",
     "output_type": "stream",
     "text": [
      "Number of features selected:  74\n"
     ]
    }
   ],
   "source": [
    "# Response variable correlated against all features\n",
    "response_corr = X.join(y).corr()[[response_var]].sort_values(by=response_var,ascending=False)\n",
    "\n",
    "# Setting threshold for those variables with strong correlation\n",
    "corr_threshold = 0.02\n",
    "\n",
    "# Selecting features that have moderately strong correlation with response variable\n",
    "corr_list = response_corr.loc[(response_corr[response_var] < -corr_threshold) | (response_corr[response_var] > corr_threshold)].iloc[1:].index\n",
    "print('Number of features selected: ', len(corr_list))"
   ]
  },
  {
   "cell_type": "code",
   "execution_count": 55,
   "metadata": {
    "code_folding": [
     0
    ]
   },
   "outputs": [],
   "source": [
    "# # Selecting high correlation features\n",
    "# X = X[corr_list]"
   ]
  },
  {
   "cell_type": "markdown",
   "metadata": {},
   "source": [
    "#### Feature Selection (Statistical Significance)"
   ]
  },
  {
   "cell_type": "code",
   "execution_count": 56,
   "metadata": {
    "code_folding": [
     0
    ]
   },
   "outputs": [],
   "source": [
    "# Statsmodel feature selection auto function\n",
    "\n",
    "def auto_features(X,y,feature_threshold=20,sig_threshold=0.15):\n",
    "    \n",
    "    '''\n",
    "    Helper function to get the optimal number of features according to logistic regression\n",
    "    coefficient p-value. This method uses bacckward stepwise selection by taking an insignificant coefficient\n",
    "    one at a time. \n",
    "    \n",
    "    Params:\n",
    "    feature_threshold = Minimum Number of features to end with\n",
    "    sig_threshold = statistical significance threshold\n",
    "    \n",
    "    '''\n",
    "    \n",
    "    # copy of dataset\n",
    "    X_select, y_select = X.copy(), y.copy()\n",
    "    \n",
    "    while X_select.shape[1] > feature_threshold:\n",
    "\n",
    "        # Splitting the dataset into 75% Trainning and 25% Testing sets\n",
    "        X_train, X_test, y_train, y_test = train_test_split(X_select, y_select, \n",
    "                                                            test_size = 0.25, \n",
    "                                                            random_state = 219, \n",
    "                                                            stratify=y_select)\n",
    "\n",
    "        # Instantiating Statsmodel OLS Linear Regression model\n",
    "        variables = \"+\".join(X_train.columns)\n",
    "        formula = '{} ~ '.format(response_var) + variables\n",
    "\n",
    "        stats_logit = smf.logit(formula = formula,data = X_train.join(y_train))\n",
    "\n",
    "        # telling Python to FIT the data to the blueprint\n",
    "        results = stats_logit.fit(disp=0)\n",
    "\n",
    "        # Looking at highest p-value\n",
    "        p_list = results.pvalues.sort_values(ascending=False).round(decimals=4)\n",
    "        highest_p = p_list.index[0]\n",
    "        highest_p_val = p_list.round(decimals=4)[0]\n",
    "        \n",
    "        # calculating performance\n",
    "        model_fit = results\n",
    "        \n",
    "        # PREDICTING on new data\n",
    "        model_pred = model_fit.predict(X_test)\n",
    "\n",
    "        # ROC-AUC score  (test score)\n",
    "        auc_score = roc_auc_score(y_test,model_pred).round(decimals = 4)\n",
    "        \n",
    "        # Feature selection\n",
    "        if (highest_p_val > sig_threshold) and (highest_p != 'Intercept'):            \n",
    "            X_select.drop(highest_p,axis=1,inplace=True)\n",
    "            \n",
    "            print(\"Deleted Feature:\",highest_p)\n",
    "            print(\"P-value:\",highest_p_val)\n",
    "            print(\"AUC score:\", auc_score)\n",
    "            print(\"Model Size:\",X_select.shape[1])\n",
    "            print(\"----------------------\")\n",
    "            \n",
    "        else:\n",
    "            break\n",
    "    \n",
    "    print(\"Final Number of features selected: \", X_select.shape[1])\n",
    "    print(\"Highest P-value: \", highest_p_val)\n",
    "    \n",
    "    return X_select.columns\n"
   ]
  },
  {
   "cell_type": "code",
   "execution_count": 57,
   "metadata": {
    "code_folding": []
   },
   "outputs": [],
   "source": [
    "# # Utilizing Statsmodel Logistic Regression coefficient statistical significance\n",
    "# significant_list = auto_features(X,y,feature_threshold=20,sig_threshold=0.05)\n",
    "\n",
    "# # Selecting significant features only\n",
    "# X = X[significant_list]"
   ]
  },
  {
   "cell_type": "markdown",
   "metadata": {},
   "source": [
    "### Split"
   ]
  },
  {
   "cell_type": "code",
   "execution_count": 58,
   "metadata": {},
   "outputs": [],
   "source": [
    "# Splitting the dataset into 75% Trainning and 25% Testing sets\n",
    "X_train, X_test, y_train, y_test = train_test_split(X, y, \n",
    "                                                    test_size = 0.25, \n",
    "                                                    random_state = 219, \n",
    "                                                    stratify=y)"
   ]
  },
  {
   "cell_type": "markdown",
   "metadata": {},
   "source": [
    "## Predictive Model Development"
   ]
  },
  {
   "cell_type": "code",
   "execution_count": 59,
   "metadata": {},
   "outputs": [],
   "source": [
    "# Defining a function to output metrics\n",
    "\n",
    "def metrics(model,X,y,X_train,y_train,X_test,y_test):\n",
    "    \n",
    "    # FITTING on the whole data (tuned models went through Cross-Validation with the whole data)\n",
    "    model_fit = model.fit(X,y)\n",
    "    \n",
    "    # PREDICTING on new data\n",
    "    model_pred = model_fit.predict(X_test)\n",
    "\n",
    "    # saving scoring data for future use\n",
    "    model_train_score = model.score(X_train,y_train).round(decimals = 4)\n",
    "    model_test_score  = model.score(X_test,y_test).round(decimals = 4)\n",
    "    \n",
    "    # ROC-AUC score  (test score)\n",
    "    auc_score = roc_auc_score(y_test,model_pred).round(decimals = 4)\n",
    "    \n",
    "    # unpacking the confusion matrix\n",
    "    model_tn, model_fp, model_fn, model_tp = confusion_matrix(y_true = y_test, y_pred = model_pred).ravel()\n",
    "    \n",
    "    # Confusion Matrix\n",
    "    c_matrix = (model_tn, model_fp, model_fn, model_tp)\n",
    "    \n",
    "    return model_train_score, model_test_score, auc_score, c_matrix\n",
    "    "
   ]
  },
  {
   "cell_type": "code",
   "execution_count": 60,
   "metadata": {},
   "outputs": [],
   "source": [
    "def plot_feature_importances(model, X_train, top_features=10):\n",
    "    \"\"\"\n",
    "    Plots the importance of features from a CART model.\n",
    "    \n",
    "    PARAMETERS\n",
    "    ----------\n",
    "    model  : CART model\n",
    "    train  : explanatory variable training data\n",
    "    top_features : number of top features to show\n",
    "    \n",
    "    \"\"\"\n",
    "    \n",
    "    # Getting features and their relative importance according to the model\n",
    "    features = X_train.columns\n",
    "    feature_importance = model.feature_importances_\n",
    "\n",
    "    # Creating dataframe \n",
    "    feature_importance_df = pd.DataFrame(data={'Feature Importance': feature_importance},index=features)\n",
    "    \n",
    "    # Sorted and top features\n",
    "    sorted_df = feature_importance_df.sort_values(by='Feature Importance', ascending=False).head(top_features)\n",
    "\n",
    "    # Plotting the result\n",
    "    sorted_df.plot.barh()\n",
    "    plt.xlabel(\"Feature importance (%)\")\n",
    "    "
   ]
  },
  {
   "cell_type": "markdown",
   "metadata": {},
   "source": [
    "### Statsmodel Multiple Linear Regression(OLS Regression)"
   ]
  },
  {
   "cell_type": "code",
   "execution_count": 61,
   "metadata": {},
   "outputs": [
    {
     "name": "stdout",
     "output_type": "stream",
     "text": [
      "Optimization terminated successfully.\n",
      "         Current function value: 0.485494\n",
      "         Iterations 7\n"
     ]
    },
    {
     "data": {
      "text/html": [
       "<table class=\"simpletable\">\n",
       "<caption>Logit Regression Results</caption>\n",
       "<tr>\n",
       "  <th>Dep. Variable:</th>   <td>CROSS_SELL_SUCCESS</td> <th>  No. Observations:  </th>  <td>  1459</td>  \n",
       "</tr>\n",
       "<tr>\n",
       "  <th>Model:</th>                  <td>Logit</td>       <th>  Df Residuals:      </th>  <td>  1307</td>  \n",
       "</tr>\n",
       "<tr>\n",
       "  <th>Method:</th>                  <td>MLE</td>        <th>  Df Model:          </th>  <td>   151</td>  \n",
       "</tr>\n",
       "<tr>\n",
       "  <th>Date:</th>             <td>Fri, 29 Jan 2021</td>  <th>  Pseudo R-squ.:     </th>  <td>0.2269</td>  \n",
       "</tr>\n",
       "<tr>\n",
       "  <th>Time:</th>                 <td>15:24:28</td>      <th>  Log-Likelihood:    </th> <td> -708.34</td> \n",
       "</tr>\n",
       "<tr>\n",
       "  <th>converged:</th>              <td>True</td>        <th>  LL-Null:           </th> <td> -916.19</td> \n",
       "</tr>\n",
       "<tr>\n",
       "  <th>Covariance Type:</th>      <td>nonrobust</td>     <th>  LLR p-value:       </th> <td>1.370e-26</td>\n",
       "</tr>\n",
       "</table>\n",
       "<table class=\"simpletable\">\n",
       "<tr>\n",
       "                                <td></td>                                   <th>coef</th>     <th>std err</th>      <th>z</th>      <th>P>|z|</th>  <th>[0.025</th>    <th>0.975]</th>  \n",
       "</tr>\n",
       "<tr>\n",
       "  <th>Intercept</th>                                                     <td>   18.0444</td> <td>   12.341</td> <td>    1.462</td> <td> 0.144</td> <td>   -6.143</td> <td>   42.232</td>\n",
       "</tr>\n",
       "<tr>\n",
       "  <th>GENDER_GUESS</th>                                                  <td>   -0.2706</td> <td>    0.152</td> <td>   -1.778</td> <td> 0.075</td> <td>   -0.569</td> <td>    0.028</td>\n",
       "</tr>\n",
       "<tr>\n",
       "  <th>GENDER_UNKNOWN</th>                                                <td>   -0.0007</td> <td>    0.163</td> <td>   -0.004</td> <td> 0.996</td> <td>   -0.320</td> <td>    0.318</td>\n",
       "</tr>\n",
       "<tr>\n",
       "  <th>NAME_NUM</th>                                                      <td>    0.0469</td> <td>    0.193</td> <td>    0.244</td> <td> 0.808</td> <td>   -0.331</td> <td>    0.425</td>\n",
       "</tr>\n",
       "<tr>\n",
       "  <th>NAME_CHAR</th>                                                     <td>    0.0958</td> <td>    0.031</td> <td>    3.097</td> <td> 0.002</td> <td>    0.035</td> <td>    0.156</td>\n",
       "</tr>\n",
       "<tr>\n",
       "  <th>personal</th>                                                      <td>    1.5234</td> <td>    0.183</td> <td>    8.334</td> <td> 0.000</td> <td>    1.165</td> <td>    1.882</td>\n",
       "</tr>\n",
       "<tr>\n",
       "  <th>professional</th>                                                  <td>    2.2715</td> <td>    0.202</td> <td>   11.265</td> <td> 0.000</td> <td>    1.876</td> <td>    2.667</td>\n",
       "</tr>\n",
       "<tr>\n",
       "  <th>MOBILE_NUMBER</th>                                                 <td>    0.8270</td> <td>    0.205</td> <td>    4.043</td> <td> 0.000</td> <td>    0.426</td> <td>    1.228</td>\n",
       "</tr>\n",
       "<tr>\n",
       "  <th>CANCELLATIONS_AFTER_NOON</th>                                      <td>   -0.8674</td> <td>    0.505</td> <td>   -1.716</td> <td> 0.086</td> <td>   -1.858</td> <td>    0.123</td>\n",
       "</tr>\n",
       "<tr>\n",
       "  <th>TASTES_AND_PREFERENCES</th>                                        <td>    0.3667</td> <td>    0.154</td> <td>    2.388</td> <td> 0.017</td> <td>    0.066</td> <td>    0.668</td>\n",
       "</tr>\n",
       "<tr>\n",
       "  <th>PC_LOGINS</th>                                                     <td>    0.7733</td> <td>    0.409</td> <td>    1.890</td> <td> 0.059</td> <td>   -0.029</td> <td>    1.575</td>\n",
       "</tr>\n",
       "<tr>\n",
       "  <th>MOBILE_LOGINS</th>                                                 <td>   -0.8747</td> <td>    0.440</td> <td>   -1.989</td> <td> 0.047</td> <td>   -1.736</td> <td>   -0.013</td>\n",
       "</tr>\n",
       "<tr>\n",
       "  <th>PACKAGE_LOCKER</th>                                                <td>   -0.0389</td> <td>    0.167</td> <td>   -0.233</td> <td> 0.816</td> <td>   -0.366</td> <td>    0.288</td>\n",
       "</tr>\n",
       "<tr>\n",
       "  <th>REFRIGERATED_LOCKER</th>                                           <td>    0.6166</td> <td>    0.264</td> <td>    2.332</td> <td> 0.020</td> <td>    0.098</td> <td>    1.135</td>\n",
       "</tr>\n",
       "<tr>\n",
       "  <th>MASTER_CLASSES_ATTENDED</th>                                       <td>   -2.0047</td> <td>    2.173</td> <td>   -0.923</td> <td> 0.356</td> <td>   -6.264</td> <td>    2.254</td>\n",
       "</tr>\n",
       "<tr>\n",
       "  <th>mid_revenue</th>                                                   <td>    0.3870</td> <td>    0.283</td> <td>    1.368</td> <td> 0.171</td> <td>   -0.168</td> <td>    0.942</td>\n",
       "</tr>\n",
       "<tr>\n",
       "  <th>mid_high_revenue</th>                                              <td>    0.1681</td> <td>    0.435</td> <td>    0.386</td> <td> 0.699</td> <td>   -0.685</td> <td>    1.021</td>\n",
       "</tr>\n",
       "<tr>\n",
       "  <th>high_revenue</th>                                                  <td>   -0.3674</td> <td>    0.674</td> <td>   -0.545</td> <td> 0.586</td> <td>   -1.689</td> <td>    0.954</td>\n",
       "</tr>\n",
       "<tr>\n",
       "  <th>ultra_revenue</th>                                                 <td>   -1.0897</td> <td>    0.987</td> <td>   -1.104</td> <td> 0.270</td> <td>   -3.024</td> <td>    0.845</td>\n",
       "</tr>\n",
       "<tr>\n",
       "  <th>basic_annual_subscription</th>                                     <td>   -0.7511</td> <td>    0.447</td> <td>   -1.680</td> <td> 0.093</td> <td>   -1.627</td> <td>    0.125</td>\n",
       "</tr>\n",
       "<tr>\n",
       "  <th>premium_annual_subscription</th>                                   <td>   -1.4802</td> <td>    0.889</td> <td>   -1.665</td> <td> 0.096</td> <td>   -3.222</td> <td>    0.262</td>\n",
       "</tr>\n",
       "<tr>\n",
       "  <th>normal_rating</th>                                                 <td>   -0.4982</td> <td>    0.380</td> <td>   -1.311</td> <td> 0.190</td> <td>   -1.243</td> <td>    0.247</td>\n",
       "</tr>\n",
       "<tr>\n",
       "  <th>happy_rating</th>                                                  <td>   -0.4322</td> <td>    1.444</td> <td>   -0.299</td> <td> 0.765</td> <td>   -3.261</td> <td>    2.397</td>\n",
       "</tr>\n",
       "<tr>\n",
       "  <th>log_TOTAL_MEALS_ORDERED</th>                                       <td>   23.7511</td> <td>   11.081</td> <td>    2.143</td> <td> 0.032</td> <td>    2.033</td> <td>   45.470</td>\n",
       "</tr>\n",
       "<tr>\n",
       "  <th>log_UNIQUE_MEALS_PURCH</th>                                        <td>   -9.1659</td> <td>    6.592</td> <td>   -1.390</td> <td> 0.164</td> <td>  -22.086</td> <td>    3.754</td>\n",
       "</tr>\n",
       "<tr>\n",
       "  <th>log_CONTACTS_W_CUSTOMER_SERVICE</th>                               <td>   10.4358</td> <td>   11.717</td> <td>    0.891</td> <td> 0.373</td> <td>  -12.530</td> <td>   33.401</td>\n",
       "</tr>\n",
       "<tr>\n",
       "  <th>log_PRODUCT_CATEGORIES_VIEWED</th>                                 <td>   -0.7166</td> <td>    3.964</td> <td>   -0.181</td> <td> 0.857</td> <td>   -8.486</td> <td>    7.053</td>\n",
       "</tr>\n",
       "<tr>\n",
       "  <th>log_AVG_TIME_PER_SITE_VISIT</th>                                   <td>  -15.1484</td> <td>   13.707</td> <td>   -1.105</td> <td> 0.269</td> <td>  -42.014</td> <td>   11.718</td>\n",
       "</tr>\n",
       "<tr>\n",
       "  <th>log_CANCELLATIONS_BEFORE_NOON</th>                                 <td>    4.6881</td> <td>    5.601</td> <td>    0.837</td> <td> 0.403</td> <td>   -6.289</td> <td>   15.665</td>\n",
       "</tr>\n",
       "<tr>\n",
       "  <th>log_WEEKLY_PLAN</th>                                               <td>   -1.1539</td> <td>    3.933</td> <td>   -0.293</td> <td> 0.769</td> <td>   -8.862</td> <td>    6.554</td>\n",
       "</tr>\n",
       "<tr>\n",
       "  <th>log_EARLY_DELIVERIES</th>                                          <td>    0.3642</td> <td>    3.960</td> <td>    0.092</td> <td> 0.927</td> <td>   -7.397</td> <td>    8.125</td>\n",
       "</tr>\n",
       "<tr>\n",
       "  <th>log_LATE_DELIVERIES</th>                                           <td>    6.1603</td> <td>    6.510</td> <td>    0.946</td> <td> 0.344</td> <td>   -6.598</td> <td>   18.919</td>\n",
       "</tr>\n",
       "<tr>\n",
       "  <th>log_AVG_PREP_VID_TIME</th>                                         <td>    4.9075</td> <td>   23.278</td> <td>    0.211</td> <td> 0.833</td> <td>  -40.716</td> <td>   50.531</td>\n",
       "</tr>\n",
       "<tr>\n",
       "  <th>log_AVG_MEALS_ORDERED</th>                                         <td>   -8.9506</td> <td>   13.629</td> <td>   -0.657</td> <td> 0.511</td> <td>  -35.663</td> <td>   17.762</td>\n",
       "</tr>\n",
       "<tr>\n",
       "  <th>log_MEDIAN_MEAL_RATING</th>                                        <td>   -0.1971</td> <td>   10.103</td> <td>   -0.020</td> <td> 0.984</td> <td>  -19.999</td> <td>   19.605</td>\n",
       "</tr>\n",
       "<tr>\n",
       "  <th>log_AVG_CLICKS_PER_VISIT</th>                                      <td>  -12.7332</td> <td>    8.919</td> <td>   -1.428</td> <td> 0.153</td> <td>  -30.214</td> <td>    4.748</td>\n",
       "</tr>\n",
       "<tr>\n",
       "  <th>log_TOTAL_PHOTOS_VIEWED</th>                                       <td>   -6.3561</td> <td>    4.179</td> <td>   -1.521</td> <td> 0.128</td> <td>  -14.547</td> <td>    1.834</td>\n",
       "</tr>\n",
       "<tr>\n",
       "  <th>log_REVENUE</th>                                                   <td>  -60.8928</td> <td>   20.679</td> <td>   -2.945</td> <td> 0.003</td> <td> -101.423</td> <td>  -20.362</td>\n",
       "</tr>\n",
       "<tr>\n",
       "  <th>OUTLIERS_NUM</th>                                                  <td>    0.2655</td> <td>    1.119</td> <td>    0.237</td> <td> 0.812</td> <td>   -1.928</td> <td>    2.458</td>\n",
       "</tr>\n",
       "<tr>\n",
       "  <th>SEEN_PHOTOS</th>                                                   <td>   -0.2023</td> <td>    0.730</td> <td>   -0.277</td> <td> 0.782</td> <td>   -1.632</td> <td>    1.228</td>\n",
       "</tr>\n",
       "<tr>\n",
       "  <th>MEALS_PER_ORDER</th>                                               <td>    0.2186</td> <td>    0.215</td> <td>    1.015</td> <td> 0.310</td> <td>   -0.203</td> <td>    0.641</td>\n",
       "</tr>\n",
       "<tr>\n",
       "  <th>PHOTOS_VIEWED_LOGIN</th>                                           <td>   -0.4444</td> <td>    0.546</td> <td>   -0.814</td> <td> 0.416</td> <td>   -1.514</td> <td>    0.625</td>\n",
       "</tr>\n",
       "<tr>\n",
       "  <th>LATE_DELIVERIES_CUSTOMER</th>                                      <td>    0.4263</td> <td>    0.860</td> <td>    0.496</td> <td> 0.620</td> <td>   -1.259</td> <td>    2.111</td>\n",
       "</tr>\n",
       "<tr>\n",
       "  <th>RATING_VID_TIME</th>                                               <td>   -1.0373</td> <td>    1.071</td> <td>   -0.968</td> <td> 0.333</td> <td>   -3.137</td> <td>    1.063</td>\n",
       "</tr>\n",
       "<tr>\n",
       "  <th>ORDERS_PER_VISIT</th>                                              <td>   -0.1727</td> <td>    0.158</td> <td>   -1.095</td> <td> 0.274</td> <td>   -0.482</td> <td>    0.137</td>\n",
       "</tr>\n",
       "<tr>\n",
       "  <th>RATING_EARLY_DELIVERIES</th>                                       <td>   -0.5092</td> <td>    0.147</td> <td>   -3.475</td> <td> 0.001</td> <td>   -0.796</td> <td>   -0.222</td>\n",
       "</tr>\n",
       "<tr>\n",
       "  <th>CLASS_PER_VID_TIME</th>                                            <td>    1.2059</td> <td>    1.095</td> <td>    1.101</td> <td> 0.271</td> <td>   -0.941</td> <td>    3.353</td>\n",
       "</tr>\n",
       "<tr>\n",
       "  <th>log_REVENUE_log_TOTAL_MEALS_ORDERED</th>                           <td>    1.6295</td> <td>    8.689</td> <td>    0.188</td> <td> 0.851</td> <td>  -15.400</td> <td>   18.659</td>\n",
       "</tr>\n",
       "<tr>\n",
       "  <th>log_REVENUE_log_UNIQUE_MEALS_PURCH</th>                            <td>   -3.9463</td> <td>    6.261</td> <td>   -0.630</td> <td> 0.528</td> <td>  -16.217</td> <td>    8.324</td>\n",
       "</tr>\n",
       "<tr>\n",
       "  <th>log_REVENUE_log_CONTACTS_W_CUSTOMER_SERVICE</th>                   <td>    2.4196</td> <td>   12.955</td> <td>    0.187</td> <td> 0.852</td> <td>  -22.972</td> <td>   27.812</td>\n",
       "</tr>\n",
       "<tr>\n",
       "  <th>log_REVENUE_log_PRODUCT_CATEGORIES_VIEWED</th>                     <td>    0.8540</td> <td>    3.765</td> <td>    0.227</td> <td> 0.821</td> <td>   -6.526</td> <td>    8.234</td>\n",
       "</tr>\n",
       "<tr>\n",
       "  <th>log_REVENUE_log_AVG_TIME_PER_SITE_VISIT</th>                       <td>   24.0475</td> <td>   13.281</td> <td>    1.811</td> <td> 0.070</td> <td>   -1.982</td> <td>   50.077</td>\n",
       "</tr>\n",
       "<tr>\n",
       "  <th>log_REVENUE_log_CANCELLATIONS_BEFORE_NOON</th>                     <td>   -1.9128</td> <td>    5.147</td> <td>   -0.372</td> <td> 0.710</td> <td>  -12.000</td> <td>    8.175</td>\n",
       "</tr>\n",
       "<tr>\n",
       "  <th>log_REVENUE_log_WEEKLY_PLAN</th>                                   <td>    8.8867</td> <td>    3.765</td> <td>    2.360</td> <td> 0.018</td> <td>    1.507</td> <td>   16.266</td>\n",
       "</tr>\n",
       "<tr>\n",
       "  <th>log_REVENUE_log_EARLY_DELIVERIES</th>                              <td>   -2.6365</td> <td>    3.565</td> <td>   -0.739</td> <td> 0.460</td> <td>   -9.625</td> <td>    4.351</td>\n",
       "</tr>\n",
       "<tr>\n",
       "  <th>log_REVENUE_log_LATE_DELIVERIES</th>                               <td>  -12.7467</td> <td>    5.097</td> <td>   -2.501</td> <td> 0.012</td> <td>  -22.736</td> <td>   -2.757</td>\n",
       "</tr>\n",
       "<tr>\n",
       "  <th>log_REVENUE_log_AVG_PREP_VID_TIME</th>                             <td>   21.9076</td> <td>   17.500</td> <td>    1.252</td> <td> 0.211</td> <td>  -12.393</td> <td>   56.208</td>\n",
       "</tr>\n",
       "<tr>\n",
       "  <th>log_REVENUE_log_AVG_MEALS_ORDERED</th>                             <td>    1.6229</td> <td>   11.175</td> <td>    0.145</td> <td> 0.885</td> <td>  -20.280</td> <td>   23.525</td>\n",
       "</tr>\n",
       "<tr>\n",
       "  <th>log_REVENUE_log_MEDIAN_MEAL_RATING</th>                            <td>   18.9642</td> <td>   10.160</td> <td>    1.867</td> <td> 0.062</td> <td>   -0.949</td> <td>   38.877</td>\n",
       "</tr>\n",
       "<tr>\n",
       "  <th>log_REVENUE_log_AVG_CLICKS_PER_VISIT</th>                          <td>   39.0139</td> <td>   14.781</td> <td>    2.639</td> <td> 0.008</td> <td>   10.044</td> <td>   67.984</td>\n",
       "</tr>\n",
       "<tr>\n",
       "  <th>log_REVENUE_log_TOTAL_PHOTOS_VIEWED</th>                           <td>    2.9431</td> <td>    3.688</td> <td>    0.798</td> <td> 0.425</td> <td>   -4.286</td> <td>   10.172</td>\n",
       "</tr>\n",
       "<tr>\n",
       "  <th>log_TOTAL_MEALS_ORDERED_log_UNIQUE_MEALS_PURCH</th>                <td>    0.3423</td> <td>    3.278</td> <td>    0.104</td> <td> 0.917</td> <td>   -6.083</td> <td>    6.767</td>\n",
       "</tr>\n",
       "<tr>\n",
       "  <th>log_TOTAL_MEALS_ORDERED_log_CONTACTS_W_CUSTOMER_SERVICE</th>       <td>   -6.6761</td> <td>    5.034</td> <td>   -1.326</td> <td> 0.185</td> <td>  -16.543</td> <td>    3.191</td>\n",
       "</tr>\n",
       "<tr>\n",
       "  <th>log_TOTAL_MEALS_ORDERED_log_PRODUCT_CATEGORIES_VIEWED</th>         <td>   -0.1448</td> <td>    1.914</td> <td>   -0.076</td> <td> 0.940</td> <td>   -3.896</td> <td>    3.607</td>\n",
       "</tr>\n",
       "<tr>\n",
       "  <th>log_TOTAL_MEALS_ORDERED_log_AVG_TIME_PER_SITE_VISIT</th>           <td>   -9.3844</td> <td>    6.885</td> <td>   -1.363</td> <td> 0.173</td> <td>  -22.879</td> <td>    4.110</td>\n",
       "</tr>\n",
       "<tr>\n",
       "  <th>log_TOTAL_MEALS_ORDERED_log_CANCELLATIONS_BEFORE_NOON</th>         <td>    0.0398</td> <td>    2.642</td> <td>    0.015</td> <td> 0.988</td> <td>   -5.138</td> <td>    5.217</td>\n",
       "</tr>\n",
       "<tr>\n",
       "  <th>log_TOTAL_MEALS_ORDERED_log_WEEKLY_PLAN</th>                       <td>   -2.3085</td> <td>    1.821</td> <td>   -1.268</td> <td> 0.205</td> <td>   -5.878</td> <td>    1.261</td>\n",
       "</tr>\n",
       "<tr>\n",
       "  <th>log_TOTAL_MEALS_ORDERED_log_EARLY_DELIVERIES</th>                  <td>    3.4697</td> <td>    1.781</td> <td>    1.948</td> <td> 0.051</td> <td>   -0.021</td> <td>    6.961</td>\n",
       "</tr>\n",
       "<tr>\n",
       "  <th>log_TOTAL_MEALS_ORDERED_log_LATE_DELIVERIES</th>                   <td>    1.4682</td> <td>    2.450</td> <td>    0.599</td> <td> 0.549</td> <td>   -3.333</td> <td>    6.270</td>\n",
       "</tr>\n",
       "<tr>\n",
       "  <th>log_TOTAL_MEALS_ORDERED_log_AVG_PREP_VID_TIME</th>                 <td>  -22.6938</td> <td>   10.697</td> <td>   -2.122</td> <td> 0.034</td> <td>  -43.659</td> <td>   -1.728</td>\n",
       "</tr>\n",
       "<tr>\n",
       "  <th>log_TOTAL_MEALS_ORDERED_log_AVG_MEALS_ORDERED</th>                 <td>    7.7636</td> <td>    6.617</td> <td>    1.173</td> <td> 0.241</td> <td>   -5.205</td> <td>   20.732</td>\n",
       "</tr>\n",
       "<tr>\n",
       "  <th>log_TOTAL_MEALS_ORDERED_log_MEDIAN_MEAL_RATING</th>                <td>   -2.0084</td> <td>    5.747</td> <td>   -0.349</td> <td> 0.727</td> <td>  -13.273</td> <td>    9.256</td>\n",
       "</tr>\n",
       "<tr>\n",
       "  <th>log_TOTAL_MEALS_ORDERED_log_AVG_CLICKS_PER_VISIT</th>              <td>  -11.4676</td> <td>    7.527</td> <td>   -1.523</td> <td> 0.128</td> <td>  -26.221</td> <td>    3.286</td>\n",
       "</tr>\n",
       "<tr>\n",
       "  <th>log_TOTAL_MEALS_ORDERED_log_TOTAL_PHOTOS_VIEWED</th>               <td>    1.3080</td> <td>    1.820</td> <td>    0.719</td> <td> 0.472</td> <td>   -2.259</td> <td>    4.875</td>\n",
       "</tr>\n",
       "<tr>\n",
       "  <th>log_UNIQUE_MEALS_PURCH_log_CONTACTS_W_CUSTOMER_SERVICE</th>        <td>    0.2070</td> <td>    3.127</td> <td>    0.066</td> <td> 0.947</td> <td>   -5.921</td> <td>    6.335</td>\n",
       "</tr>\n",
       "<tr>\n",
       "  <th>log_UNIQUE_MEALS_PURCH_log_PRODUCT_CATEGORIES_VIEWED</th>          <td>    1.0585</td> <td>    1.253</td> <td>    0.845</td> <td> 0.398</td> <td>   -1.397</td> <td>    3.514</td>\n",
       "</tr>\n",
       "<tr>\n",
       "  <th>log_UNIQUE_MEALS_PURCH_log_AVG_TIME_PER_SITE_VISIT</th>            <td>   12.6347</td> <td>    4.465</td> <td>    2.830</td> <td> 0.005</td> <td>    3.884</td> <td>   21.386</td>\n",
       "</tr>\n",
       "<tr>\n",
       "  <th>log_UNIQUE_MEALS_PURCH_log_CANCELLATIONS_BEFORE_NOON</th>          <td>    3.6961</td> <td>    1.745</td> <td>    2.119</td> <td> 0.034</td> <td>    0.277</td> <td>    7.115</td>\n",
       "</tr>\n",
       "<tr>\n",
       "  <th>log_UNIQUE_MEALS_PURCH_log_WEEKLY_PLAN</th>                        <td>    0.4554</td> <td>    1.219</td> <td>    0.374</td> <td> 0.709</td> <td>   -1.933</td> <td>    2.844</td>\n",
       "</tr>\n",
       "<tr>\n",
       "  <th>log_UNIQUE_MEALS_PURCH_log_EARLY_DELIVERIES</th>                   <td>   -0.4234</td> <td>    1.175</td> <td>   -0.360</td> <td> 0.719</td> <td>   -2.726</td> <td>    1.879</td>\n",
       "</tr>\n",
       "<tr>\n",
       "  <th>log_UNIQUE_MEALS_PURCH_log_LATE_DELIVERIES</th>                    <td>   -1.7635</td> <td>    1.631</td> <td>   -1.081</td> <td> 0.280</td> <td>   -4.961</td> <td>    1.434</td>\n",
       "</tr>\n",
       "<tr>\n",
       "  <th>log_UNIQUE_MEALS_PURCH_log_AVG_PREP_VID_TIME</th>                  <td>    7.3327</td> <td>    6.669</td> <td>    1.100</td> <td> 0.272</td> <td>   -5.738</td> <td>   20.404</td>\n",
       "</tr>\n",
       "<tr>\n",
       "  <th>log_UNIQUE_MEALS_PURCH_log_AVG_MEALS_ORDERED</th>                  <td>   -4.2810</td> <td>    3.948</td> <td>   -1.084</td> <td> 0.278</td> <td>  -12.019</td> <td>    3.457</td>\n",
       "</tr>\n",
       "<tr>\n",
       "  <th>log_UNIQUE_MEALS_PURCH_log_MEDIAN_MEAL_RATING</th>                 <td>    1.7979</td> <td>    3.437</td> <td>    0.523</td> <td> 0.601</td> <td>   -4.939</td> <td>    8.534</td>\n",
       "</tr>\n",
       "<tr>\n",
       "  <th>log_UNIQUE_MEALS_PURCH_log_AVG_CLICKS_PER_VISIT</th>               <td>    3.4489</td> <td>    4.778</td> <td>    0.722</td> <td> 0.470</td> <td>   -5.916</td> <td>   12.814</td>\n",
       "</tr>\n",
       "<tr>\n",
       "  <th>log_UNIQUE_MEALS_PURCH_log_TOTAL_PHOTOS_VIEWED</th>                <td>    1.9095</td> <td>    1.234</td> <td>    1.548</td> <td> 0.122</td> <td>   -0.508</td> <td>    4.327</td>\n",
       "</tr>\n",
       "<tr>\n",
       "  <th>log_CONTACTS_W_CUSTOMER_SERVICE_log_PRODUCT_CATEGORIES_VIEWED</th> <td>   -1.0702</td> <td>    2.040</td> <td>   -0.525</td> <td> 0.600</td> <td>   -5.068</td> <td>    2.927</td>\n",
       "</tr>\n",
       "<tr>\n",
       "  <th>log_CONTACTS_W_CUSTOMER_SERVICE_log_AVG_TIME_PER_SITE_VISIT</th>   <td>   -8.0393</td> <td>    7.264</td> <td>   -1.107</td> <td> 0.268</td> <td>  -22.277</td> <td>    6.199</td>\n",
       "</tr>\n",
       "<tr>\n",
       "  <th>log_CONTACTS_W_CUSTOMER_SERVICE_log_CANCELLATIONS_BEFORE_NOON</th> <td>   -1.9366</td> <td>    2.820</td> <td>   -0.687</td> <td> 0.492</td> <td>   -7.463</td> <td>    3.590</td>\n",
       "</tr>\n",
       "<tr>\n",
       "  <th>log_CONTACTS_W_CUSTOMER_SERVICE_log_WEEKLY_PLAN</th>               <td>   -0.3710</td> <td>    1.870</td> <td>   -0.198</td> <td> 0.843</td> <td>   -4.036</td> <td>    3.294</td>\n",
       "</tr>\n",
       "<tr>\n",
       "  <th>log_CONTACTS_W_CUSTOMER_SERVICE_log_EARLY_DELIVERIES</th>          <td>   -0.6661</td> <td>    1.809</td> <td>   -0.368</td> <td> 0.713</td> <td>   -4.213</td> <td>    2.880</td>\n",
       "</tr>\n",
       "<tr>\n",
       "  <th>log_CONTACTS_W_CUSTOMER_SERVICE_log_LATE_DELIVERIES</th>           <td>    3.3671</td> <td>    4.155</td> <td>    0.810</td> <td> 0.418</td> <td>   -4.777</td> <td>   11.511</td>\n",
       "</tr>\n",
       "<tr>\n",
       "  <th>log_CONTACTS_W_CUSTOMER_SERVICE_log_AVG_PREP_VID_TIME</th>         <td>   -1.6832</td> <td>   11.465</td> <td>   -0.147</td> <td> 0.883</td> <td>  -24.154</td> <td>   20.788</td>\n",
       "</tr>\n",
       "<tr>\n",
       "  <th>log_CONTACTS_W_CUSTOMER_SERVICE_log_AVG_MEALS_ORDERED</th>         <td>    3.5462</td> <td>    6.842</td> <td>    0.518</td> <td> 0.604</td> <td>   -9.864</td> <td>   16.957</td>\n",
       "</tr>\n",
       "<tr>\n",
       "  <th>log_CONTACTS_W_CUSTOMER_SERVICE_log_MEDIAN_MEAL_RATING</th>        <td>   -2.2888</td> <td>    5.563</td> <td>   -0.411</td> <td> 0.681</td> <td>  -13.191</td> <td>    8.614</td>\n",
       "</tr>\n",
       "<tr>\n",
       "  <th>log_CONTACTS_W_CUSTOMER_SERVICE_log_AVG_CLICKS_PER_VISIT</th>      <td>   -5.8430</td> <td>    7.940</td> <td>   -0.736</td> <td> 0.462</td> <td>  -21.406</td> <td>    9.720</td>\n",
       "</tr>\n",
       "<tr>\n",
       "  <th>log_CONTACTS_W_CUSTOMER_SERVICE_log_TOTAL_PHOTOS_VIEWED</th>       <td>    5.5278</td> <td>    2.253</td> <td>    2.453</td> <td> 0.014</td> <td>    1.112</td> <td>    9.944</td>\n",
       "</tr>\n",
       "<tr>\n",
       "  <th>log_PRODUCT_CATEGORIES_VIEWED_log_AVG_TIME_PER_SITE_VISIT</th>     <td>   -0.5078</td> <td>    2.607</td> <td>   -0.195</td> <td> 0.846</td> <td>   -5.617</td> <td>    4.602</td>\n",
       "</tr>\n",
       "<tr>\n",
       "  <th>log_PRODUCT_CATEGORIES_VIEWED_log_CANCELLATIONS_BEFORE_NOON</th>   <td>   -0.2774</td> <td>    1.042</td> <td>   -0.266</td> <td> 0.790</td> <td>   -2.320</td> <td>    1.765</td>\n",
       "</tr>\n",
       "<tr>\n",
       "  <th>log_PRODUCT_CATEGORIES_VIEWED_log_WEEKLY_PLAN</th>                 <td>    0.5221</td> <td>    0.696</td> <td>    0.751</td> <td> 0.453</td> <td>   -0.841</td> <td>    1.885</td>\n",
       "</tr>\n",
       "<tr>\n",
       "  <th>log_PRODUCT_CATEGORIES_VIEWED_log_EARLY_DELIVERIES</th>            <td>    0.4343</td> <td>    0.704</td> <td>    0.617</td> <td> 0.537</td> <td>   -0.945</td> <td>    1.814</td>\n",
       "</tr>\n",
       "<tr>\n",
       "  <th>log_PRODUCT_CATEGORIES_VIEWED_log_LATE_DELIVERIES</th>             <td>   -1.3055</td> <td>    0.979</td> <td>   -1.333</td> <td> 0.182</td> <td>   -3.225</td> <td>    0.614</td>\n",
       "</tr>\n",
       "<tr>\n",
       "  <th>log_PRODUCT_CATEGORIES_VIEWED_log_AVG_PREP_VID_TIME</th>           <td>   -0.0953</td> <td>    4.164</td> <td>   -0.023</td> <td> 0.982</td> <td>   -8.258</td> <td>    8.067</td>\n",
       "</tr>\n",
       "<tr>\n",
       "  <th>log_PRODUCT_CATEGORIES_VIEWED_log_AVG_MEALS_ORDERED</th>           <td>    2.3698</td> <td>    2.520</td> <td>    0.940</td> <td> 0.347</td> <td>   -2.569</td> <td>    7.308</td>\n",
       "</tr>\n",
       "<tr>\n",
       "  <th>log_PRODUCT_CATEGORIES_VIEWED_log_MEDIAN_MEAL_RATING</th>          <td>   -1.2552</td> <td>    2.142</td> <td>   -0.586</td> <td> 0.558</td> <td>   -5.454</td> <td>    2.943</td>\n",
       "</tr>\n",
       "<tr>\n",
       "  <th>log_PRODUCT_CATEGORIES_VIEWED_log_AVG_CLICKS_PER_VISIT</th>        <td>   -0.1344</td> <td>    2.858</td> <td>   -0.047</td> <td> 0.962</td> <td>   -5.736</td> <td>    5.467</td>\n",
       "</tr>\n",
       "<tr>\n",
       "  <th>log_PRODUCT_CATEGORIES_VIEWED_log_TOTAL_PHOTOS_VIEWED</th>         <td>    0.4504</td> <td>    0.706</td> <td>    0.638</td> <td> 0.523</td> <td>   -0.933</td> <td>    1.834</td>\n",
       "</tr>\n",
       "<tr>\n",
       "  <th>log_AVG_TIME_PER_SITE_VISIT_log_CANCELLATIONS_BEFORE_NOON</th>     <td>   -0.4067</td> <td>    3.807</td> <td>   -0.107</td> <td> 0.915</td> <td>   -7.868</td> <td>    7.054</td>\n",
       "</tr>\n",
       "<tr>\n",
       "  <th>log_AVG_TIME_PER_SITE_VISIT_log_WEEKLY_PLAN</th>                   <td>    2.6131</td> <td>    2.612</td> <td>    1.000</td> <td> 0.317</td> <td>   -2.507</td> <td>    7.733</td>\n",
       "</tr>\n",
       "<tr>\n",
       "  <th>log_AVG_TIME_PER_SITE_VISIT_log_EARLY_DELIVERIES</th>              <td>   -2.1321</td> <td>    2.629</td> <td>   -0.811</td> <td> 0.417</td> <td>   -7.285</td> <td>    3.021</td>\n",
       "</tr>\n",
       "<tr>\n",
       "  <th>log_AVG_TIME_PER_SITE_VISIT_log_LATE_DELIVERIES</th>               <td>    2.4377</td> <td>    3.485</td> <td>    0.699</td> <td> 0.484</td> <td>   -4.393</td> <td>    9.268</td>\n",
       "</tr>\n",
       "<tr>\n",
       "  <th>log_AVG_TIME_PER_SITE_VISIT_log_AVG_PREP_VID_TIME</th>             <td>   -7.6161</td> <td>   13.774</td> <td>   -0.553</td> <td> 0.580</td> <td>  -34.613</td> <td>   19.380</td>\n",
       "</tr>\n",
       "<tr>\n",
       "  <th>log_AVG_TIME_PER_SITE_VISIT_log_AVG_MEALS_ORDERED</th>             <td>    5.7396</td> <td>    8.000</td> <td>    0.717</td> <td> 0.473</td> <td>   -9.941</td> <td>   21.420</td>\n",
       "</tr>\n",
       "<tr>\n",
       "  <th>log_AVG_TIME_PER_SITE_VISIT_log_MEDIAN_MEAL_RATING</th>            <td>   -1.0155</td> <td>    7.265</td> <td>   -0.140</td> <td> 0.889</td> <td>  -15.255</td> <td>   13.224</td>\n",
       "</tr>\n",
       "<tr>\n",
       "  <th>log_AVG_TIME_PER_SITE_VISIT_log_AVG_CLICKS_PER_VISIT</th>          <td>    4.3338</td> <td>   10.061</td> <td>    0.431</td> <td> 0.667</td> <td>  -15.385</td> <td>   24.052</td>\n",
       "</tr>\n",
       "<tr>\n",
       "  <th>log_AVG_TIME_PER_SITE_VISIT_log_TOTAL_PHOTOS_VIEWED</th>           <td>    1.3041</td> <td>    2.449</td> <td>    0.532</td> <td> 0.594</td> <td>   -3.496</td> <td>    6.105</td>\n",
       "</tr>\n",
       "<tr>\n",
       "  <th>log_CANCELLATIONS_BEFORE_NOON_log_WEEKLY_PLAN</th>                 <td>    0.4622</td> <td>    1.043</td> <td>    0.443</td> <td> 0.658</td> <td>   -1.582</td> <td>    2.507</td>\n",
       "</tr>\n",
       "<tr>\n",
       "  <th>log_CANCELLATIONS_BEFORE_NOON_log_EARLY_DELIVERIES</th>            <td>    0.2990</td> <td>    1.022</td> <td>    0.293</td> <td> 0.770</td> <td>   -1.704</td> <td>    2.302</td>\n",
       "</tr>\n",
       "<tr>\n",
       "  <th>log_CANCELLATIONS_BEFORE_NOON_log_LATE_DELIVERIES</th>             <td>    1.7564</td> <td>    1.382</td> <td>    1.271</td> <td> 0.204</td> <td>   -0.953</td> <td>    4.466</td>\n",
       "</tr>\n",
       "<tr>\n",
       "  <th>log_CANCELLATIONS_BEFORE_NOON_log_AVG_PREP_VID_TIME</th>           <td>   -0.2845</td> <td>    5.960</td> <td>   -0.048</td> <td> 0.962</td> <td>  -11.965</td> <td>   11.396</td>\n",
       "</tr>\n",
       "<tr>\n",
       "  <th>log_CANCELLATIONS_BEFORE_NOON_log_AVG_MEALS_ORDERED</th>           <td>    2.3410</td> <td>    3.608</td> <td>    0.649</td> <td> 0.516</td> <td>   -4.731</td> <td>    9.413</td>\n",
       "</tr>\n",
       "<tr>\n",
       "  <th>log_CANCELLATIONS_BEFORE_NOON_log_MEDIAN_MEAL_RATING</th>          <td>   -5.5903</td> <td>    3.093</td> <td>   -1.807</td> <td> 0.071</td> <td>  -11.653</td> <td>    0.472</td>\n",
       "</tr>\n",
       "<tr>\n",
       "  <th>log_CANCELLATIONS_BEFORE_NOON_log_AVG_CLICKS_PER_VISIT</th>        <td>   -1.6218</td> <td>    4.046</td> <td>   -0.401</td> <td> 0.689</td> <td>   -9.551</td> <td>    6.307</td>\n",
       "</tr>\n",
       "<tr>\n",
       "  <th>log_CANCELLATIONS_BEFORE_NOON_log_TOTAL_PHOTOS_VIEWED</th>         <td>    2.3283</td> <td>    1.027</td> <td>    2.267</td> <td> 0.023</td> <td>    0.316</td> <td>    4.341</td>\n",
       "</tr>\n",
       "<tr>\n",
       "  <th>log_WEEKLY_PLAN_log_EARLY_DELIVERIES</th>                          <td>   -0.3708</td> <td>    0.680</td> <td>   -0.546</td> <td> 0.585</td> <td>   -1.703</td> <td>    0.961</td>\n",
       "</tr>\n",
       "<tr>\n",
       "  <th>log_WEEKLY_PLAN_log_LATE_DELIVERIES</th>                           <td>   -0.3558</td> <td>    0.930</td> <td>   -0.383</td> <td> 0.702</td> <td>   -2.179</td> <td>    1.467</td>\n",
       "</tr>\n",
       "<tr>\n",
       "  <th>log_WEEKLY_PLAN_log_AVG_PREP_VID_TIME</th>                         <td>    0.0327</td> <td>    4.052</td> <td>    0.008</td> <td> 0.994</td> <td>   -7.909</td> <td>    7.974</td>\n",
       "</tr>\n",
       "<tr>\n",
       "  <th>log_WEEKLY_PLAN_log_AVG_MEALS_ORDERED</th>                         <td>   -0.7318</td> <td>    2.399</td> <td>   -0.305</td> <td> 0.760</td> <td>   -5.434</td> <td>    3.970</td>\n",
       "</tr>\n",
       "<tr>\n",
       "  <th>log_WEEKLY_PLAN_log_MEDIAN_MEAL_RATING</th>                        <td>   -3.9838</td> <td>    2.170</td> <td>   -1.836</td> <td> 0.066</td> <td>   -8.237</td> <td>    0.270</td>\n",
       "</tr>\n",
       "<tr>\n",
       "  <th>log_WEEKLY_PLAN_log_AVG_CLICKS_PER_VISIT</th>                      <td>   -3.0764</td> <td>    2.767</td> <td>   -1.112</td> <td> 0.266</td> <td>   -8.500</td> <td>    2.348</td>\n",
       "</tr>\n",
       "<tr>\n",
       "  <th>log_WEEKLY_PLAN_log_TOTAL_PHOTOS_VIEWED</th>                       <td>    0.9229</td> <td>    0.721</td> <td>    1.280</td> <td> 0.200</td> <td>   -0.490</td> <td>    2.336</td>\n",
       "</tr>\n",
       "<tr>\n",
       "  <th>log_EARLY_DELIVERIES_log_LATE_DELIVERIES</th>                      <td>    0.6560</td> <td>    0.957</td> <td>    0.685</td> <td> 0.493</td> <td>   -1.220</td> <td>    2.532</td>\n",
       "</tr>\n",
       "<tr>\n",
       "  <th>log_EARLY_DELIVERIES_log_AVG_PREP_VID_TIME</th>                    <td>    0.8530</td> <td>    4.167</td> <td>    0.205</td> <td> 0.838</td> <td>   -7.314</td> <td>    9.020</td>\n",
       "</tr>\n",
       "<tr>\n",
       "  <th>log_EARLY_DELIVERIES_log_AVG_MEALS_ORDERED</th>                    <td>   -1.9315</td> <td>    2.483</td> <td>   -0.778</td> <td> 0.437</td> <td>   -6.798</td> <td>    2.935</td>\n",
       "</tr>\n",
       "<tr>\n",
       "  <th>log_EARLY_DELIVERIES_log_MEDIAN_MEAL_RATING</th>                   <td>    1.4227</td> <td>    2.062</td> <td>    0.690</td> <td> 0.490</td> <td>   -2.619</td> <td>    5.464</td>\n",
       "</tr>\n",
       "<tr>\n",
       "  <th>log_EARLY_DELIVERIES_log_AVG_CLICKS_PER_VISIT</th>                 <td>    1.6536</td> <td>    2.725</td> <td>    0.607</td> <td> 0.544</td> <td>   -3.688</td> <td>    6.995</td>\n",
       "</tr>\n",
       "<tr>\n",
       "  <th>log_EARLY_DELIVERIES_log_TOTAL_PHOTOS_VIEWED</th>                  <td>    0.7165</td> <td>    0.693</td> <td>    1.034</td> <td> 0.301</td> <td>   -0.642</td> <td>    2.075</td>\n",
       "</tr>\n",
       "<tr>\n",
       "  <th>log_LATE_DELIVERIES_log_AVG_PREP_VID_TIME</th>                     <td>    3.6951</td> <td>    5.684</td> <td>    0.650</td> <td> 0.516</td> <td>   -7.445</td> <td>   14.835</td>\n",
       "</tr>\n",
       "<tr>\n",
       "  <th>log_LATE_DELIVERIES_log_AVG_MEALS_ORDERED</th>                     <td>   -0.8245</td> <td>    3.426</td> <td>   -0.241</td> <td> 0.810</td> <td>   -7.539</td> <td>    5.890</td>\n",
       "</tr>\n",
       "<tr>\n",
       "  <th>log_LATE_DELIVERIES_log_MEDIAN_MEAL_RATING</th>                    <td>   -0.9394</td> <td>    2.810</td> <td>   -0.334</td> <td> 0.738</td> <td>   -6.446</td> <td>    4.567</td>\n",
       "</tr>\n",
       "<tr>\n",
       "  <th>log_LATE_DELIVERIES_log_AVG_CLICKS_PER_VISIT</th>                  <td>   -3.2156</td> <td>    3.717</td> <td>   -0.865</td> <td> 0.387</td> <td>  -10.501</td> <td>    4.070</td>\n",
       "</tr>\n",
       "<tr>\n",
       "  <th>log_LATE_DELIVERIES_log_TOTAL_PHOTOS_VIEWED</th>                   <td>    0.8892</td> <td>    0.973</td> <td>    0.914</td> <td> 0.361</td> <td>   -1.019</td> <td>    2.797</td>\n",
       "</tr>\n",
       "<tr>\n",
       "  <th>log_AVG_PREP_VID_TIME_log_AVG_MEALS_ORDERED</th>                   <td>    5.9921</td> <td>    6.246</td> <td>    0.959</td> <td> 0.337</td> <td>   -6.250</td> <td>   18.234</td>\n",
       "</tr>\n",
       "<tr>\n",
       "  <th>log_AVG_PREP_VID_TIME_log_MEDIAN_MEAL_RATING</th>                  <td>    0.7262</td> <td>   13.455</td> <td>    0.054</td> <td> 0.957</td> <td>  -25.645</td> <td>   27.097</td>\n",
       "</tr>\n",
       "<tr>\n",
       "  <th>log_AVG_PREP_VID_TIME_log_AVG_CLICKS_PER_VISIT</th>                <td>  -16.6575</td> <td>   16.554</td> <td>   -1.006</td> <td> 0.314</td> <td>  -49.103</td> <td>   15.788</td>\n",
       "</tr>\n",
       "<tr>\n",
       "  <th>log_AVG_PREP_VID_TIME_log_TOTAL_PHOTOS_VIEWED</th>                 <td>   -0.9621</td> <td>    4.189</td> <td>   -0.230</td> <td> 0.818</td> <td>   -9.173</td> <td>    7.248</td>\n",
       "</tr>\n",
       "<tr>\n",
       "  <th>log_AVG_MEALS_ORDERED_log_MEDIAN_MEAL_RATING</th>                  <td>   -7.4371</td> <td>    7.243</td> <td>   -1.027</td> <td> 0.305</td> <td>  -21.633</td> <td>    6.759</td>\n",
       "</tr>\n",
       "<tr>\n",
       "  <th>log_AVG_MEALS_ORDERED_log_AVG_CLICKS_PER_VISIT</th>                <td>    3.4038</td> <td>    9.860</td> <td>    0.345</td> <td> 0.730</td> <td>  -15.921</td> <td>   22.728</td>\n",
       "</tr>\n",
       "<tr>\n",
       "  <th>log_AVG_MEALS_ORDERED_log_TOTAL_PHOTOS_VIEWED</th>                 <td>   -1.0072</td> <td>    2.379</td> <td>   -0.423</td> <td> 0.672</td> <td>   -5.670</td> <td>    3.655</td>\n",
       "</tr>\n",
       "<tr>\n",
       "  <th>log_MEDIAN_MEAL_RATING_log_AVG_CLICKS_PER_VISIT</th>               <td>    3.0364</td> <td>    4.535</td> <td>    0.670</td> <td> 0.503</td> <td>   -5.851</td> <td>   11.924</td>\n",
       "</tr>\n",
       "<tr>\n",
       "  <th>log_MEDIAN_MEAL_RATING_log_TOTAL_PHOTOS_VIEWED</th>                <td>   -2.8955</td> <td>    2.527</td> <td>   -1.146</td> <td> 0.252</td> <td>   -7.849</td> <td>    2.058</td>\n",
       "</tr>\n",
       "<tr>\n",
       "  <th>log_AVG_CLICKS_PER_VISIT_log_TOTAL_PHOTOS_VIEWED</th>              <td>    0.8272</td> <td>    2.953</td> <td>    0.280</td> <td> 0.779</td> <td>   -4.960</td> <td>    6.614</td>\n",
       "</tr>\n",
       "</table>"
      ],
      "text/plain": [
       "<class 'statsmodels.iolib.summary.Summary'>\n",
       "\"\"\"\n",
       "                           Logit Regression Results                           \n",
       "==============================================================================\n",
       "Dep. Variable:     CROSS_SELL_SUCCESS   No. Observations:                 1459\n",
       "Model:                          Logit   Df Residuals:                     1307\n",
       "Method:                           MLE   Df Model:                          151\n",
       "Date:                Fri, 29 Jan 2021   Pseudo R-squ.:                  0.2269\n",
       "Time:                        15:24:28   Log-Likelihood:                -708.34\n",
       "converged:                       True   LL-Null:                       -916.19\n",
       "Covariance Type:            nonrobust   LLR p-value:                 1.370e-26\n",
       "=================================================================================================================================\n",
       "                                                                    coef    std err          z      P>|z|      [0.025      0.975]\n",
       "---------------------------------------------------------------------------------------------------------------------------------\n",
       "Intercept                                                        18.0444     12.341      1.462      0.144      -6.143      42.232\n",
       "GENDER_GUESS                                                     -0.2706      0.152     -1.778      0.075      -0.569       0.028\n",
       "GENDER_UNKNOWN                                                   -0.0007      0.163     -0.004      0.996      -0.320       0.318\n",
       "NAME_NUM                                                          0.0469      0.193      0.244      0.808      -0.331       0.425\n",
       "NAME_CHAR                                                         0.0958      0.031      3.097      0.002       0.035       0.156\n",
       "personal                                                          1.5234      0.183      8.334      0.000       1.165       1.882\n",
       "professional                                                      2.2715      0.202     11.265      0.000       1.876       2.667\n",
       "MOBILE_NUMBER                                                     0.8270      0.205      4.043      0.000       0.426       1.228\n",
       "CANCELLATIONS_AFTER_NOON                                         -0.8674      0.505     -1.716      0.086      -1.858       0.123\n",
       "TASTES_AND_PREFERENCES                                            0.3667      0.154      2.388      0.017       0.066       0.668\n",
       "PC_LOGINS                                                         0.7733      0.409      1.890      0.059      -0.029       1.575\n",
       "MOBILE_LOGINS                                                    -0.8747      0.440     -1.989      0.047      -1.736      -0.013\n",
       "PACKAGE_LOCKER                                                   -0.0389      0.167     -0.233      0.816      -0.366       0.288\n",
       "REFRIGERATED_LOCKER                                               0.6166      0.264      2.332      0.020       0.098       1.135\n",
       "MASTER_CLASSES_ATTENDED                                          -2.0047      2.173     -0.923      0.356      -6.264       2.254\n",
       "mid_revenue                                                       0.3870      0.283      1.368      0.171      -0.168       0.942\n",
       "mid_high_revenue                                                  0.1681      0.435      0.386      0.699      -0.685       1.021\n",
       "high_revenue                                                     -0.3674      0.674     -0.545      0.586      -1.689       0.954\n",
       "ultra_revenue                                                    -1.0897      0.987     -1.104      0.270      -3.024       0.845\n",
       "basic_annual_subscription                                        -0.7511      0.447     -1.680      0.093      -1.627       0.125\n",
       "premium_annual_subscription                                      -1.4802      0.889     -1.665      0.096      -3.222       0.262\n",
       "normal_rating                                                    -0.4982      0.380     -1.311      0.190      -1.243       0.247\n",
       "happy_rating                                                     -0.4322      1.444     -0.299      0.765      -3.261       2.397\n",
       "log_TOTAL_MEALS_ORDERED                                          23.7511     11.081      2.143      0.032       2.033      45.470\n",
       "log_UNIQUE_MEALS_PURCH                                           -9.1659      6.592     -1.390      0.164     -22.086       3.754\n",
       "log_CONTACTS_W_CUSTOMER_SERVICE                                  10.4358     11.717      0.891      0.373     -12.530      33.401\n",
       "log_PRODUCT_CATEGORIES_VIEWED                                    -0.7166      3.964     -0.181      0.857      -8.486       7.053\n",
       "log_AVG_TIME_PER_SITE_VISIT                                     -15.1484     13.707     -1.105      0.269     -42.014      11.718\n",
       "log_CANCELLATIONS_BEFORE_NOON                                     4.6881      5.601      0.837      0.403      -6.289      15.665\n",
       "log_WEEKLY_PLAN                                                  -1.1539      3.933     -0.293      0.769      -8.862       6.554\n",
       "log_EARLY_DELIVERIES                                              0.3642      3.960      0.092      0.927      -7.397       8.125\n",
       "log_LATE_DELIVERIES                                               6.1603      6.510      0.946      0.344      -6.598      18.919\n",
       "log_AVG_PREP_VID_TIME                                             4.9075     23.278      0.211      0.833     -40.716      50.531\n",
       "log_AVG_MEALS_ORDERED                                            -8.9506     13.629     -0.657      0.511     -35.663      17.762\n",
       "log_MEDIAN_MEAL_RATING                                           -0.1971     10.103     -0.020      0.984     -19.999      19.605\n",
       "log_AVG_CLICKS_PER_VISIT                                        -12.7332      8.919     -1.428      0.153     -30.214       4.748\n",
       "log_TOTAL_PHOTOS_VIEWED                                          -6.3561      4.179     -1.521      0.128     -14.547       1.834\n",
       "log_REVENUE                                                     -60.8928     20.679     -2.945      0.003    -101.423     -20.362\n",
       "OUTLIERS_NUM                                                      0.2655      1.119      0.237      0.812      -1.928       2.458\n",
       "SEEN_PHOTOS                                                      -0.2023      0.730     -0.277      0.782      -1.632       1.228\n",
       "MEALS_PER_ORDER                                                   0.2186      0.215      1.015      0.310      -0.203       0.641\n",
       "PHOTOS_VIEWED_LOGIN                                              -0.4444      0.546     -0.814      0.416      -1.514       0.625\n",
       "LATE_DELIVERIES_CUSTOMER                                          0.4263      0.860      0.496      0.620      -1.259       2.111\n",
       "RATING_VID_TIME                                                  -1.0373      1.071     -0.968      0.333      -3.137       1.063\n",
       "ORDERS_PER_VISIT                                                 -0.1727      0.158     -1.095      0.274      -0.482       0.137\n",
       "RATING_EARLY_DELIVERIES                                          -0.5092      0.147     -3.475      0.001      -0.796      -0.222\n",
       "CLASS_PER_VID_TIME                                                1.2059      1.095      1.101      0.271      -0.941       3.353\n",
       "log_REVENUE_log_TOTAL_MEALS_ORDERED                               1.6295      8.689      0.188      0.851     -15.400      18.659\n",
       "log_REVENUE_log_UNIQUE_MEALS_PURCH                               -3.9463      6.261     -0.630      0.528     -16.217       8.324\n",
       "log_REVENUE_log_CONTACTS_W_CUSTOMER_SERVICE                       2.4196     12.955      0.187      0.852     -22.972      27.812\n",
       "log_REVENUE_log_PRODUCT_CATEGORIES_VIEWED                         0.8540      3.765      0.227      0.821      -6.526       8.234\n",
       "log_REVENUE_log_AVG_TIME_PER_SITE_VISIT                          24.0475     13.281      1.811      0.070      -1.982      50.077\n",
       "log_REVENUE_log_CANCELLATIONS_BEFORE_NOON                        -1.9128      5.147     -0.372      0.710     -12.000       8.175\n",
       "log_REVENUE_log_WEEKLY_PLAN                                       8.8867      3.765      2.360      0.018       1.507      16.266\n",
       "log_REVENUE_log_EARLY_DELIVERIES                                 -2.6365      3.565     -0.739      0.460      -9.625       4.351\n",
       "log_REVENUE_log_LATE_DELIVERIES                                 -12.7467      5.097     -2.501      0.012     -22.736      -2.757\n",
       "log_REVENUE_log_AVG_PREP_VID_TIME                                21.9076     17.500      1.252      0.211     -12.393      56.208\n",
       "log_REVENUE_log_AVG_MEALS_ORDERED                                 1.6229     11.175      0.145      0.885     -20.280      23.525\n",
       "log_REVENUE_log_MEDIAN_MEAL_RATING                               18.9642     10.160      1.867      0.062      -0.949      38.877\n",
       "log_REVENUE_log_AVG_CLICKS_PER_VISIT                             39.0139     14.781      2.639      0.008      10.044      67.984\n",
       "log_REVENUE_log_TOTAL_PHOTOS_VIEWED                               2.9431      3.688      0.798      0.425      -4.286      10.172\n",
       "log_TOTAL_MEALS_ORDERED_log_UNIQUE_MEALS_PURCH                    0.3423      3.278      0.104      0.917      -6.083       6.767\n",
       "log_TOTAL_MEALS_ORDERED_log_CONTACTS_W_CUSTOMER_SERVICE          -6.6761      5.034     -1.326      0.185     -16.543       3.191\n",
       "log_TOTAL_MEALS_ORDERED_log_PRODUCT_CATEGORIES_VIEWED            -0.1448      1.914     -0.076      0.940      -3.896       3.607\n",
       "log_TOTAL_MEALS_ORDERED_log_AVG_TIME_PER_SITE_VISIT              -9.3844      6.885     -1.363      0.173     -22.879       4.110\n",
       "log_TOTAL_MEALS_ORDERED_log_CANCELLATIONS_BEFORE_NOON             0.0398      2.642      0.015      0.988      -5.138       5.217\n",
       "log_TOTAL_MEALS_ORDERED_log_WEEKLY_PLAN                          -2.3085      1.821     -1.268      0.205      -5.878       1.261\n",
       "log_TOTAL_MEALS_ORDERED_log_EARLY_DELIVERIES                      3.4697      1.781      1.948      0.051      -0.021       6.961\n",
       "log_TOTAL_MEALS_ORDERED_log_LATE_DELIVERIES                       1.4682      2.450      0.599      0.549      -3.333       6.270\n",
       "log_TOTAL_MEALS_ORDERED_log_AVG_PREP_VID_TIME                   -22.6938     10.697     -2.122      0.034     -43.659      -1.728\n",
       "log_TOTAL_MEALS_ORDERED_log_AVG_MEALS_ORDERED                     7.7636      6.617      1.173      0.241      -5.205      20.732\n",
       "log_TOTAL_MEALS_ORDERED_log_MEDIAN_MEAL_RATING                   -2.0084      5.747     -0.349      0.727     -13.273       9.256\n",
       "log_TOTAL_MEALS_ORDERED_log_AVG_CLICKS_PER_VISIT                -11.4676      7.527     -1.523      0.128     -26.221       3.286\n",
       "log_TOTAL_MEALS_ORDERED_log_TOTAL_PHOTOS_VIEWED                   1.3080      1.820      0.719      0.472      -2.259       4.875\n",
       "log_UNIQUE_MEALS_PURCH_log_CONTACTS_W_CUSTOMER_SERVICE            0.2070      3.127      0.066      0.947      -5.921       6.335\n",
       "log_UNIQUE_MEALS_PURCH_log_PRODUCT_CATEGORIES_VIEWED              1.0585      1.253      0.845      0.398      -1.397       3.514\n",
       "log_UNIQUE_MEALS_PURCH_log_AVG_TIME_PER_SITE_VISIT               12.6347      4.465      2.830      0.005       3.884      21.386\n",
       "log_UNIQUE_MEALS_PURCH_log_CANCELLATIONS_BEFORE_NOON              3.6961      1.745      2.119      0.034       0.277       7.115\n",
       "log_UNIQUE_MEALS_PURCH_log_WEEKLY_PLAN                            0.4554      1.219      0.374      0.709      -1.933       2.844\n",
       "log_UNIQUE_MEALS_PURCH_log_EARLY_DELIVERIES                      -0.4234      1.175     -0.360      0.719      -2.726       1.879\n",
       "log_UNIQUE_MEALS_PURCH_log_LATE_DELIVERIES                       -1.7635      1.631     -1.081      0.280      -4.961       1.434\n",
       "log_UNIQUE_MEALS_PURCH_log_AVG_PREP_VID_TIME                      7.3327      6.669      1.100      0.272      -5.738      20.404\n",
       "log_UNIQUE_MEALS_PURCH_log_AVG_MEALS_ORDERED                     -4.2810      3.948     -1.084      0.278     -12.019       3.457\n",
       "log_UNIQUE_MEALS_PURCH_log_MEDIAN_MEAL_RATING                     1.7979      3.437      0.523      0.601      -4.939       8.534\n",
       "log_UNIQUE_MEALS_PURCH_log_AVG_CLICKS_PER_VISIT                   3.4489      4.778      0.722      0.470      -5.916      12.814\n",
       "log_UNIQUE_MEALS_PURCH_log_TOTAL_PHOTOS_VIEWED                    1.9095      1.234      1.548      0.122      -0.508       4.327\n",
       "log_CONTACTS_W_CUSTOMER_SERVICE_log_PRODUCT_CATEGORIES_VIEWED    -1.0702      2.040     -0.525      0.600      -5.068       2.927\n",
       "log_CONTACTS_W_CUSTOMER_SERVICE_log_AVG_TIME_PER_SITE_VISIT      -8.0393      7.264     -1.107      0.268     -22.277       6.199\n",
       "log_CONTACTS_W_CUSTOMER_SERVICE_log_CANCELLATIONS_BEFORE_NOON    -1.9366      2.820     -0.687      0.492      -7.463       3.590\n",
       "log_CONTACTS_W_CUSTOMER_SERVICE_log_WEEKLY_PLAN                  -0.3710      1.870     -0.198      0.843      -4.036       3.294\n",
       "log_CONTACTS_W_CUSTOMER_SERVICE_log_EARLY_DELIVERIES             -0.6661      1.809     -0.368      0.713      -4.213       2.880\n",
       "log_CONTACTS_W_CUSTOMER_SERVICE_log_LATE_DELIVERIES               3.3671      4.155      0.810      0.418      -4.777      11.511\n",
       "log_CONTACTS_W_CUSTOMER_SERVICE_log_AVG_PREP_VID_TIME            -1.6832     11.465     -0.147      0.883     -24.154      20.788\n",
       "log_CONTACTS_W_CUSTOMER_SERVICE_log_AVG_MEALS_ORDERED             3.5462      6.842      0.518      0.604      -9.864      16.957\n",
       "log_CONTACTS_W_CUSTOMER_SERVICE_log_MEDIAN_MEAL_RATING           -2.2888      5.563     -0.411      0.681     -13.191       8.614\n",
       "log_CONTACTS_W_CUSTOMER_SERVICE_log_AVG_CLICKS_PER_VISIT         -5.8430      7.940     -0.736      0.462     -21.406       9.720\n",
       "log_CONTACTS_W_CUSTOMER_SERVICE_log_TOTAL_PHOTOS_VIEWED           5.5278      2.253      2.453      0.014       1.112       9.944\n",
       "log_PRODUCT_CATEGORIES_VIEWED_log_AVG_TIME_PER_SITE_VISIT        -0.5078      2.607     -0.195      0.846      -5.617       4.602\n",
       "log_PRODUCT_CATEGORIES_VIEWED_log_CANCELLATIONS_BEFORE_NOON      -0.2774      1.042     -0.266      0.790      -2.320       1.765\n",
       "log_PRODUCT_CATEGORIES_VIEWED_log_WEEKLY_PLAN                     0.5221      0.696      0.751      0.453      -0.841       1.885\n",
       "log_PRODUCT_CATEGORIES_VIEWED_log_EARLY_DELIVERIES                0.4343      0.704      0.617      0.537      -0.945       1.814\n",
       "log_PRODUCT_CATEGORIES_VIEWED_log_LATE_DELIVERIES                -1.3055      0.979     -1.333      0.182      -3.225       0.614\n",
       "log_PRODUCT_CATEGORIES_VIEWED_log_AVG_PREP_VID_TIME              -0.0953      4.164     -0.023      0.982      -8.258       8.067\n",
       "log_PRODUCT_CATEGORIES_VIEWED_log_AVG_MEALS_ORDERED               2.3698      2.520      0.940      0.347      -2.569       7.308\n",
       "log_PRODUCT_CATEGORIES_VIEWED_log_MEDIAN_MEAL_RATING             -1.2552      2.142     -0.586      0.558      -5.454       2.943\n",
       "log_PRODUCT_CATEGORIES_VIEWED_log_AVG_CLICKS_PER_VISIT           -0.1344      2.858     -0.047      0.962      -5.736       5.467\n",
       "log_PRODUCT_CATEGORIES_VIEWED_log_TOTAL_PHOTOS_VIEWED             0.4504      0.706      0.638      0.523      -0.933       1.834\n",
       "log_AVG_TIME_PER_SITE_VISIT_log_CANCELLATIONS_BEFORE_NOON        -0.4067      3.807     -0.107      0.915      -7.868       7.054\n",
       "log_AVG_TIME_PER_SITE_VISIT_log_WEEKLY_PLAN                       2.6131      2.612      1.000      0.317      -2.507       7.733\n",
       "log_AVG_TIME_PER_SITE_VISIT_log_EARLY_DELIVERIES                 -2.1321      2.629     -0.811      0.417      -7.285       3.021\n",
       "log_AVG_TIME_PER_SITE_VISIT_log_LATE_DELIVERIES                   2.4377      3.485      0.699      0.484      -4.393       9.268\n",
       "log_AVG_TIME_PER_SITE_VISIT_log_AVG_PREP_VID_TIME                -7.6161     13.774     -0.553      0.580     -34.613      19.380\n",
       "log_AVG_TIME_PER_SITE_VISIT_log_AVG_MEALS_ORDERED                 5.7396      8.000      0.717      0.473      -9.941      21.420\n",
       "log_AVG_TIME_PER_SITE_VISIT_log_MEDIAN_MEAL_RATING               -1.0155      7.265     -0.140      0.889     -15.255      13.224\n",
       "log_AVG_TIME_PER_SITE_VISIT_log_AVG_CLICKS_PER_VISIT              4.3338     10.061      0.431      0.667     -15.385      24.052\n",
       "log_AVG_TIME_PER_SITE_VISIT_log_TOTAL_PHOTOS_VIEWED               1.3041      2.449      0.532      0.594      -3.496       6.105\n",
       "log_CANCELLATIONS_BEFORE_NOON_log_WEEKLY_PLAN                     0.4622      1.043      0.443      0.658      -1.582       2.507\n",
       "log_CANCELLATIONS_BEFORE_NOON_log_EARLY_DELIVERIES                0.2990      1.022      0.293      0.770      -1.704       2.302\n",
       "log_CANCELLATIONS_BEFORE_NOON_log_LATE_DELIVERIES                 1.7564      1.382      1.271      0.204      -0.953       4.466\n",
       "log_CANCELLATIONS_BEFORE_NOON_log_AVG_PREP_VID_TIME              -0.2845      5.960     -0.048      0.962     -11.965      11.396\n",
       "log_CANCELLATIONS_BEFORE_NOON_log_AVG_MEALS_ORDERED               2.3410      3.608      0.649      0.516      -4.731       9.413\n",
       "log_CANCELLATIONS_BEFORE_NOON_log_MEDIAN_MEAL_RATING             -5.5903      3.093     -1.807      0.071     -11.653       0.472\n",
       "log_CANCELLATIONS_BEFORE_NOON_log_AVG_CLICKS_PER_VISIT           -1.6218      4.046     -0.401      0.689      -9.551       6.307\n",
       "log_CANCELLATIONS_BEFORE_NOON_log_TOTAL_PHOTOS_VIEWED             2.3283      1.027      2.267      0.023       0.316       4.341\n",
       "log_WEEKLY_PLAN_log_EARLY_DELIVERIES                             -0.3708      0.680     -0.546      0.585      -1.703       0.961\n",
       "log_WEEKLY_PLAN_log_LATE_DELIVERIES                              -0.3558      0.930     -0.383      0.702      -2.179       1.467\n",
       "log_WEEKLY_PLAN_log_AVG_PREP_VID_TIME                             0.0327      4.052      0.008      0.994      -7.909       7.974\n",
       "log_WEEKLY_PLAN_log_AVG_MEALS_ORDERED                            -0.7318      2.399     -0.305      0.760      -5.434       3.970\n",
       "log_WEEKLY_PLAN_log_MEDIAN_MEAL_RATING                           -3.9838      2.170     -1.836      0.066      -8.237       0.270\n",
       "log_WEEKLY_PLAN_log_AVG_CLICKS_PER_VISIT                         -3.0764      2.767     -1.112      0.266      -8.500       2.348\n",
       "log_WEEKLY_PLAN_log_TOTAL_PHOTOS_VIEWED                           0.9229      0.721      1.280      0.200      -0.490       2.336\n",
       "log_EARLY_DELIVERIES_log_LATE_DELIVERIES                          0.6560      0.957      0.685      0.493      -1.220       2.532\n",
       "log_EARLY_DELIVERIES_log_AVG_PREP_VID_TIME                        0.8530      4.167      0.205      0.838      -7.314       9.020\n",
       "log_EARLY_DELIVERIES_log_AVG_MEALS_ORDERED                       -1.9315      2.483     -0.778      0.437      -6.798       2.935\n",
       "log_EARLY_DELIVERIES_log_MEDIAN_MEAL_RATING                       1.4227      2.062      0.690      0.490      -2.619       5.464\n",
       "log_EARLY_DELIVERIES_log_AVG_CLICKS_PER_VISIT                     1.6536      2.725      0.607      0.544      -3.688       6.995\n",
       "log_EARLY_DELIVERIES_log_TOTAL_PHOTOS_VIEWED                      0.7165      0.693      1.034      0.301      -0.642       2.075\n",
       "log_LATE_DELIVERIES_log_AVG_PREP_VID_TIME                         3.6951      5.684      0.650      0.516      -7.445      14.835\n",
       "log_LATE_DELIVERIES_log_AVG_MEALS_ORDERED                        -0.8245      3.426     -0.241      0.810      -7.539       5.890\n",
       "log_LATE_DELIVERIES_log_MEDIAN_MEAL_RATING                       -0.9394      2.810     -0.334      0.738      -6.446       4.567\n",
       "log_LATE_DELIVERIES_log_AVG_CLICKS_PER_VISIT                     -3.2156      3.717     -0.865      0.387     -10.501       4.070\n",
       "log_LATE_DELIVERIES_log_TOTAL_PHOTOS_VIEWED                       0.8892      0.973      0.914      0.361      -1.019       2.797\n",
       "log_AVG_PREP_VID_TIME_log_AVG_MEALS_ORDERED                       5.9921      6.246      0.959      0.337      -6.250      18.234\n",
       "log_AVG_PREP_VID_TIME_log_MEDIAN_MEAL_RATING                      0.7262     13.455      0.054      0.957     -25.645      27.097\n",
       "log_AVG_PREP_VID_TIME_log_AVG_CLICKS_PER_VISIT                  -16.6575     16.554     -1.006      0.314     -49.103      15.788\n",
       "log_AVG_PREP_VID_TIME_log_TOTAL_PHOTOS_VIEWED                    -0.9621      4.189     -0.230      0.818      -9.173       7.248\n",
       "log_AVG_MEALS_ORDERED_log_MEDIAN_MEAL_RATING                     -7.4371      7.243     -1.027      0.305     -21.633       6.759\n",
       "log_AVG_MEALS_ORDERED_log_AVG_CLICKS_PER_VISIT                    3.4038      9.860      0.345      0.730     -15.921      22.728\n",
       "log_AVG_MEALS_ORDERED_log_TOTAL_PHOTOS_VIEWED                    -1.0072      2.379     -0.423      0.672      -5.670       3.655\n",
       "log_MEDIAN_MEAL_RATING_log_AVG_CLICKS_PER_VISIT                   3.0364      4.535      0.670      0.503      -5.851      11.924\n",
       "log_MEDIAN_MEAL_RATING_log_TOTAL_PHOTOS_VIEWED                   -2.8955      2.527     -1.146      0.252      -7.849       2.058\n",
       "log_AVG_CLICKS_PER_VISIT_log_TOTAL_PHOTOS_VIEWED                  0.8272      2.953      0.280      0.779      -4.960       6.614\n",
       "=================================================================================================================================\n",
       "\"\"\""
      ]
     },
     "execution_count": 61,
     "metadata": {},
     "output_type": "execute_result"
    }
   ],
   "source": [
    "# Instantiating Statsmodel OLS Linear Regression model\n",
    "variables = \"+\".join(X_train.columns)\n",
    "formula = '{} ~ '.format(response_var) + variables\n",
    "\n",
    "stats_logit = smf.logit(formula = formula,data = X_train.join(y_train))\n",
    "\n",
    "# telling Python to FIT the data to the blueprint\n",
    "results = stats_logit.fit()\n",
    "\n",
    "# printing a summary of the results\n",
    "results.summary()"
   ]
  },
  {
   "cell_type": "markdown",
   "metadata": {},
   "source": [
    "### Logistic Regression"
   ]
  },
  {
   "cell_type": "code",
   "execution_count": 62,
   "metadata": {},
   "outputs": [],
   "source": [
    "# Instantiating OLS Linear Regression model\n",
    "logistic_regression = LogisticRegression()"
   ]
  },
  {
   "cell_type": "code",
   "execution_count": 63,
   "metadata": {},
   "outputs": [],
   "source": [
    "# # Hyperparameter tuning \n",
    "\n",
    "# # declaring a hyperparameter space\n",
    "# penalty_space          = ['l1', 'l2','elasticnet']\n",
    "# tol_space = np.arange(0.0001, 1, 0.005)\n",
    "# C_space  = np.arange(0.1, 5, 0.1)\n",
    "# class_weight_space = ['balanced',None]\n",
    "# solver_space     = ['newton-cg', 'sag', 'lbfgs','saga']\n",
    "# multi_class_space = ['auto', 'ovr', 'multinomial']\n",
    "# warm_start_space = [True, False]\n",
    "\n",
    "# # creating a hyperparameter grid\n",
    "# param_grid = {'penalty' : penalty_space,\n",
    "#                 'tol'   : tol_space,\n",
    "#                 'C'          : C_space ,\n",
    "#                 'class_weight' : class_weight_space,\n",
    "#                 'solver'     : solver_space,\n",
    "#                 'multi_class'     : multi_class_space,\n",
    "#                 'warm_start'     : warm_start_space}\n",
    "\n",
    "\n",
    "# # INSTANTIATING the model object without hyperparameters\n",
    "# logistic_tuned = logistic_regression\n",
    "\n",
    "\n",
    "\n",
    "# # RandomizedSearchCV object\n",
    "# logistic_tuned_cv = RandomizedSearchCV(estimator           = logistic_tuned,   # the model object\n",
    "#                                  param_distributions = param_grid, # parameters to tune\n",
    "#                                  cv                  = 3,          # how many folds in cross-validation\n",
    "#                                  n_iter              = 1000,        # number of combinations of hyperparameters to try\n",
    "#                                  random_state        = 219,        # starting point for random sequence\n",
    "#                                  scoring = make_scorer(\n",
    "#                                            roc_auc_score,\n",
    "#                                            needs_threshold = False)) # scoring criteria (AUC)\n",
    "\n",
    "\n",
    "\n",
    "\n",
    "# # FITTING to the FULL DATASET (due to cross-validation)\n",
    "# logistic_tuned_cv.fit(X, y)\n",
    "\n",
    "\n",
    "# # PREDICT step is not needed\n",
    "\n",
    "\n",
    "# # printing the optimal parameters and best score\n",
    "# print(\"Tuned Parameters  :\", logistic_tuned_cv.best_params_)\n",
    "# print(\"Tuned CV AUC      :\", logistic_tuned_cv.best_score_.round(4))\n"
   ]
  },
  {
   "cell_type": "code",
   "execution_count": 64,
   "metadata": {},
   "outputs": [],
   "source": [
    "# Storing tuned parameters in dictionary\n",
    "logistic_params = {'warm_start': False, 'tol': 0.8101, 'solver': 'newton-cg', \n",
    "                   'penalty': 'l2', 'multi_class': 'auto', \n",
    "                   'class_weight': 'balanced', 'C': 0.8}\n",
    "\n",
    "# Setting tuned parameters\n",
    "logistic_regression = logistic_regression.set_params(**logistic_params)"
   ]
  },
  {
   "cell_type": "code",
   "execution_count": 65,
   "metadata": {},
   "outputs": [],
   "source": [
    "# logistic_regression = logistic_tuned_cv.best_estimator_"
   ]
  },
  {
   "cell_type": "markdown",
   "metadata": {},
   "source": [
    "### K-Nearest Neighbors Classification (KNN)"
   ]
  },
  {
   "cell_type": "code",
   "execution_count": 66,
   "metadata": {},
   "outputs": [],
   "source": [
    "# Instantiating KNN model\n",
    "knn_classifier = KNeighborsClassifier()"
   ]
  },
  {
   "cell_type": "code",
   "execution_count": 67,
   "metadata": {},
   "outputs": [],
   "source": [
    "# # Hyperparameter tuning \n",
    "\n",
    "# # declaring a hyperparameter space\n",
    "# n_neighbors_space          = np.arange(15,25,1)\n",
    "# weights_space = ['uniform','distance']\n",
    "# algorithm_space          = ['auto','ball_tree','kd_tree','brute']\n",
    "# leaf_size_space = np.arange(15,30,5)\n",
    "# p_space = [1,2]\n",
    "\n",
    "# # creating a hyperparameter grid\n",
    "# param_grid = {'n_neighbors' : n_neighbors_space,\n",
    "#               'weights'   : weights_space,\n",
    "#                 'algorithm' : algorithm_space ,\n",
    "#               'leaf_size': leaf_size_space,\n",
    "#               'p' : p_space\n",
    "#              }\n",
    "\n",
    "\n",
    "# # INSTANTIATING the model object without hyperparameters\n",
    "# knn_tuned = knn_classifier\n",
    "\n",
    "\n",
    "\n",
    "# # RandomizedSearchCV object\n",
    "# knn_tuned_cv = RandomizedSearchCV(estimator           = knn_tuned,   # the model object\n",
    "#                                  param_distributions = param_grid, # parameters to tune\n",
    "#                                  cv                  = 3,          # how many folds in cross-validation\n",
    "#                                  n_iter              = 1000,        # number of combinations of hyperparameters to try\n",
    "#                                  random_state        = 219,        # starting point for random sequence\n",
    "#                                  scoring = make_scorer(\n",
    "#                                            roc_auc_score,\n",
    "#                                            needs_threshold = False)) # scoring criteria (AUC)\n",
    "\n",
    "\n",
    "\n",
    "\n",
    "# # FITTING to the FULL DATASET (due to cross-validation)\n",
    "# knn_tuned_cv.fit(X, y)\n",
    "\n",
    "\n",
    "# # PREDICT step is not needed\n",
    "\n",
    "\n",
    "# # printing the optimal parameters and best score\n",
    "# print(\"Tuned Parameters  :\", knn_tuned_cv.best_params_)\n",
    "# print(\"Tuned CV AUC      :\", knn_tuned_cv.best_score_.round(4))\n"
   ]
  },
  {
   "cell_type": "code",
   "execution_count": 68,
   "metadata": {},
   "outputs": [],
   "source": [
    "# Storing tuned parameters in dictionary\n",
    "knn_params = {'weights': 'uniform', 'p': 2, 'n_neighbors': 16, \n",
    "              'leaf_size': 15, 'algorithm': 'kd_tree'}\n",
    "\n",
    "# Setting tuned parameters\n",
    "knn_classifier = knn_classifier.set_params(**knn_params)"
   ]
  },
  {
   "cell_type": "code",
   "execution_count": 69,
   "metadata": {},
   "outputs": [],
   "source": [
    "# knn_classifier = knn_tuned_cv.best_estimator_"
   ]
  },
  {
   "cell_type": "markdown",
   "metadata": {},
   "source": [
    "### Classification Tree "
   ]
  },
  {
   "cell_type": "code",
   "execution_count": 70,
   "metadata": {},
   "outputs": [],
   "source": [
    "# Instantiating classification tree model\n",
    "tree_classifier = DecisionTreeClassifier()"
   ]
  },
  {
   "cell_type": "code",
   "execution_count": 71,
   "metadata": {},
   "outputs": [],
   "source": [
    "# # Hyperparameter tuning \n",
    "\n",
    "# # declaring a hyperparameter space\n",
    "# criterion_space          = ['gini', 'entropy']\n",
    "# splitter_space = ['best','random']\n",
    "# max_depth_space          = np.arange(2, 6, 1)\n",
    "# min_samples_leaf_space = np.arange(5, 15, 1)\n",
    "# min_samples_split_space = np.arange(2, 4, 1)\n",
    "# max_features_space     = ['auto', 'sqrt', 'log2']\n",
    "\n",
    "\n",
    "# # creating a hyperparameter grid\n",
    "# param_grid = {'criterion' : criterion_space,\n",
    "#               'splitter'   : splitter_space,\n",
    "#                 'max_depth'          : max_depth_space ,\n",
    "#               'min_samples_leaf' : min_samples_leaf_space,\n",
    "#               'min_samples_split'     : min_samples_split_space,\n",
    "#                'max_features'     : max_features_space}\n",
    "\n",
    "\n",
    "# # INSTANTIATING the model object without hyperparameters\n",
    "# tree_tuned = tree_classifier\n",
    "\n",
    "\n",
    "\n",
    "# # RandomizedSearchCV object\n",
    "# tree_tuned_cv = RandomizedSearchCV(estimator           = tree_tuned,   # the model object\n",
    "#                                  param_distributions = param_grid, # parameters to tune\n",
    "#                                  cv                  = 3,          # how many folds in cross-validation\n",
    "#                                  n_iter              = 1000,        # number of combinations of hyperparameters to try\n",
    "#                                  random_state        = 219,        # starting point for random sequence\n",
    "#                                  scoring = make_scorer(\n",
    "#                                            roc_auc_score,\n",
    "#                                            needs_threshold = False)) # scoring criteria (AUC)\n",
    "\n",
    "\n",
    "\n",
    "\n",
    "# # FITTING to the FULL DATASET (due to cross-validation)\n",
    "# tree_tuned_cv.fit(X, y)\n",
    "\n",
    "\n",
    "# # PREDICT step is not needed\n",
    "\n",
    "\n",
    "# # printing the optimal parameters and best score\n",
    "# print(\"Tuned Parameters  :\", tree_tuned_cv.best_params_)\n",
    "# print(\"Tuned CV AUC      :\", tree_tuned_cv.best_score_.round(4))\n"
   ]
  },
  {
   "cell_type": "code",
   "execution_count": 72,
   "metadata": {},
   "outputs": [],
   "source": [
    "# Storing tuned parameters in dictionary\n",
    "tree_params = {'splitter': 'best', 'min_samples_split': 3, 'min_samples_leaf': 6, \n",
    "               'max_features': 'auto', 'max_depth': 3, 'criterion': 'gini'}\n",
    "\n",
    "# Setting tuned parameters\n",
    "tree_classifier = tree_classifier.set_params(**tree_params)"
   ]
  },
  {
   "cell_type": "code",
   "execution_count": 73,
   "metadata": {},
   "outputs": [],
   "source": [
    "# tree_classifier = tree_tuned_cv.best_estimator_"
   ]
  },
  {
   "cell_type": "markdown",
   "metadata": {},
   "source": [
    "### Random Forest"
   ]
  },
  {
   "cell_type": "code",
   "execution_count": 74,
   "metadata": {},
   "outputs": [],
   "source": [
    "# Instantiating Random Forest model\n",
    "random_forest = RandomForestClassifier(max_depth=8)"
   ]
  },
  {
   "cell_type": "code",
   "execution_count": 75,
   "metadata": {},
   "outputs": [],
   "source": [
    "# # Hyperparameter tuning \n",
    "\n",
    "# # declaring a hyperparameter space\n",
    "# n_estimators_space          = np.arange(50, 150, 10)\n",
    "# max_depth_space  = np.arange(4, 8, 1)\n",
    "# min_samples_split_space  = np.arange(6, 10, 2)\n",
    "# min_samples_leaf_space  = np.arange(24, 30, 2)\n",
    "# max_features_space = [\"auto\", \"sqrt\", \"log2\"]\n",
    "# max_leaf_nodes_space = np.arange(40, 80, 10)\n",
    "# class_weight_space = ['balanced','balanced_subsample']\n",
    "\n",
    "\n",
    "# # creating a hyperparameter grid\n",
    "# param_grid = {'n_estimators' : n_estimators_space,\n",
    "#                 'max_depth'          : max_depth_space ,\n",
    "#                 'min_samples_split' : min_samples_split_space,\n",
    "#                 'min_samples_leaf'     : min_samples_leaf_space,\n",
    "#                 'max_features'     : max_features_space,\n",
    "#                 'max_leaf_nodes'     : max_leaf_nodes_space,\n",
    "#                 'class_weight'     : class_weight_space}\n",
    "\n",
    "\n",
    "# # INSTANTIATING the model object without hyperparameters\n",
    "# forest_tuned = random_forest\n",
    "\n",
    "\n",
    "\n",
    "# # RandomizedSearchCV object\n",
    "# forest_tuned_cv = RandomizedSearchCV(estimator           = forest_tuned,   # the model object\n",
    "#                                  param_distributions = param_grid, # parameters to tune\n",
    "#                                  cv                  = 3,          # how many folds in cross-validation\n",
    "#                                  n_iter              = 1000,        # number of combinations of hyperparameters to try\n",
    "#                                  random_state        = 219,        # starting point for random sequence\n",
    "#                                  scoring = make_scorer(\n",
    "#                                            roc_auc_score,\n",
    "#                                            needs_threshold = False)) # scoring criteria (AUC)\n",
    "\n",
    "\n",
    "\n",
    "\n",
    "# # FITTING to the FULL DATASET (due to cross-validation)\n",
    "# forest_tuned_cv.fit(X, y)\n",
    "\n",
    "\n",
    "# # PREDICT step is not needed\n",
    "\n",
    "\n",
    "# # printing the optimal parameters and best score\n",
    "# print(\"Tuned Parameters  :\", forest_tuned_cv.best_params_)\n",
    "# print(\"Tuned CV AUC      :\", forest_tuned_cv.best_score_.round(4))\n"
   ]
  },
  {
   "cell_type": "code",
   "execution_count": 76,
   "metadata": {},
   "outputs": [],
   "source": [
    "# Storing tuned parameters in dictionary\n",
    "forest_params = {'n_estimators': 100, 'min_samples_split': 6, 'min_samples_leaf': 26, \n",
    "                 'max_leaf_nodes': 40, 'max_features': 'auto', 'max_depth': 7, \n",
    "                 'class_weight': 'balanced'}\n",
    "\n",
    "# Setting tuned parameters\n",
    "random_forest = random_forest.set_params(**forest_params)"
   ]
  },
  {
   "cell_type": "code",
   "execution_count": 77,
   "metadata": {},
   "outputs": [],
   "source": [
    "# random_forest = forest_tuned_cv.best_estimator_"
   ]
  },
  {
   "cell_type": "markdown",
   "metadata": {},
   "source": [
    "### Gradient Boosted Models (GBM)"
   ]
  },
  {
   "cell_type": "code",
   "execution_count": 78,
   "metadata": {},
   "outputs": [],
   "source": [
    "# Instantiating GBM\n",
    "gradient_boosting = GradientBoostingClassifier(max_depth=8)"
   ]
  },
  {
   "cell_type": "code",
   "execution_count": 79,
   "metadata": {},
   "outputs": [],
   "source": [
    "# # Hyperparameter tuning \n",
    "\n",
    "# # declaring a hyperparameter space\n",
    "# n_estimators_space          = np.arange(50, 200, 20)\n",
    "# max_depth_space  = np.arange(3, 8, 1)\n",
    "# max_leaf_nodes_space = np.arange(10, 30, 2)\n",
    "\n",
    "\n",
    "# # creating a hyperparameter grid\n",
    "# param_grid = {\n",
    "#                 'n_estimators'          : n_estimators_space ,\n",
    "#                 'max_depth'     : max_depth_space,\n",
    "#              'max_leaf_nodes'     : max_leaf_nodes_space}\n",
    "\n",
    "\n",
    "# # INSTANTIATING the model object without hyperparameters\n",
    "# boost_tuned = gradient_boosting\n",
    "\n",
    "\n",
    "\n",
    "# # RandomizedSearchCV object\n",
    "# boost_tuned_cv = RandomizedSearchCV(estimator           = boost_tuned,   # the model object\n",
    "#                                  param_distributions = param_grid, # parameters to tune\n",
    "#                                  cv                  = 3,          # how many folds in cross-validation\n",
    "#                                  n_iter              = 1000,        # number of combinations of hyperparameters to try\n",
    "#                                  random_state        = 219,        # starting point for random sequence\n",
    "#                                  scoring = make_scorer(\n",
    "#                                            roc_auc_score,\n",
    "#                                            needs_threshold = False)) # scoring criteria (AUC)\n",
    "\n",
    "\n",
    "\n",
    "\n",
    "# # FITTING to the FULL DATASET (due to cross-validation)\n",
    "# boost_tuned_cv.fit(X, y)\n",
    "\n",
    "\n",
    "# # printing the optimal parameters and best score\n",
    "# print(\"Tuned Parameters  :\", boost_tuned_cv.best_params_)\n",
    "# print(\"Tuned CV AUC      :\", boost_tuned_cv.best_score_.round(4))\n"
   ]
  },
  {
   "cell_type": "code",
   "execution_count": 80,
   "metadata": {},
   "outputs": [],
   "source": [
    "# Storing tuned parameters in dictionary\n",
    "boost_params = {'n_estimators': 70, 'max_leaf_nodes': 12, 'max_depth': 4}\n",
    "\n",
    "# Setting tuned parameters\n",
    "gradient_boosting = gradient_boosting.set_params(**boost_params)"
   ]
  },
  {
   "cell_type": "code",
   "execution_count": 81,
   "metadata": {},
   "outputs": [],
   "source": [
    "# gradient_boosting = boost_tuned_cv.best_estimator_"
   ]
  },
  {
   "cell_type": "code",
   "execution_count": 82,
   "metadata": {},
   "outputs": [],
   "source": [
    "# # Plotting relative feature importance sa\n",
    "# plot_feature_importances(gradient_boosting, X_train, 15)"
   ]
  },
  {
   "cell_type": "markdown",
   "metadata": {},
   "source": [
    "Above we can observe that according to the trained and tuned GBM model, the following are the top 15 most important variables out of the total of 151 used to train the model. The most important feature is NAME_NUM, or the number of names that a customer has; The second is whether if the email of a customer is personal and not a junk or professional email; the third follows closely by being a professional email; the fourth is the number of characters in the full name of a customer. The next variables are the interaction between the log transforms of cancellations before noon and the average preparation video time; at last, the interaction of the log transform of contacts with customer service and cancellations before noon. "
   ]
  },
  {
   "cell_type": "markdown",
   "metadata": {},
   "source": [
    "## Model Performance Comparison"
   ]
  },
  {
   "cell_type": "code",
   "execution_count": 83,
   "metadata": {},
   "outputs": [],
   "source": [
    "# Runnign function gather score of models\n",
    "logistic_train_score, logistic_test_score, logistic_auc_score, logistic_c_matrix = metrics(logistic_regression,X,y,X_train,y_train,X_test,y_test)\n",
    "knn_train_score, knn_test_score, knn_auc_score, knn_c_matrix = metrics(knn_classifier,X,y,X_train,y_train,X_test,y_test)\n",
    "tree_train_score, tree_test_score, tree_auc_score, tree_c_matrix  = metrics(tree_classifier,X,y,X_train,y_train,X_test,y_test)\n",
    "random_train_score, random_test_score, random_auc_score, random_c_matrix  = metrics(random_forest,X,y,X_train,y_train,X_test,y_test)\n",
    "gradient_train_score, gradient_test_score, gradient_auc_score, gradient_c_matrix  = metrics(gradient_boosting,X,y,X_train,y_train,X_test,y_test)"
   ]
  },
  {
   "cell_type": "code",
   "execution_count": 84,
   "metadata": {},
   "outputs": [
    {
     "data": {
      "text/html": [
       "<div>\n",
       "<style scoped>\n",
       "    .dataframe tbody tr th:only-of-type {\n",
       "        vertical-align: middle;\n",
       "    }\n",
       "\n",
       "    .dataframe tbody tr th {\n",
       "        vertical-align: top;\n",
       "    }\n",
       "\n",
       "    .dataframe thead th {\n",
       "        text-align: right;\n",
       "    }\n",
       "</style>\n",
       "<table border=\"1\" class=\"dataframe\">\n",
       "  <thead>\n",
       "    <tr style=\"text-align: right;\">\n",
       "      <th></th>\n",
       "      <th>Model Type</th>\n",
       "      <th>AUC Score</th>\n",
       "      <th>Training Accuracy</th>\n",
       "      <th>Testing Accuracy</th>\n",
       "      <th>Confusion Matrix</th>\n",
       "    </tr>\n",
       "  </thead>\n",
       "  <tbody>\n",
       "    <tr>\n",
       "      <th>0</th>\n",
       "      <td>Logistic Regression</td>\n",
       "      <td>0.7202</td>\n",
       "      <td>0.7231</td>\n",
       "      <td>0.7187</td>\n",
       "      <td>(113, 43, 94, 237)</td>\n",
       "    </tr>\n",
       "    <tr>\n",
       "      <th>1</th>\n",
       "      <td>KNN</td>\n",
       "      <td>0.6293</td>\n",
       "      <td>0.7313</td>\n",
       "      <td>0.7310</td>\n",
       "      <td>(54, 102, 29, 302)</td>\n",
       "    </tr>\n",
       "    <tr>\n",
       "      <th>2</th>\n",
       "      <td>Decision Tree</td>\n",
       "      <td>0.5192</td>\n",
       "      <td>0.6765</td>\n",
       "      <td>0.6920</td>\n",
       "      <td>(6, 150, 0, 331)</td>\n",
       "    </tr>\n",
       "    <tr>\n",
       "      <th>3</th>\n",
       "      <td>Random Forest</td>\n",
       "      <td>0.7834</td>\n",
       "      <td>0.7903</td>\n",
       "      <td>0.8070</td>\n",
       "      <td>(112, 44, 50, 281)</td>\n",
       "    </tr>\n",
       "    <tr>\n",
       "      <th>4</th>\n",
       "      <td>GBM (Final Model)</td>\n",
       "      <td>0.8503</td>\n",
       "      <td>0.8794</td>\n",
       "      <td>0.8932</td>\n",
       "      <td>(114, 42, 10, 321)</td>\n",
       "    </tr>\n",
       "  </tbody>\n",
       "</table>\n",
       "</div>"
      ],
      "text/plain": [
       "            Model Type  AUC Score  Training Accuracy  Testing Accuracy  \\\n",
       "0  Logistic Regression     0.7202             0.7231            0.7187   \n",
       "1                  KNN     0.6293             0.7313            0.7310   \n",
       "2        Decision Tree     0.5192             0.6765            0.6920   \n",
       "3        Random Forest     0.7834             0.7903            0.8070   \n",
       "4    GBM (Final Model)     0.8503             0.8794            0.8932   \n",
       "\n",
       "     Confusion Matrix  \n",
       "0  (113, 43, 94, 237)  \n",
       "1  (54, 102, 29, 302)  \n",
       "2    (6, 150, 0, 331)  \n",
       "3  (112, 44, 50, 281)  \n",
       "4  (114, 42, 10, 321)  "
      ]
     },
     "execution_count": 84,
     "metadata": {},
     "output_type": "execute_result"
    }
   ],
   "source": [
    "# creating a dictionary to store model results\n",
    "model_performance = {\n",
    "    \n",
    "    'Model Type'    : ['Logistic Regression', 'KNN','Decision Tree', 'Random Forest', 'GBM (Final Model)'],\n",
    "           \n",
    "    \n",
    "    'AUC Score'  : [logistic_auc_score,\n",
    "                    knn_auc_score, tree_auc_score,random_auc_score,gradient_auc_score],\n",
    "    \n",
    "    'Training Accuracy' : [logistic_train_score,\n",
    "                        knn_train_score, tree_train_score,random_train_score,gradient_train_score],\n",
    "           \n",
    "    'Testing Accuracy'  : [logistic_test_score,\n",
    "                        knn_test_score, tree_test_score,random_test_score,gradient_test_score],\n",
    "    \n",
    "    'Confusion Matrix' : [logistic_c_matrix, knn_c_matrix, tree_c_matrix, random_c_matrix, gradient_c_matrix]\n",
    "\n",
    "}\n",
    "\n",
    "\n",
    "# converting model_performance into a DataFrame\n",
    "model_performance = pd.DataFrame(model_performance)\n",
    "model_performance"
   ]
  },
  {
   "cell_type": "markdown",
   "metadata": {},
   "source": [
    "We selected Gradient Boosting Machine as the model with the highest test ROC AUC score with 0.8501. All models are run on the full dataset with a total of 151 features. "
   ]
  },
  {
   "cell_type": "code",
   "execution_count": 85,
   "metadata": {},
   "outputs": [
    {
     "name": "stdout",
     "output_type": "stream",
     "text": [
      "Time in Seconds: 15.46\n"
     ]
    }
   ],
   "source": [
    "# Number of Seconds to run the script\n",
    "end = time.time()\n",
    "print(\"Time in Seconds:\", round(end - start,2))"
   ]
  },
  {
   "cell_type": "code",
   "execution_count": null,
   "metadata": {},
   "outputs": [],
   "source": []
  }
 ],
 "metadata": {
  "kernelspec": {
   "display_name": "Python 3",
   "language": "python",
   "name": "python3"
  },
  "language_info": {
   "codemirror_mode": {
    "name": "ipython",
    "version": 3
   },
   "file_extension": ".py",
   "mimetype": "text/x-python",
   "name": "python",
   "nbconvert_exporter": "python",
   "pygments_lexer": "ipython3",
   "version": "3.8.3"
  },
  "toc": {
   "base_numbering": 1,
   "nav_menu": {},
   "number_sections": true,
   "sideBar": true,
   "skip_h1_title": false,
   "title_cell": "Table of Contents",
   "title_sidebar": "Contents",
   "toc_cell": false,
   "toc_position": {
    "height": "calc(100% - 180px)",
    "left": "10px",
    "top": "150px",
    "width": "349.091px"
   },
   "toc_section_display": true,
   "toc_window_display": true
  },
  "varInspector": {
   "cols": {
    "lenName": 16,
    "lenType": 16,
    "lenVar": 40
   },
   "kernels_config": {
    "python": {
     "delete_cmd_postfix": "",
     "delete_cmd_prefix": "del ",
     "library": "var_list.py",
     "varRefreshCmd": "print(var_dic_list())"
    },
    "r": {
     "delete_cmd_postfix": ") ",
     "delete_cmd_prefix": "rm(",
     "library": "var_list.r",
     "varRefreshCmd": "cat(var_dic_list()) "
    }
   },
   "types_to_exclude": [
    "module",
    "function",
    "builtin_function_or_method",
    "instance",
    "_Feature"
   ],
   "window_display": false
  }
 },
 "nbformat": 4,
 "nbformat_minor": 4
}
